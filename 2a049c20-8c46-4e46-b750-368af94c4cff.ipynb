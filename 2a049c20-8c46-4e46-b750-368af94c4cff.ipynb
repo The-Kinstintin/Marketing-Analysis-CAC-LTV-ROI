{
 "cells": [
  {
   "cell_type": "markdown",
   "metadata": {},
   "source": [
    "### Инструкция по выполнению проекта:\n",
    "\n",
    "Вы - маркетинговый аналитик развлекательного приложения Procrastinate Pro+. Несколько прошлых месяцев ваш бизнес постоянно нес убытки - в привлечение пользователей была вложена куча денег, а толку никакого. Вам нужно разобраться в причинах этой ситуации.\n",
    "\n",
    "У вас в распоряжении есть лог сервера с данными о посещениях приложения новыми пользователями, зарегистрировавшимися в период с 2019-05-01 по 2019-10-27, выгрузка их покупок за этот период, а также статистика рекламных расходов. Вам предстоит изучить, как люди пользуются продуктом, когда они начинают покупать, сколько денег приносит каждый клиент, когда он окупается и какие факторы отрицательно влияют на привлечение пользователей.\n",
    "\n",
    "#### Шаг 1. Загрузите данные и подготовьте их к анализу\n",
    "Загрузите данные о визитах, заказах и расходах в переменные. Оптимизируйте данные для анализа. Убедитесь, что тип данных в каждой колонке — правильный. Путь к файлам:\n",
    "\n",
    " -   /datasets/visits_info_short.csv. Скачать датасет\n",
    " -   /datasets/orders_info_short.csv. Скачать датасет\n",
    " -   /datasets/costs_info_short.csv. Скачать датасет\n",
    " \n",
    "#### Шаг 2. Задайте функции для расчета и анализа LTV, ROI, удержания и конверсии\n",
    "\n",
    "Разрешается использовать функции, с которыми вы познакомились в теоретических уроках.\n",
    "\n",
    "#### Шаг 3. Проведите исследовательский анализ данных\n",
    "\n",
    "Постройте профили пользователей. Определите минимальную и максимальную дату привлечения пользователей.\n",
    "\n",
    "Выясните:\n",
    "- Из каких стран приходят посетители? Какие страны дают больше всего платящих пользователей?\n",
    "- Какими устройствами они пользуются? С каких устройств чаще всего заходят платящие пользователи?\n",
    "- По каким рекламным каналам шло привлечение пользователей? Какие каналы приносят больше всего платящих пользователей?.\n",
    "\n",
    "#### Шаг 4. Маркетинг\n",
    "Выясните:\n",
    "\n",
    "- Сколько денег потратили? Всего / на каждый источник / по времени\n",
    "- Сколько в среднем стоило привлечение одного покупателя из каждого источника?\n",
    "\n",
    "#### Шаг 5. Оцените окупаемость рекламы для привлечения пользователей\n",
    "\n",
    "С помощью LTV и ROI:\n",
    "- Проанализируйте общую окупаемость рекламы;\n",
    "- Проанализируйте окупаемость рекламы с разбивкой по устройствам;\n",
    "- Проанализируйте окупаемость рекламы с разбивкой по странам;\n",
    "- Проанализируйте окупаемость рекламы с разбивкой по рекламным каналам.\n",
    "\n",
    "Опишите проблемы, которые вы обнаружили. Ответьте на вопросы:\n",
    "- Окупается ли реклама, направленная на привлечение пользователей в целом? \n",
    "- Какие устройства, страны и рекламные каналы могут оказывать негативное влияние на окупаемость рекламы?\n",
    "- Чем могут быть вызваны проблемы окупаемости? Изучите конверсию и удержание с разбивкой по устройствам, странам, рекламным каналам.\n",
    "\n",
    "Опишите возможные причины обнаруженных проблем и сформируйте рекомендации для рекламного отдела. При решении этого шага считайте, что вы смотрите данные 1-го ноября 2019 года и что в вашей организации принято считать, что окупаемость должна наступать не позднее, чем через 2 недели после привлечения пользователей.\n",
    "\n",
    "Подумайте, нужно ли включать в анализ органических пользователей?\n",
    "\n",
    "#### Шаг 6. Напишите выводы\n",
    "- Выделите причины неэффективности привлечения пользователей;\n",
    "- Сформируйте рекомендации для отдела маркетинга для повышения эффективности.\n",
    "\n",
    "#### Оформление: \n",
    "Задание выполните в Jupyter Notebook. Программный код заполните в ячейках типа code, текстовые пояснения — в ячейках типа markdown. Примените форматирование и заголовки.\n",
    "\n",
    "\n",
    "#### Описание данных\n",
    "Таблица visits_log_short (лог сервера с информацией о посещениях сайта):\n",
    "\n",
    "    User Id — уникальный идентификатор пользователя\n",
    "    Device — категория устройства пользователя\n",
    "    Session start — дата и время начала сессии\n",
    "    Session End — дата и время окончания сессии\n",
    "    Channel — идентификатор рекламного источника, из которого пришел пользователь\n",
    "    Region - страна пользователя\n",
    "\n",
    "Таблица orders_log_short (информация о заказах):\n",
    "\n",
    "    User Id — уникальный id пользователя, который сделал заказ\n",
    "    Event Dt — дата и время покупки\n",
    "    Revenue — выручка\n",
    "\n",
    "Таблица costs_short (информация о затратах на маркетинг):\n",
    "\n",
    "    Channel — идентификатор рекламного источника\n",
    "    Dt — дата\n",
    "    Costs — затраты на этот рекламный источник в этот день"
   ]
  },
  {
   "cell_type": "markdown",
   "metadata": {},
   "source": [
    "# Шаг 1. Загрузите данные и подготовьте их к анализу\n",
    "Загрузите данные о визитах, заказах и расходах в переменные. Оптимизируйте данные для анализа. Убедитесь, что тип данных в каждой колонке — правильный. Путь к файлам:\n",
    "\n",
    " -   /datasets/visits_info_short.csv. \n",
    " -   /datasets/orders_info_short.csv. \n",
    " -   /datasets/costs_info_short.csv."
   ]
  },
  {
   "cell_type": "code",
   "execution_count": 1,
   "metadata": {},
   "outputs": [],
   "source": [
    "import pandas as pd\n",
    "pd.set_option('max_columns', 100)\n",
    "from datetime import datetime, timedelta\n",
    "import matplotlib.pyplot as plt\n",
    "import numpy as np"
   ]
  },
  {
   "cell_type": "code",
   "execution_count": 2,
   "metadata": {},
   "outputs": [],
   "source": [
    "visits = pd.read_csv('/datasets/visits_info_short.csv')\n",
    "orders = pd.read_csv('/datasets/orders_info_short.csv')\n",
    "costs = pd.read_csv('/datasets/costs_info_short.csv')\n",
    "\n"
   ]
  },
  {
   "cell_type": "code",
   "execution_count": 3,
   "metadata": {},
   "outputs": [
    {
     "name": "stdout",
     "output_type": "stream",
     "text": [
      "\n",
      "============================================================================================\n",
      "\n",
      "Visits data overview\n"
     ]
    },
    {
     "data": {
      "text/html": [
       "<div>\n",
       "<style scoped>\n",
       "    .dataframe tbody tr th:only-of-type {\n",
       "        vertical-align: middle;\n",
       "    }\n",
       "\n",
       "    .dataframe tbody tr th {\n",
       "        vertical-align: top;\n",
       "    }\n",
       "\n",
       "    .dataframe thead th {\n",
       "        text-align: right;\n",
       "    }\n",
       "</style>\n",
       "<table border=\"1\" class=\"dataframe\">\n",
       "  <thead>\n",
       "    <tr style=\"text-align: right;\">\n",
       "      <th></th>\n",
       "      <th>User Id</th>\n",
       "      <th>Region</th>\n",
       "      <th>Device</th>\n",
       "      <th>Channel</th>\n",
       "      <th>Session Start</th>\n",
       "      <th>Session End</th>\n",
       "    </tr>\n",
       "  </thead>\n",
       "  <tbody>\n",
       "    <tr>\n",
       "      <th>0</th>\n",
       "      <td>981449118918</td>\n",
       "      <td>United States</td>\n",
       "      <td>iPhone</td>\n",
       "      <td>organic</td>\n",
       "      <td>2019-05-01 02:36:01</td>\n",
       "      <td>2019-05-01 02:45:01</td>\n",
       "    </tr>\n",
       "    <tr>\n",
       "      <th>1</th>\n",
       "      <td>278965908054</td>\n",
       "      <td>United States</td>\n",
       "      <td>iPhone</td>\n",
       "      <td>organic</td>\n",
       "      <td>2019-05-01 04:46:31</td>\n",
       "      <td>2019-05-01 04:47:35</td>\n",
       "    </tr>\n",
       "    <tr>\n",
       "      <th>2</th>\n",
       "      <td>590706206550</td>\n",
       "      <td>United States</td>\n",
       "      <td>Mac</td>\n",
       "      <td>organic</td>\n",
       "      <td>2019-05-01 14:09:25</td>\n",
       "      <td>2019-05-01 15:32:08</td>\n",
       "    </tr>\n",
       "    <tr>\n",
       "      <th>3</th>\n",
       "      <td>326433527971</td>\n",
       "      <td>United States</td>\n",
       "      <td>Android</td>\n",
       "      <td>TipTop</td>\n",
       "      <td>2019-05-01 00:29:59</td>\n",
       "      <td>2019-05-01 00:54:25</td>\n",
       "    </tr>\n",
       "    <tr>\n",
       "      <th>4</th>\n",
       "      <td>349773784594</td>\n",
       "      <td>United States</td>\n",
       "      <td>Mac</td>\n",
       "      <td>organic</td>\n",
       "      <td>2019-05-01 03:33:35</td>\n",
       "      <td>2019-05-01 03:57:40</td>\n",
       "    </tr>\n",
       "  </tbody>\n",
       "</table>\n",
       "</div>"
      ],
      "text/plain": [
       "        User Id         Region   Device  Channel        Session Start  \\\n",
       "0  981449118918  United States   iPhone  organic  2019-05-01 02:36:01   \n",
       "1  278965908054  United States   iPhone  organic  2019-05-01 04:46:31   \n",
       "2  590706206550  United States      Mac  organic  2019-05-01 14:09:25   \n",
       "3  326433527971  United States  Android   TipTop  2019-05-01 00:29:59   \n",
       "4  349773784594  United States      Mac  organic  2019-05-01 03:33:35   \n",
       "\n",
       "           Session End  \n",
       "0  2019-05-01 02:45:01  \n",
       "1  2019-05-01 04:47:35  \n",
       "2  2019-05-01 15:32:08  \n",
       "3  2019-05-01 00:54:25  \n",
       "4  2019-05-01 03:57:40  "
      ]
     },
     "metadata": {},
     "output_type": "display_data"
    },
    {
     "name": "stdout",
     "output_type": "stream",
     "text": [
      "\n",
      "Visits size of DataFrame: (309901, 6)\n",
      "\n",
      "Visits check the Dtype and Null values\n",
      "<class 'pandas.core.frame.DataFrame'>\n",
      "RangeIndex: 309901 entries, 0 to 309900\n",
      "Data columns (total 6 columns):\n",
      " #   Column         Non-Null Count   Dtype \n",
      "---  ------         --------------   ----- \n",
      " 0   User Id        309901 non-null  int64 \n",
      " 1   Region         309901 non-null  object\n",
      " 2   Device         309901 non-null  object\n",
      " 3   Channel        309901 non-null  object\n",
      " 4   Session Start  309901 non-null  object\n",
      " 5   Session End    309901 non-null  object\n",
      "dtypes: int64(1), object(5)\n",
      "memory usage: 14.2+ MB\n",
      "\n",
      "Number of dulplicates: 0\n",
      "\n",
      "============================================================================================\n",
      "\n",
      "Orders data overview\n"
     ]
    },
    {
     "data": {
      "text/html": [
       "<div>\n",
       "<style scoped>\n",
       "    .dataframe tbody tr th:only-of-type {\n",
       "        vertical-align: middle;\n",
       "    }\n",
       "\n",
       "    .dataframe tbody tr th {\n",
       "        vertical-align: top;\n",
       "    }\n",
       "\n",
       "    .dataframe thead th {\n",
       "        text-align: right;\n",
       "    }\n",
       "</style>\n",
       "<table border=\"1\" class=\"dataframe\">\n",
       "  <thead>\n",
       "    <tr style=\"text-align: right;\">\n",
       "      <th></th>\n",
       "      <th>User Id</th>\n",
       "      <th>Event Dt</th>\n",
       "      <th>Revenue</th>\n",
       "    </tr>\n",
       "  </thead>\n",
       "  <tbody>\n",
       "    <tr>\n",
       "      <th>0</th>\n",
       "      <td>188246423999</td>\n",
       "      <td>2019-05-01 23:09:52</td>\n",
       "      <td>4.99</td>\n",
       "    </tr>\n",
       "    <tr>\n",
       "      <th>1</th>\n",
       "      <td>174361394180</td>\n",
       "      <td>2019-05-01 12:24:04</td>\n",
       "      <td>4.99</td>\n",
       "    </tr>\n",
       "    <tr>\n",
       "      <th>2</th>\n",
       "      <td>529610067795</td>\n",
       "      <td>2019-05-01 11:34:04</td>\n",
       "      <td>4.99</td>\n",
       "    </tr>\n",
       "    <tr>\n",
       "      <th>3</th>\n",
       "      <td>319939546352</td>\n",
       "      <td>2019-05-01 15:34:40</td>\n",
       "      <td>4.99</td>\n",
       "    </tr>\n",
       "    <tr>\n",
       "      <th>4</th>\n",
       "      <td>366000285810</td>\n",
       "      <td>2019-05-01 13:59:51</td>\n",
       "      <td>4.99</td>\n",
       "    </tr>\n",
       "  </tbody>\n",
       "</table>\n",
       "</div>"
      ],
      "text/plain": [
       "        User Id             Event Dt  Revenue\n",
       "0  188246423999  2019-05-01 23:09:52     4.99\n",
       "1  174361394180  2019-05-01 12:24:04     4.99\n",
       "2  529610067795  2019-05-01 11:34:04     4.99\n",
       "3  319939546352  2019-05-01 15:34:40     4.99\n",
       "4  366000285810  2019-05-01 13:59:51     4.99"
      ]
     },
     "metadata": {},
     "output_type": "display_data"
    },
    {
     "name": "stdout",
     "output_type": "stream",
     "text": [
      "\n",
      "Orders size of DataFrame: (40212, 3)\n",
      "\n",
      "Orders check the Dtype and Null values\n",
      "<class 'pandas.core.frame.DataFrame'>\n",
      "RangeIndex: 40212 entries, 0 to 40211\n",
      "Data columns (total 3 columns):\n",
      " #   Column    Non-Null Count  Dtype  \n",
      "---  ------    --------------  -----  \n",
      " 0   User Id   40212 non-null  int64  \n",
      " 1   Event Dt  40212 non-null  object \n",
      " 2   Revenue   40212 non-null  float64\n",
      "dtypes: float64(1), int64(1), object(1)\n",
      "memory usage: 942.6+ KB\n",
      "\n",
      "Number of dulplicates: 0\n",
      "\n",
      "============================================================================================\n",
      "\n",
      "Costs data overview\n"
     ]
    },
    {
     "data": {
      "text/html": [
       "<div>\n",
       "<style scoped>\n",
       "    .dataframe tbody tr th:only-of-type {\n",
       "        vertical-align: middle;\n",
       "    }\n",
       "\n",
       "    .dataframe tbody tr th {\n",
       "        vertical-align: top;\n",
       "    }\n",
       "\n",
       "    .dataframe thead th {\n",
       "        text-align: right;\n",
       "    }\n",
       "</style>\n",
       "<table border=\"1\" class=\"dataframe\">\n",
       "  <thead>\n",
       "    <tr style=\"text-align: right;\">\n",
       "      <th></th>\n",
       "      <th>dt</th>\n",
       "      <th>Channel</th>\n",
       "      <th>costs</th>\n",
       "    </tr>\n",
       "  </thead>\n",
       "  <tbody>\n",
       "    <tr>\n",
       "      <th>0</th>\n",
       "      <td>2019-05-01</td>\n",
       "      <td>FaceBoom</td>\n",
       "      <td>113.3</td>\n",
       "    </tr>\n",
       "    <tr>\n",
       "      <th>1</th>\n",
       "      <td>2019-05-02</td>\n",
       "      <td>FaceBoom</td>\n",
       "      <td>78.1</td>\n",
       "    </tr>\n",
       "    <tr>\n",
       "      <th>2</th>\n",
       "      <td>2019-05-03</td>\n",
       "      <td>FaceBoom</td>\n",
       "      <td>85.8</td>\n",
       "    </tr>\n",
       "    <tr>\n",
       "      <th>3</th>\n",
       "      <td>2019-05-04</td>\n",
       "      <td>FaceBoom</td>\n",
       "      <td>136.4</td>\n",
       "    </tr>\n",
       "    <tr>\n",
       "      <th>4</th>\n",
       "      <td>2019-05-05</td>\n",
       "      <td>FaceBoom</td>\n",
       "      <td>122.1</td>\n",
       "    </tr>\n",
       "  </tbody>\n",
       "</table>\n",
       "</div>"
      ],
      "text/plain": [
       "           dt   Channel  costs\n",
       "0  2019-05-01  FaceBoom  113.3\n",
       "1  2019-05-02  FaceBoom   78.1\n",
       "2  2019-05-03  FaceBoom   85.8\n",
       "3  2019-05-04  FaceBoom  136.4\n",
       "4  2019-05-05  FaceBoom  122.1"
      ]
     },
     "metadata": {},
     "output_type": "display_data"
    },
    {
     "name": "stdout",
     "output_type": "stream",
     "text": [
      "\n",
      "Costs size of DataFrame: (1800, 3)\n",
      "\n",
      "Costs check the Dtype and Null values\n",
      "<class 'pandas.core.frame.DataFrame'>\n",
      "RangeIndex: 1800 entries, 0 to 1799\n",
      "Data columns (total 3 columns):\n",
      " #   Column   Non-Null Count  Dtype  \n",
      "---  ------   --------------  -----  \n",
      " 0   dt       1800 non-null   object \n",
      " 1   Channel  1800 non-null   object \n",
      " 2   costs    1800 non-null   float64\n",
      "dtypes: float64(1), object(2)\n",
      "memory usage: 42.3+ KB\n",
      "\n",
      "Number of dulplicates: 0\n"
     ]
    }
   ],
   "source": [
    "sets = [visits,orders,costs]\n",
    "set_name = ['Visits','Orders','Costs']\n",
    "\n",
    "def show_sets (dfs):\n",
    "    for i in range (0, len(dfs)):\n",
    "        print('')\n",
    "        print('============================================================================================')\n",
    "        print('')\n",
    "        print( set_name[i],'data overview' )\n",
    "        display(dfs[i].head())\n",
    "\n",
    "        print('')\n",
    "        print(set_name[i], 'size of DataFrame:', dfs[i].shape)\n",
    "        print('')\n",
    "\n",
    "        print( set_name[i], 'check the Dtype and Null values')\n",
    "        dfs[i].info()\n",
    "        print('')\n",
    "        print('Number of dulplicates:', len(dfs[i][dfs[i].duplicated()==True]))\n",
    "\n",
    "show_sets(sets)        "
   ]
  },
  {
   "cell_type": "markdown",
   "metadata": {},
   "source": [
    "First observation has showed no null values and no duplicates in data. \n",
    "\n",
    "Our next step will be transform data sets. We will change the name of columns to one standard (lower case, underscore) and change date columns to dt format\n",
    "\n",
    "+++ Kostyan pomenyai cvet +++"
   ]
  },
  {
   "cell_type": "code",
   "execution_count": 4,
   "metadata": {},
   "outputs": [
    {
     "data": {
      "text/html": [
       "<div>\n",
       "<style scoped>\n",
       "    .dataframe tbody tr th:only-of-type {\n",
       "        vertical-align: middle;\n",
       "    }\n",
       "\n",
       "    .dataframe tbody tr th {\n",
       "        vertical-align: top;\n",
       "    }\n",
       "\n",
       "    .dataframe thead th {\n",
       "        text-align: right;\n",
       "    }\n",
       "</style>\n",
       "<table border=\"1\" class=\"dataframe\">\n",
       "  <thead>\n",
       "    <tr style=\"text-align: right;\">\n",
       "      <th></th>\n",
       "      <th>user_id</th>\n",
       "      <th>region</th>\n",
       "      <th>device</th>\n",
       "      <th>channel</th>\n",
       "      <th>session_start</th>\n",
       "      <th>session_end</th>\n",
       "    </tr>\n",
       "  </thead>\n",
       "  <tbody>\n",
       "    <tr>\n",
       "      <th>0</th>\n",
       "      <td>981449118918</td>\n",
       "      <td>United States</td>\n",
       "      <td>iPhone</td>\n",
       "      <td>organic</td>\n",
       "      <td>2019-05-01 02:36:01</td>\n",
       "      <td>2019-05-01 02:45:01</td>\n",
       "    </tr>\n",
       "    <tr>\n",
       "      <th>1</th>\n",
       "      <td>278965908054</td>\n",
       "      <td>United States</td>\n",
       "      <td>iPhone</td>\n",
       "      <td>organic</td>\n",
       "      <td>2019-05-01 04:46:31</td>\n",
       "      <td>2019-05-01 04:47:35</td>\n",
       "    </tr>\n",
       "    <tr>\n",
       "      <th>2</th>\n",
       "      <td>590706206550</td>\n",
       "      <td>United States</td>\n",
       "      <td>Mac</td>\n",
       "      <td>organic</td>\n",
       "      <td>2019-05-01 14:09:25</td>\n",
       "      <td>2019-05-01 15:32:08</td>\n",
       "    </tr>\n",
       "    <tr>\n",
       "      <th>3</th>\n",
       "      <td>326433527971</td>\n",
       "      <td>United States</td>\n",
       "      <td>Android</td>\n",
       "      <td>TipTop</td>\n",
       "      <td>2019-05-01 00:29:59</td>\n",
       "      <td>2019-05-01 00:54:25</td>\n",
       "    </tr>\n",
       "    <tr>\n",
       "      <th>4</th>\n",
       "      <td>349773784594</td>\n",
       "      <td>United States</td>\n",
       "      <td>Mac</td>\n",
       "      <td>organic</td>\n",
       "      <td>2019-05-01 03:33:35</td>\n",
       "      <td>2019-05-01 03:57:40</td>\n",
       "    </tr>\n",
       "  </tbody>\n",
       "</table>\n",
       "</div>"
      ],
      "text/plain": [
       "        user_id         region   device  channel        session_start  \\\n",
       "0  981449118918  United States   iPhone  organic  2019-05-01 02:36:01   \n",
       "1  278965908054  United States   iPhone  organic  2019-05-01 04:46:31   \n",
       "2  590706206550  United States      Mac  organic  2019-05-01 14:09:25   \n",
       "3  326433527971  United States  Android   TipTop  2019-05-01 00:29:59   \n",
       "4  349773784594  United States      Mac  organic  2019-05-01 03:33:35   \n",
       "\n",
       "           session_end  \n",
       "0  2019-05-01 02:45:01  \n",
       "1  2019-05-01 04:47:35  \n",
       "2  2019-05-01 15:32:08  \n",
       "3  2019-05-01 00:54:25  \n",
       "4  2019-05-01 03:57:40  "
      ]
     },
     "metadata": {},
     "output_type": "display_data"
    },
    {
     "data": {
      "text/html": [
       "<div>\n",
       "<style scoped>\n",
       "    .dataframe tbody tr th:only-of-type {\n",
       "        vertical-align: middle;\n",
       "    }\n",
       "\n",
       "    .dataframe tbody tr th {\n",
       "        vertical-align: top;\n",
       "    }\n",
       "\n",
       "    .dataframe thead th {\n",
       "        text-align: right;\n",
       "    }\n",
       "</style>\n",
       "<table border=\"1\" class=\"dataframe\">\n",
       "  <thead>\n",
       "    <tr style=\"text-align: right;\">\n",
       "      <th></th>\n",
       "      <th>user_id</th>\n",
       "      <th>event_dt</th>\n",
       "      <th>revenue</th>\n",
       "    </tr>\n",
       "  </thead>\n",
       "  <tbody>\n",
       "    <tr>\n",
       "      <th>0</th>\n",
       "      <td>188246423999</td>\n",
       "      <td>2019-05-01 23:09:52</td>\n",
       "      <td>4.99</td>\n",
       "    </tr>\n",
       "    <tr>\n",
       "      <th>1</th>\n",
       "      <td>174361394180</td>\n",
       "      <td>2019-05-01 12:24:04</td>\n",
       "      <td>4.99</td>\n",
       "    </tr>\n",
       "    <tr>\n",
       "      <th>2</th>\n",
       "      <td>529610067795</td>\n",
       "      <td>2019-05-01 11:34:04</td>\n",
       "      <td>4.99</td>\n",
       "    </tr>\n",
       "    <tr>\n",
       "      <th>3</th>\n",
       "      <td>319939546352</td>\n",
       "      <td>2019-05-01 15:34:40</td>\n",
       "      <td>4.99</td>\n",
       "    </tr>\n",
       "    <tr>\n",
       "      <th>4</th>\n",
       "      <td>366000285810</td>\n",
       "      <td>2019-05-01 13:59:51</td>\n",
       "      <td>4.99</td>\n",
       "    </tr>\n",
       "  </tbody>\n",
       "</table>\n",
       "</div>"
      ],
      "text/plain": [
       "        user_id             event_dt  revenue\n",
       "0  188246423999  2019-05-01 23:09:52     4.99\n",
       "1  174361394180  2019-05-01 12:24:04     4.99\n",
       "2  529610067795  2019-05-01 11:34:04     4.99\n",
       "3  319939546352  2019-05-01 15:34:40     4.99\n",
       "4  366000285810  2019-05-01 13:59:51     4.99"
      ]
     },
     "metadata": {},
     "output_type": "display_data"
    },
    {
     "data": {
      "text/html": [
       "<div>\n",
       "<style scoped>\n",
       "    .dataframe tbody tr th:only-of-type {\n",
       "        vertical-align: middle;\n",
       "    }\n",
       "\n",
       "    .dataframe tbody tr th {\n",
       "        vertical-align: top;\n",
       "    }\n",
       "\n",
       "    .dataframe thead th {\n",
       "        text-align: right;\n",
       "    }\n",
       "</style>\n",
       "<table border=\"1\" class=\"dataframe\">\n",
       "  <thead>\n",
       "    <tr style=\"text-align: right;\">\n",
       "      <th></th>\n",
       "      <th>dt</th>\n",
       "      <th>channel</th>\n",
       "      <th>costs</th>\n",
       "    </tr>\n",
       "  </thead>\n",
       "  <tbody>\n",
       "    <tr>\n",
       "      <th>0</th>\n",
       "      <td>2019-05-01</td>\n",
       "      <td>FaceBoom</td>\n",
       "      <td>113.3</td>\n",
       "    </tr>\n",
       "    <tr>\n",
       "      <th>1</th>\n",
       "      <td>2019-05-02</td>\n",
       "      <td>FaceBoom</td>\n",
       "      <td>78.1</td>\n",
       "    </tr>\n",
       "    <tr>\n",
       "      <th>2</th>\n",
       "      <td>2019-05-03</td>\n",
       "      <td>FaceBoom</td>\n",
       "      <td>85.8</td>\n",
       "    </tr>\n",
       "    <tr>\n",
       "      <th>3</th>\n",
       "      <td>2019-05-04</td>\n",
       "      <td>FaceBoom</td>\n",
       "      <td>136.4</td>\n",
       "    </tr>\n",
       "    <tr>\n",
       "      <th>4</th>\n",
       "      <td>2019-05-05</td>\n",
       "      <td>FaceBoom</td>\n",
       "      <td>122.1</td>\n",
       "    </tr>\n",
       "  </tbody>\n",
       "</table>\n",
       "</div>"
      ],
      "text/plain": [
       "           dt   channel  costs\n",
       "0  2019-05-01  FaceBoom  113.3\n",
       "1  2019-05-02  FaceBoom   78.1\n",
       "2  2019-05-03  FaceBoom   85.8\n",
       "3  2019-05-04  FaceBoom  136.4\n",
       "4  2019-05-05  FaceBoom  122.1"
      ]
     },
     "metadata": {},
     "output_type": "display_data"
    }
   ],
   "source": [
    "for a in sets:\n",
    "    \n",
    "    col = list(a.columns)\n",
    "    \n",
    "    new_col = [] \n",
    "    \n",
    "    for i in a:\n",
    "    \n",
    "        i = i.lower().replace(' ','_')\n",
    "        new_col += [i]  \n",
    "    a.columns = new_col\n",
    "    display(a.head())\n",
    "\n",
    "visits['session_start'] = visits['session_start'].astype('datetime64[ns]')\n",
    "visits['session_end'] = visits['session_end'].astype('datetime64[ns]')\n",
    "orders['event_dt'] = orders['event_dt'].astype('datetime64[ns]')\n",
    "costs['dt'] = pd.to_datetime(costs['dt']).dt.date"
   ]
  },
  {
   "cell_type": "markdown",
   "metadata": {},
   "source": [
    "After all changes lets recheck all data sets"
   ]
  },
  {
   "cell_type": "code",
   "execution_count": 5,
   "metadata": {},
   "outputs": [
    {
     "name": "stdout",
     "output_type": "stream",
     "text": [
      "\n",
      "============================================================================================\n",
      "\n",
      "Visits data overview\n"
     ]
    },
    {
     "data": {
      "text/html": [
       "<div>\n",
       "<style scoped>\n",
       "    .dataframe tbody tr th:only-of-type {\n",
       "        vertical-align: middle;\n",
       "    }\n",
       "\n",
       "    .dataframe tbody tr th {\n",
       "        vertical-align: top;\n",
       "    }\n",
       "\n",
       "    .dataframe thead th {\n",
       "        text-align: right;\n",
       "    }\n",
       "</style>\n",
       "<table border=\"1\" class=\"dataframe\">\n",
       "  <thead>\n",
       "    <tr style=\"text-align: right;\">\n",
       "      <th></th>\n",
       "      <th>user_id</th>\n",
       "      <th>region</th>\n",
       "      <th>device</th>\n",
       "      <th>channel</th>\n",
       "      <th>session_start</th>\n",
       "      <th>session_end</th>\n",
       "    </tr>\n",
       "  </thead>\n",
       "  <tbody>\n",
       "    <tr>\n",
       "      <th>0</th>\n",
       "      <td>981449118918</td>\n",
       "      <td>United States</td>\n",
       "      <td>iPhone</td>\n",
       "      <td>organic</td>\n",
       "      <td>2019-05-01 02:36:01</td>\n",
       "      <td>2019-05-01 02:45:01</td>\n",
       "    </tr>\n",
       "    <tr>\n",
       "      <th>1</th>\n",
       "      <td>278965908054</td>\n",
       "      <td>United States</td>\n",
       "      <td>iPhone</td>\n",
       "      <td>organic</td>\n",
       "      <td>2019-05-01 04:46:31</td>\n",
       "      <td>2019-05-01 04:47:35</td>\n",
       "    </tr>\n",
       "    <tr>\n",
       "      <th>2</th>\n",
       "      <td>590706206550</td>\n",
       "      <td>United States</td>\n",
       "      <td>Mac</td>\n",
       "      <td>organic</td>\n",
       "      <td>2019-05-01 14:09:25</td>\n",
       "      <td>2019-05-01 15:32:08</td>\n",
       "    </tr>\n",
       "    <tr>\n",
       "      <th>3</th>\n",
       "      <td>326433527971</td>\n",
       "      <td>United States</td>\n",
       "      <td>Android</td>\n",
       "      <td>TipTop</td>\n",
       "      <td>2019-05-01 00:29:59</td>\n",
       "      <td>2019-05-01 00:54:25</td>\n",
       "    </tr>\n",
       "    <tr>\n",
       "      <th>4</th>\n",
       "      <td>349773784594</td>\n",
       "      <td>United States</td>\n",
       "      <td>Mac</td>\n",
       "      <td>organic</td>\n",
       "      <td>2019-05-01 03:33:35</td>\n",
       "      <td>2019-05-01 03:57:40</td>\n",
       "    </tr>\n",
       "  </tbody>\n",
       "</table>\n",
       "</div>"
      ],
      "text/plain": [
       "        user_id         region   device  channel       session_start  \\\n",
       "0  981449118918  United States   iPhone  organic 2019-05-01 02:36:01   \n",
       "1  278965908054  United States   iPhone  organic 2019-05-01 04:46:31   \n",
       "2  590706206550  United States      Mac  organic 2019-05-01 14:09:25   \n",
       "3  326433527971  United States  Android   TipTop 2019-05-01 00:29:59   \n",
       "4  349773784594  United States      Mac  organic 2019-05-01 03:33:35   \n",
       "\n",
       "          session_end  \n",
       "0 2019-05-01 02:45:01  \n",
       "1 2019-05-01 04:47:35  \n",
       "2 2019-05-01 15:32:08  \n",
       "3 2019-05-01 00:54:25  \n",
       "4 2019-05-01 03:57:40  "
      ]
     },
     "metadata": {},
     "output_type": "display_data"
    },
    {
     "name": "stdout",
     "output_type": "stream",
     "text": [
      "\n",
      "Visits size of DataFrame: (309901, 6)\n",
      "\n",
      "Visits check the Dtype and Null values\n",
      "<class 'pandas.core.frame.DataFrame'>\n",
      "RangeIndex: 309901 entries, 0 to 309900\n",
      "Data columns (total 6 columns):\n",
      " #   Column         Non-Null Count   Dtype         \n",
      "---  ------         --------------   -----         \n",
      " 0   user_id        309901 non-null  int64         \n",
      " 1   region         309901 non-null  object        \n",
      " 2   device         309901 non-null  object        \n",
      " 3   channel        309901 non-null  object        \n",
      " 4   session_start  309901 non-null  datetime64[ns]\n",
      " 5   session_end    309901 non-null  datetime64[ns]\n",
      "dtypes: datetime64[ns](2), int64(1), object(3)\n",
      "memory usage: 14.2+ MB\n",
      "\n",
      "Number of dulplicates: 0\n",
      "\n",
      "============================================================================================\n",
      "\n",
      "Orders data overview\n"
     ]
    },
    {
     "data": {
      "text/html": [
       "<div>\n",
       "<style scoped>\n",
       "    .dataframe tbody tr th:only-of-type {\n",
       "        vertical-align: middle;\n",
       "    }\n",
       "\n",
       "    .dataframe tbody tr th {\n",
       "        vertical-align: top;\n",
       "    }\n",
       "\n",
       "    .dataframe thead th {\n",
       "        text-align: right;\n",
       "    }\n",
       "</style>\n",
       "<table border=\"1\" class=\"dataframe\">\n",
       "  <thead>\n",
       "    <tr style=\"text-align: right;\">\n",
       "      <th></th>\n",
       "      <th>user_id</th>\n",
       "      <th>event_dt</th>\n",
       "      <th>revenue</th>\n",
       "    </tr>\n",
       "  </thead>\n",
       "  <tbody>\n",
       "    <tr>\n",
       "      <th>0</th>\n",
       "      <td>188246423999</td>\n",
       "      <td>2019-05-01 23:09:52</td>\n",
       "      <td>4.99</td>\n",
       "    </tr>\n",
       "    <tr>\n",
       "      <th>1</th>\n",
       "      <td>174361394180</td>\n",
       "      <td>2019-05-01 12:24:04</td>\n",
       "      <td>4.99</td>\n",
       "    </tr>\n",
       "    <tr>\n",
       "      <th>2</th>\n",
       "      <td>529610067795</td>\n",
       "      <td>2019-05-01 11:34:04</td>\n",
       "      <td>4.99</td>\n",
       "    </tr>\n",
       "    <tr>\n",
       "      <th>3</th>\n",
       "      <td>319939546352</td>\n",
       "      <td>2019-05-01 15:34:40</td>\n",
       "      <td>4.99</td>\n",
       "    </tr>\n",
       "    <tr>\n",
       "      <th>4</th>\n",
       "      <td>366000285810</td>\n",
       "      <td>2019-05-01 13:59:51</td>\n",
       "      <td>4.99</td>\n",
       "    </tr>\n",
       "  </tbody>\n",
       "</table>\n",
       "</div>"
      ],
      "text/plain": [
       "        user_id            event_dt  revenue\n",
       "0  188246423999 2019-05-01 23:09:52     4.99\n",
       "1  174361394180 2019-05-01 12:24:04     4.99\n",
       "2  529610067795 2019-05-01 11:34:04     4.99\n",
       "3  319939546352 2019-05-01 15:34:40     4.99\n",
       "4  366000285810 2019-05-01 13:59:51     4.99"
      ]
     },
     "metadata": {},
     "output_type": "display_data"
    },
    {
     "name": "stdout",
     "output_type": "stream",
     "text": [
      "\n",
      "Orders size of DataFrame: (40212, 3)\n",
      "\n",
      "Orders check the Dtype and Null values\n",
      "<class 'pandas.core.frame.DataFrame'>\n",
      "RangeIndex: 40212 entries, 0 to 40211\n",
      "Data columns (total 3 columns):\n",
      " #   Column    Non-Null Count  Dtype         \n",
      "---  ------    --------------  -----         \n",
      " 0   user_id   40212 non-null  int64         \n",
      " 1   event_dt  40212 non-null  datetime64[ns]\n",
      " 2   revenue   40212 non-null  float64       \n",
      "dtypes: datetime64[ns](1), float64(1), int64(1)\n",
      "memory usage: 942.6 KB\n",
      "\n",
      "Number of dulplicates: 0\n",
      "\n",
      "============================================================================================\n",
      "\n",
      "Costs data overview\n"
     ]
    },
    {
     "data": {
      "text/html": [
       "<div>\n",
       "<style scoped>\n",
       "    .dataframe tbody tr th:only-of-type {\n",
       "        vertical-align: middle;\n",
       "    }\n",
       "\n",
       "    .dataframe tbody tr th {\n",
       "        vertical-align: top;\n",
       "    }\n",
       "\n",
       "    .dataframe thead th {\n",
       "        text-align: right;\n",
       "    }\n",
       "</style>\n",
       "<table border=\"1\" class=\"dataframe\">\n",
       "  <thead>\n",
       "    <tr style=\"text-align: right;\">\n",
       "      <th></th>\n",
       "      <th>dt</th>\n",
       "      <th>channel</th>\n",
       "      <th>costs</th>\n",
       "    </tr>\n",
       "  </thead>\n",
       "  <tbody>\n",
       "    <tr>\n",
       "      <th>0</th>\n",
       "      <td>2019-05-01</td>\n",
       "      <td>FaceBoom</td>\n",
       "      <td>113.3</td>\n",
       "    </tr>\n",
       "    <tr>\n",
       "      <th>1</th>\n",
       "      <td>2019-05-02</td>\n",
       "      <td>FaceBoom</td>\n",
       "      <td>78.1</td>\n",
       "    </tr>\n",
       "    <tr>\n",
       "      <th>2</th>\n",
       "      <td>2019-05-03</td>\n",
       "      <td>FaceBoom</td>\n",
       "      <td>85.8</td>\n",
       "    </tr>\n",
       "    <tr>\n",
       "      <th>3</th>\n",
       "      <td>2019-05-04</td>\n",
       "      <td>FaceBoom</td>\n",
       "      <td>136.4</td>\n",
       "    </tr>\n",
       "    <tr>\n",
       "      <th>4</th>\n",
       "      <td>2019-05-05</td>\n",
       "      <td>FaceBoom</td>\n",
       "      <td>122.1</td>\n",
       "    </tr>\n",
       "  </tbody>\n",
       "</table>\n",
       "</div>"
      ],
      "text/plain": [
       "           dt   channel  costs\n",
       "0  2019-05-01  FaceBoom  113.3\n",
       "1  2019-05-02  FaceBoom   78.1\n",
       "2  2019-05-03  FaceBoom   85.8\n",
       "3  2019-05-04  FaceBoom  136.4\n",
       "4  2019-05-05  FaceBoom  122.1"
      ]
     },
     "metadata": {},
     "output_type": "display_data"
    },
    {
     "name": "stdout",
     "output_type": "stream",
     "text": [
      "\n",
      "Costs size of DataFrame: (1800, 3)\n",
      "\n",
      "Costs check the Dtype and Null values\n",
      "<class 'pandas.core.frame.DataFrame'>\n",
      "RangeIndex: 1800 entries, 0 to 1799\n",
      "Data columns (total 3 columns):\n",
      " #   Column   Non-Null Count  Dtype  \n",
      "---  ------   --------------  -----  \n",
      " 0   dt       1800 non-null   object \n",
      " 1   channel  1800 non-null   object \n",
      " 2   costs    1800 non-null   float64\n",
      "dtypes: float64(1), object(2)\n",
      "memory usage: 42.3+ KB\n",
      "\n",
      "Number of dulplicates: 0\n"
     ]
    }
   ],
   "source": [
    "show_sets(sets)\n",
    "    "
   ]
  },
  {
   "cell_type": "markdown",
   "metadata": {},
   "source": [
    "Data clearence and transformation is compleeted. It is a time to start our analysis"
   ]
  },
  {
   "cell_type": "markdown",
   "metadata": {},
   "source": [
    "EDA analysis of datasets:"
   ]
  },
  {
   "cell_type": "markdown",
   "metadata": {},
   "source": [
    "Fisrt we analyse visits."
   ]
  },
  {
   "cell_type": "markdown",
   "metadata": {},
   "source": [
    "Check of Time properties of visits. \n",
    "First time window"
   ]
  },
  {
   "cell_type": "code",
   "execution_count": 6,
   "metadata": {},
   "outputs": [
    {
     "data": {
      "text/html": [
       "<div>\n",
       "<style scoped>\n",
       "    .dataframe tbody tr th:only-of-type {\n",
       "        vertical-align: middle;\n",
       "    }\n",
       "\n",
       "    .dataframe tbody tr th {\n",
       "        vertical-align: top;\n",
       "    }\n",
       "\n",
       "    .dataframe thead th {\n",
       "        text-align: right;\n",
       "    }\n",
       "</style>\n",
       "<table border=\"1\" class=\"dataframe\">\n",
       "  <thead>\n",
       "    <tr style=\"text-align: right;\">\n",
       "      <th></th>\n",
       "      <th>user_id</th>\n",
       "      <th>region</th>\n",
       "      <th>device</th>\n",
       "      <th>channel</th>\n",
       "      <th>session_start</th>\n",
       "      <th>session_end</th>\n",
       "    </tr>\n",
       "  </thead>\n",
       "  <tbody>\n",
       "    <tr>\n",
       "      <th>461</th>\n",
       "      <td>382394863972</td>\n",
       "      <td>United States</td>\n",
       "      <td>Mac</td>\n",
       "      <td>MediaTornado</td>\n",
       "      <td>2019-05-01 00:00:41</td>\n",
       "      <td>2019-05-01 01:13:45</td>\n",
       "    </tr>\n",
       "    <tr>\n",
       "      <th>207360</th>\n",
       "      <td>428935481941</td>\n",
       "      <td>UK</td>\n",
       "      <td>PC</td>\n",
       "      <td>AdNonSense</td>\n",
       "      <td>2019-05-01 00:01:35</td>\n",
       "      <td>2019-05-01 02:30:30</td>\n",
       "    </tr>\n",
       "    <tr>\n",
       "      <th>207335</th>\n",
       "      <td>86266511938</td>\n",
       "      <td>Germany</td>\n",
       "      <td>Android</td>\n",
       "      <td>organic</td>\n",
       "      <td>2019-05-01 00:02:38</td>\n",
       "      <td>2019-05-01 01:22:33</td>\n",
       "    </tr>\n",
       "    <tr>\n",
       "      <th>207379</th>\n",
       "      <td>763000657462</td>\n",
       "      <td>UK</td>\n",
       "      <td>PC</td>\n",
       "      <td>organic</td>\n",
       "      <td>2019-05-01 00:04:21</td>\n",
       "      <td>2019-05-01 00:24:15</td>\n",
       "    </tr>\n",
       "    <tr>\n",
       "      <th>207599</th>\n",
       "      <td>791058813280</td>\n",
       "      <td>France</td>\n",
       "      <td>Android</td>\n",
       "      <td>LeapBob</td>\n",
       "      <td>2019-05-01 00:05:17</td>\n",
       "      <td>2019-05-01 01:14:51</td>\n",
       "    </tr>\n",
       "  </tbody>\n",
       "</table>\n",
       "</div>"
      ],
      "text/plain": [
       "             user_id         region   device       channel  \\\n",
       "461     382394863972  United States      Mac  MediaTornado   \n",
       "207360  428935481941             UK       PC    AdNonSense   \n",
       "207335   86266511938        Germany  Android       organic   \n",
       "207379  763000657462             UK       PC       organic   \n",
       "207599  791058813280         France  Android       LeapBob   \n",
       "\n",
       "             session_start         session_end  \n",
       "461    2019-05-01 00:00:41 2019-05-01 01:13:45  \n",
       "207360 2019-05-01 00:01:35 2019-05-01 02:30:30  \n",
       "207335 2019-05-01 00:02:38 2019-05-01 01:22:33  \n",
       "207379 2019-05-01 00:04:21 2019-05-01 00:24:15  \n",
       "207599 2019-05-01 00:05:17 2019-05-01 01:14:51  "
      ]
     },
     "metadata": {},
     "output_type": "display_data"
    }
   ],
   "source": [
    "visits = visits.sort_values(by='session_start', ascending=True)\n",
    "display(visits.head(5))"
   ]
  },
  {
   "cell_type": "markdown",
   "metadata": {},
   "source": [
    "We can see that in our dataset we have 6 complete months from 1.st of May untill end of October. \n",
    "\n",
    "Next step we will check the session duration and clean 0 s. visits. "
   ]
  },
  {
   "cell_type": "code",
   "execution_count": 7,
   "metadata": {
    "scrolled": false
   },
   "outputs": [
    {
     "data": {
      "text/html": [
       "<div>\n",
       "<style scoped>\n",
       "    .dataframe tbody tr th:only-of-type {\n",
       "        vertical-align: middle;\n",
       "    }\n",
       "\n",
       "    .dataframe tbody tr th {\n",
       "        vertical-align: top;\n",
       "    }\n",
       "\n",
       "    .dataframe thead th {\n",
       "        text-align: right;\n",
       "    }\n",
       "</style>\n",
       "<table border=\"1\" class=\"dataframe\">\n",
       "  <thead>\n",
       "    <tr style=\"text-align: right;\">\n",
       "      <th></th>\n",
       "      <th>user_id</th>\n",
       "      <th>region</th>\n",
       "      <th>device</th>\n",
       "      <th>channel</th>\n",
       "      <th>session_start</th>\n",
       "      <th>session_end</th>\n",
       "      <th>ses_len_min</th>\n",
       "    </tr>\n",
       "  </thead>\n",
       "  <tbody>\n",
       "    <tr>\n",
       "      <th>396</th>\n",
       "      <td>70966634103</td>\n",
       "      <td>United States</td>\n",
       "      <td>iPhone</td>\n",
       "      <td>FaceBoom</td>\n",
       "      <td>2019-05-01 10:09:06</td>\n",
       "      <td>2019-05-01 10:09:06</td>\n",
       "      <td>0.0</td>\n",
       "    </tr>\n",
       "    <tr>\n",
       "      <th>100</th>\n",
       "      <td>172991619815</td>\n",
       "      <td>United States</td>\n",
       "      <td>Android</td>\n",
       "      <td>organic</td>\n",
       "      <td>2019-05-01 23:30:20</td>\n",
       "      <td>2019-05-01 23:30:20</td>\n",
       "      <td>0.0</td>\n",
       "    </tr>\n",
       "    <tr>\n",
       "      <th>209655</th>\n",
       "      <td>573748811018</td>\n",
       "      <td>France</td>\n",
       "      <td>Android</td>\n",
       "      <td>LeapBob</td>\n",
       "      <td>2019-05-06 09:09:57</td>\n",
       "      <td>2019-05-06 09:09:57</td>\n",
       "      <td>0.0</td>\n",
       "    </tr>\n",
       "    <tr>\n",
       "      <th>6418</th>\n",
       "      <td>237822984474</td>\n",
       "      <td>United States</td>\n",
       "      <td>iPhone</td>\n",
       "      <td>FaceBoom</td>\n",
       "      <td>2019-05-08 11:44:29</td>\n",
       "      <td>2019-05-08 11:44:29</td>\n",
       "      <td>0.0</td>\n",
       "    </tr>\n",
       "    <tr>\n",
       "      <th>7658</th>\n",
       "      <td>691394091917</td>\n",
       "      <td>United States</td>\n",
       "      <td>iPhone</td>\n",
       "      <td>organic</td>\n",
       "      <td>2019-05-09 19:23:10</td>\n",
       "      <td>2019-05-09 19:23:10</td>\n",
       "      <td>0.0</td>\n",
       "    </tr>\n",
       "    <tr>\n",
       "      <th>...</th>\n",
       "      <td>...</td>\n",
       "      <td>...</td>\n",
       "      <td>...</td>\n",
       "      <td>...</td>\n",
       "      <td>...</td>\n",
       "      <td>...</td>\n",
       "      <td>...</td>\n",
       "    </tr>\n",
       "    <tr>\n",
       "      <th>196527</th>\n",
       "      <td>161519701243</td>\n",
       "      <td>United States</td>\n",
       "      <td>iPhone</td>\n",
       "      <td>TipTop</td>\n",
       "      <td>2019-10-22 03:38:36</td>\n",
       "      <td>2019-10-22 03:38:36</td>\n",
       "      <td>0.0</td>\n",
       "    </tr>\n",
       "    <tr>\n",
       "      <th>197164</th>\n",
       "      <td>93591440376</td>\n",
       "      <td>United States</td>\n",
       "      <td>Mac</td>\n",
       "      <td>TipTop</td>\n",
       "      <td>2019-10-22 09:46:47</td>\n",
       "      <td>2019-10-22 09:46:47</td>\n",
       "      <td>0.0</td>\n",
       "    </tr>\n",
       "    <tr>\n",
       "      <th>200917</th>\n",
       "      <td>438102959279</td>\n",
       "      <td>United States</td>\n",
       "      <td>Mac</td>\n",
       "      <td>FaceBoom</td>\n",
       "      <td>2019-10-25 13:37:39</td>\n",
       "      <td>2019-10-25 13:37:39</td>\n",
       "      <td>0.0</td>\n",
       "    </tr>\n",
       "    <tr>\n",
       "      <th>202548</th>\n",
       "      <td>143097745137</td>\n",
       "      <td>United States</td>\n",
       "      <td>iPhone</td>\n",
       "      <td>organic</td>\n",
       "      <td>2019-10-26 17:25:06</td>\n",
       "      <td>2019-10-26 17:25:06</td>\n",
       "      <td>0.0</td>\n",
       "    </tr>\n",
       "    <tr>\n",
       "      <th>202688</th>\n",
       "      <td>592904985585</td>\n",
       "      <td>United States</td>\n",
       "      <td>PC</td>\n",
       "      <td>TipTop</td>\n",
       "      <td>2019-10-26 23:19:38</td>\n",
       "      <td>2019-10-26 23:19:38</td>\n",
       "      <td>0.0</td>\n",
       "    </tr>\n",
       "  </tbody>\n",
       "</table>\n",
       "<p>163 rows × 7 columns</p>\n",
       "</div>"
      ],
      "text/plain": [
       "             user_id         region   device   channel       session_start  \\\n",
       "396      70966634103  United States   iPhone  FaceBoom 2019-05-01 10:09:06   \n",
       "100     172991619815  United States  Android   organic 2019-05-01 23:30:20   \n",
       "209655  573748811018         France  Android   LeapBob 2019-05-06 09:09:57   \n",
       "6418    237822984474  United States   iPhone  FaceBoom 2019-05-08 11:44:29   \n",
       "7658    691394091917  United States   iPhone   organic 2019-05-09 19:23:10   \n",
       "...              ...            ...      ...       ...                 ...   \n",
       "196527  161519701243  United States   iPhone    TipTop 2019-10-22 03:38:36   \n",
       "197164   93591440376  United States      Mac    TipTop 2019-10-22 09:46:47   \n",
       "200917  438102959279  United States      Mac  FaceBoom 2019-10-25 13:37:39   \n",
       "202548  143097745137  United States   iPhone   organic 2019-10-26 17:25:06   \n",
       "202688  592904985585  United States       PC    TipTop 2019-10-26 23:19:38   \n",
       "\n",
       "               session_end  ses_len_min  \n",
       "396    2019-05-01 10:09:06          0.0  \n",
       "100    2019-05-01 23:30:20          0.0  \n",
       "209655 2019-05-06 09:09:57          0.0  \n",
       "6418   2019-05-08 11:44:29          0.0  \n",
       "7658   2019-05-09 19:23:10          0.0  \n",
       "...                    ...          ...  \n",
       "196527 2019-10-22 03:38:36          0.0  \n",
       "197164 2019-10-22 09:46:47          0.0  \n",
       "200917 2019-10-25 13:37:39          0.0  \n",
       "202548 2019-10-26 17:25:06          0.0  \n",
       "202688 2019-10-26 23:19:38          0.0  \n",
       "\n",
       "[163 rows x 7 columns]"
      ]
     },
     "metadata": {},
     "output_type": "display_data"
    }
   ],
   "source": [
    "visits['ses_len_min'] = (visits['session_end'] - visits['session_start'])\n",
    "visits['ses_len_min'] = round(visits['ses_len_min'].dt.total_seconds()/60,2)\n",
    "\n",
    "display(visits.query('ses_len_min == 0.0'))\n",
    "\n",
    "visits = visits.query('ses_len_min != 0.0')\n",
    "\n",
    "\n"
   ]
  },
  {
   "cell_type": "markdown",
   "metadata": {},
   "source": [
    "We have find out that in our log there are 163 sessions with 0 duration. It is a less then a 0.1% of our total data, probably no purchases made during these sessions. Therefore, we drop them as irrelevant for the EDA analysis. However, this sessions could be checked by data engenieers."
   ]
  },
  {
   "cell_type": "code",
   "execution_count": 8,
   "metadata": {},
   "outputs": [
    {
     "data": {
      "text/plain": [
       "count    309738.000000\n",
       "mean         30.017310\n",
       "std          30.051075\n",
       "min           0.020000\n",
       "25%           8.630000\n",
       "50%          20.730000\n",
       "75%          41.620000\n",
       "max         370.950000\n",
       "Name: ses_len_min, dtype: float64"
      ]
     },
     "metadata": {},
     "output_type": "display_data"
    },
    {
     "name": "stdout",
     "output_type": "stream",
     "text": [
      "\n",
      "Median: 20.73\n",
      "90-95-99 percentile: [ 69.08    90.07   138.0263]\n"
     ]
    }
   ],
   "source": [
    "display(visits['ses_len_min'].describe())\n",
    "print('')\n",
    "print('Median:',visits['ses_len_min'].median())\n",
    "print('90-95-99 percentile:', np.percentile(visits['ses_len_min'],[90,95,99]))\n"
   ]
  },
  {
   "cell_type": "code",
   "execution_count": 9,
   "metadata": {
    "scrolled": false
   },
   "outputs": [
    {
     "data": {
      "image/png": "[encoded data removed]",
      "text/plain": [
       "<Figure size 864x432 with 1 Axes>"
      ]
     },
     "metadata": {
      "needs_background": "light"
     },
     "output_type": "display_data"
    }
   ],
   "source": [
    "plt.figure(figsize=(12,6))\n",
    "plt.hist(visits[\"ses_len_min\"], bins = 1000)\n",
    "plt.axvline(x = visits['ses_len_min'].mean() , color = 'b', label = 'mean')\n",
    "plt.axvline(x = visits['ses_len_min'].median() , color = 'r', label = 'median')\n",
    "plt.legend(loc='upper right')\n",
    "plt.show()"
   ]
  },
  {
   "cell_type": "markdown",
   "metadata": {},
   "source": [
    "Average duration is 30 min, Meadian is 20 min. Standard deviation 30. The 10 % of longest sessions took over 1h 10m  "
   ]
  },
  {
   "cell_type": "markdown",
   "metadata": {},
   "source": [
    "===== Second we analyze devices. To make full analysis first we merge visits and orders to identify people who completed purchases. Then we will find the users and customers ratio of channels and regions ====="
   ]
  },
  {
   "cell_type": "markdown",
   "metadata": {},
   "source": [
    "Check if any users counted in more channels or regions"
   ]
  },
  {
   "cell_type": "code",
   "execution_count": 10,
   "metadata": {},
   "outputs": [
    {
     "data": {
      "text/html": [
       "<div>\n",
       "<style scoped>\n",
       "    .dataframe tbody tr th:only-of-type {\n",
       "        vertical-align: middle;\n",
       "    }\n",
       "\n",
       "    .dataframe tbody tr th {\n",
       "        vertical-align: top;\n",
       "    }\n",
       "\n",
       "    .dataframe thead th {\n",
       "        text-align: right;\n",
       "    }\n",
       "</style>\n",
       "<table border=\"1\" class=\"dataframe\">\n",
       "  <thead>\n",
       "    <tr style=\"text-align: right;\">\n",
       "      <th></th>\n",
       "      <th>user_id</th>\n",
       "      <th>region</th>\n",
       "      <th>device</th>\n",
       "      <th>channel</th>\n",
       "      <th>session_start</th>\n",
       "      <th>session_end</th>\n",
       "      <th>ses_len_min</th>\n",
       "      <th>customer</th>\n",
       "    </tr>\n",
       "  </thead>\n",
       "  <tbody>\n",
       "    <tr>\n",
       "      <th>461</th>\n",
       "      <td>382394863972</td>\n",
       "      <td>United States</td>\n",
       "      <td>Mac</td>\n",
       "      <td>MediaTornado</td>\n",
       "      <td>2019-05-01 00:00:41</td>\n",
       "      <td>2019-05-01 01:13:45</td>\n",
       "      <td>73.07</td>\n",
       "      <td>0</td>\n",
       "    </tr>\n",
       "    <tr>\n",
       "      <th>207360</th>\n",
       "      <td>428935481941</td>\n",
       "      <td>UK</td>\n",
       "      <td>PC</td>\n",
       "      <td>AdNonSense</td>\n",
       "      <td>2019-05-01 00:01:35</td>\n",
       "      <td>2019-05-01 02:30:30</td>\n",
       "      <td>148.92</td>\n",
       "      <td>0</td>\n",
       "    </tr>\n",
       "    <tr>\n",
       "      <th>207335</th>\n",
       "      <td>86266511938</td>\n",
       "      <td>Germany</td>\n",
       "      <td>Android</td>\n",
       "      <td>organic</td>\n",
       "      <td>2019-05-01 00:02:38</td>\n",
       "      <td>2019-05-01 01:22:33</td>\n",
       "      <td>79.92</td>\n",
       "      <td>0</td>\n",
       "    </tr>\n",
       "    <tr>\n",
       "      <th>207379</th>\n",
       "      <td>763000657462</td>\n",
       "      <td>UK</td>\n",
       "      <td>PC</td>\n",
       "      <td>organic</td>\n",
       "      <td>2019-05-01 00:04:21</td>\n",
       "      <td>2019-05-01 00:24:15</td>\n",
       "      <td>19.90</td>\n",
       "      <td>0</td>\n",
       "    </tr>\n",
       "    <tr>\n",
       "      <th>207599</th>\n",
       "      <td>791058813280</td>\n",
       "      <td>France</td>\n",
       "      <td>Android</td>\n",
       "      <td>LeapBob</td>\n",
       "      <td>2019-05-01 00:05:17</td>\n",
       "      <td>2019-05-01 01:14:51</td>\n",
       "      <td>69.57</td>\n",
       "      <td>0</td>\n",
       "    </tr>\n",
       "  </tbody>\n",
       "</table>\n",
       "</div>"
      ],
      "text/plain": [
       "             user_id         region   device       channel  \\\n",
       "461     382394863972  United States      Mac  MediaTornado   \n",
       "207360  428935481941             UK       PC    AdNonSense   \n",
       "207335   86266511938        Germany  Android       organic   \n",
       "207379  763000657462             UK       PC       organic   \n",
       "207599  791058813280         France  Android       LeapBob   \n",
       "\n",
       "             session_start         session_end  ses_len_min  customer  \n",
       "461    2019-05-01 00:00:41 2019-05-01 01:13:45        73.07         0  \n",
       "207360 2019-05-01 00:01:35 2019-05-01 02:30:30       148.92         0  \n",
       "207335 2019-05-01 00:02:38 2019-05-01 01:22:33        79.92         0  \n",
       "207379 2019-05-01 00:04:21 2019-05-01 00:24:15        19.90         0  \n",
       "207599 2019-05-01 00:05:17 2019-05-01 01:14:51        69.57         0  "
      ]
     },
     "metadata": {},
     "output_type": "display_data"
    }
   ],
   "source": [
    "visits['customer'] = visits['user_id'].isin(orders['user_id'].unique()).astype(int)\n",
    "display(visits.head())"
   ]
  },
  {
   "cell_type": "code",
   "execution_count": 11,
   "metadata": {},
   "outputs": [],
   "source": [
    "visits_region = visits.groupby(by=['region'], as_index= False).agg({'user_id':'nunique'})\n",
    "visits_customers = visits.query('customer == 1').groupby(by=['region'], as_index= False).agg({'user_id':'nunique'})"
   ]
  },
  {
   "cell_type": "code",
   "execution_count": 12,
   "metadata": {},
   "outputs": [
    {
     "data": {
      "text/html": [
       "<div>\n",
       "<style scoped>\n",
       "    .dataframe tbody tr th:only-of-type {\n",
       "        vertical-align: middle;\n",
       "    }\n",
       "\n",
       "    .dataframe tbody tr th {\n",
       "        vertical-align: top;\n",
       "    }\n",
       "\n",
       "    .dataframe thead th {\n",
       "        text-align: right;\n",
       "    }\n",
       "</style>\n",
       "<table border=\"1\" class=\"dataframe\">\n",
       "  <thead>\n",
       "    <tr style=\"text-align: right;\">\n",
       "      <th></th>\n",
       "      <th>region</th>\n",
       "      <th>users</th>\n",
       "      <th>customers</th>\n",
       "      <th>%</th>\n",
       "    </tr>\n",
       "  </thead>\n",
       "  <tbody>\n",
       "    <tr>\n",
       "      <th>0</th>\n",
       "      <td>France</td>\n",
       "      <td>17444</td>\n",
       "      <td>663</td>\n",
       "      <td>0.038007</td>\n",
       "    </tr>\n",
       "    <tr>\n",
       "      <th>1</th>\n",
       "      <td>Germany</td>\n",
       "      <td>14978</td>\n",
       "      <td>616</td>\n",
       "      <td>0.041127</td>\n",
       "    </tr>\n",
       "    <tr>\n",
       "      <th>2</th>\n",
       "      <td>UK</td>\n",
       "      <td>17573</td>\n",
       "      <td>700</td>\n",
       "      <td>0.039834</td>\n",
       "    </tr>\n",
       "    <tr>\n",
       "      <th>3</th>\n",
       "      <td>United States</td>\n",
       "      <td>99976</td>\n",
       "      <td>6902</td>\n",
       "      <td>0.069037</td>\n",
       "    </tr>\n",
       "  </tbody>\n",
       "</table>\n",
       "</div>"
      ],
      "text/plain": [
       "          region  users  customers         %\n",
       "0         France  17444        663  0.038007\n",
       "1        Germany  14978        616  0.041127\n",
       "2             UK  17573        700  0.039834\n",
       "3  United States  99976       6902  0.069037"
      ]
     },
     "metadata": {},
     "output_type": "display_data"
    }
   ],
   "source": [
    "customer_ratio = visits_region.merge(visits_customers, on ='region')\n",
    "customer_ratio.columns =['region', 'users','customers']\n",
    "customer_ratio['%'] = customer_ratio['customers']/customer_ratio['users'] \n",
    "display(customer_ratio)"
   ]
  },
  {
   "cell_type": "code",
   "execution_count": 13,
   "metadata": {},
   "outputs": [
    {
     "name": "stdout",
     "output_type": "stream",
     "text": [
      "More then 1 region: 0\n",
      "More then 1 channel: 5514\n",
      "More then 1 device: 5001\n"
     ]
    }
   ],
   "source": [
    "print('More then 1 region:', visits.groupby(by='user_id').agg({'region':'nunique','channel':'nunique'}).query('region > 1').shape[0])\n",
    "print('More then 1 channel:', visits.groupby(by='user_id').agg({'region':'nunique','channel':'nunique'}).query('channel > 1').shape[0])\n",
    "print('More then 1 device:', visits.groupby(by='user_id').agg({'region':'nunique','device':'nunique'}).query('device > 1').shape[0])"
   ]
  },
  {
   "cell_type": "code",
   "execution_count": 14,
   "metadata": {},
   "outputs": [
    {
     "data": {
      "text/html": [
       "<div>\n",
       "<style scoped>\n",
       "    .dataframe tbody tr th:only-of-type {\n",
       "        vertical-align: middle;\n",
       "    }\n",
       "\n",
       "    .dataframe tbody tr th {\n",
       "        vertical-align: top;\n",
       "    }\n",
       "\n",
       "    .dataframe thead th {\n",
       "        text-align: right;\n",
       "    }\n",
       "</style>\n",
       "<table border=\"1\" class=\"dataframe\">\n",
       "  <thead>\n",
       "    <tr style=\"text-align: right;\">\n",
       "      <th></th>\n",
       "      <th>user_id</th>\n",
       "      <th>region</th>\n",
       "      <th>device</th>\n",
       "      <th>channel</th>\n",
       "      <th>session_start</th>\n",
       "      <th>session_end</th>\n",
       "      <th>ses_len_min</th>\n",
       "      <th>customer</th>\n",
       "      <th>first_channel</th>\n",
       "      <th>first_device</th>\n",
       "    </tr>\n",
       "  </thead>\n",
       "  <tbody>\n",
       "    <tr>\n",
       "      <th>0</th>\n",
       "      <td>382394863972</td>\n",
       "      <td>United States</td>\n",
       "      <td>Mac</td>\n",
       "      <td>MediaTornado</td>\n",
       "      <td>2019-05-01 00:00:41</td>\n",
       "      <td>2019-05-01 01:13:45</td>\n",
       "      <td>73.07</td>\n",
       "      <td>0</td>\n",
       "      <td>MediaTornado</td>\n",
       "      <td>Mac</td>\n",
       "    </tr>\n",
       "    <tr>\n",
       "      <th>1</th>\n",
       "      <td>428935481941</td>\n",
       "      <td>UK</td>\n",
       "      <td>PC</td>\n",
       "      <td>AdNonSense</td>\n",
       "      <td>2019-05-01 00:01:35</td>\n",
       "      <td>2019-05-01 02:30:30</td>\n",
       "      <td>148.92</td>\n",
       "      <td>0</td>\n",
       "      <td>AdNonSense</td>\n",
       "      <td>PC</td>\n",
       "    </tr>\n",
       "    <tr>\n",
       "      <th>2</th>\n",
       "      <td>428935481941</td>\n",
       "      <td>UK</td>\n",
       "      <td>PC</td>\n",
       "      <td>AdNonSense</td>\n",
       "      <td>2019-05-04 12:29:45</td>\n",
       "      <td>2019-05-04 13:14:34</td>\n",
       "      <td>44.82</td>\n",
       "      <td>0</td>\n",
       "      <td>AdNonSense</td>\n",
       "      <td>PC</td>\n",
       "    </tr>\n",
       "    <tr>\n",
       "      <th>3</th>\n",
       "      <td>86266511938</td>\n",
       "      <td>Germany</td>\n",
       "      <td>Android</td>\n",
       "      <td>organic</td>\n",
       "      <td>2019-05-01 00:02:38</td>\n",
       "      <td>2019-05-01 01:22:33</td>\n",
       "      <td>79.92</td>\n",
       "      <td>0</td>\n",
       "      <td>organic</td>\n",
       "      <td>Android</td>\n",
       "    </tr>\n",
       "    <tr>\n",
       "      <th>4</th>\n",
       "      <td>763000657462</td>\n",
       "      <td>UK</td>\n",
       "      <td>PC</td>\n",
       "      <td>organic</td>\n",
       "      <td>2019-05-01 00:04:21</td>\n",
       "      <td>2019-05-01 00:24:15</td>\n",
       "      <td>19.90</td>\n",
       "      <td>0</td>\n",
       "      <td>organic</td>\n",
       "      <td>PC</td>\n",
       "    </tr>\n",
       "    <tr>\n",
       "      <th>5</th>\n",
       "      <td>791058813280</td>\n",
       "      <td>France</td>\n",
       "      <td>Android</td>\n",
       "      <td>LeapBob</td>\n",
       "      <td>2019-05-01 00:05:17</td>\n",
       "      <td>2019-05-01 01:14:51</td>\n",
       "      <td>69.57</td>\n",
       "      <td>0</td>\n",
       "      <td>LeapBob</td>\n",
       "      <td>Android</td>\n",
       "    </tr>\n",
       "    <tr>\n",
       "      <th>6</th>\n",
       "      <td>885166962934</td>\n",
       "      <td>United States</td>\n",
       "      <td>iPhone</td>\n",
       "      <td>organic</td>\n",
       "      <td>2019-05-01 00:06:26</td>\n",
       "      <td>2019-05-01 00:19:52</td>\n",
       "      <td>13.43</td>\n",
       "      <td>0</td>\n",
       "      <td>organic</td>\n",
       "      <td>iPhone</td>\n",
       "    </tr>\n",
       "    <tr>\n",
       "      <th>7</th>\n",
       "      <td>529697267522</td>\n",
       "      <td>United States</td>\n",
       "      <td>iPhone</td>\n",
       "      <td>FaceBoom</td>\n",
       "      <td>2019-05-01 00:06:40</td>\n",
       "      <td>2019-05-01 00:07:06</td>\n",
       "      <td>0.43</td>\n",
       "      <td>0</td>\n",
       "      <td>FaceBoom</td>\n",
       "      <td>iPhone</td>\n",
       "    </tr>\n",
       "    <tr>\n",
       "      <th>8</th>\n",
       "      <td>529697267522</td>\n",
       "      <td>United States</td>\n",
       "      <td>iPhone</td>\n",
       "      <td>FaceBoom</td>\n",
       "      <td>2019-05-03 16:57:13</td>\n",
       "      <td>2019-05-03 17:48:38</td>\n",
       "      <td>51.42</td>\n",
       "      <td>0</td>\n",
       "      <td>FaceBoom</td>\n",
       "      <td>iPhone</td>\n",
       "    </tr>\n",
       "    <tr>\n",
       "      <th>9</th>\n",
       "      <td>529697267522</td>\n",
       "      <td>United States</td>\n",
       "      <td>iPhone</td>\n",
       "      <td>FaceBoom</td>\n",
       "      <td>2019-05-06 06:49:35</td>\n",
       "      <td>2019-05-06 07:04:07</td>\n",
       "      <td>14.53</td>\n",
       "      <td>0</td>\n",
       "      <td>FaceBoom</td>\n",
       "      <td>iPhone</td>\n",
       "    </tr>\n",
       "  </tbody>\n",
       "</table>\n",
       "</div>"
      ],
      "text/plain": [
       "        user_id         region   device       channel       session_start  \\\n",
       "0  382394863972  United States      Mac  MediaTornado 2019-05-01 00:00:41   \n",
       "1  428935481941             UK       PC    AdNonSense 2019-05-01 00:01:35   \n",
       "2  428935481941             UK       PC    AdNonSense 2019-05-04 12:29:45   \n",
       "3   86266511938        Germany  Android       organic 2019-05-01 00:02:38   \n",
       "4  763000657462             UK       PC       organic 2019-05-01 00:04:21   \n",
       "5  791058813280         France  Android       LeapBob 2019-05-01 00:05:17   \n",
       "6  885166962934  United States   iPhone       organic 2019-05-01 00:06:26   \n",
       "7  529697267522  United States   iPhone      FaceBoom 2019-05-01 00:06:40   \n",
       "8  529697267522  United States   iPhone      FaceBoom 2019-05-03 16:57:13   \n",
       "9  529697267522  United States   iPhone      FaceBoom 2019-05-06 06:49:35   \n",
       "\n",
       "          session_end  ses_len_min  customer first_channel first_device  \n",
       "0 2019-05-01 01:13:45        73.07         0  MediaTornado          Mac  \n",
       "1 2019-05-01 02:30:30       148.92         0    AdNonSense           PC  \n",
       "2 2019-05-04 13:14:34        44.82         0    AdNonSense           PC  \n",
       "3 2019-05-01 01:22:33        79.92         0       organic      Android  \n",
       "4 2019-05-01 00:24:15        19.90         0       organic           PC  \n",
       "5 2019-05-01 01:14:51        69.57         0       LeapBob      Android  \n",
       "6 2019-05-01 00:19:52        13.43         0       organic       iPhone  \n",
       "7 2019-05-01 00:07:06         0.43         0      FaceBoom       iPhone  \n",
       "8 2019-05-03 17:48:38        51.42         0      FaceBoom       iPhone  \n",
       "9 2019-05-06 07:04:07        14.53         0      FaceBoom       iPhone  "
      ]
     },
     "metadata": {},
     "output_type": "display_data"
    }
   ],
   "source": [
    "user_channel = visits.groupby(by='user_id', as_index=False).agg({'channel':'first'})\n",
    "user_channel.columns = ['user_id','first_channel']\n",
    "visits = visits.merge(user_channel, on='user_id')\n",
    "\n",
    "user_device = visits.groupby(by='user_id', as_index=False).agg({'device':'first'})\n",
    "user_device.columns = ['user_id','first_device']\n",
    "visits = visits.merge(user_device, on='user_id')\n",
    "\n",
    "\n",
    "\n",
    "display(visits.head(10))"
   ]
  },
  {
   "cell_type": "code",
   "execution_count": 15,
   "metadata": {},
   "outputs": [],
   "source": [
    "users = visits.groupby('user_id', as_index=False).agg({'region':'first','first_device':'first'})\n",
    "customers = visits.query('customer == 1').groupby('user_id', as_index=False).agg({'region':'first','first_device':'first'})\n",
    "\n",
    "visits_device_1 = users.groupby(by=['region', 'first_device'], as_index= False).agg({'user_id':'count'})\n",
    "visits_device_1 = visits_device_1.merge(visits_region, on='region')\n",
    "visits_device_1.columns = ['region','first_device', 'devices_count','region_users']\n",
    "visits_device_1['% of devices'] = round(visits_device_1['devices_count']/visits_device_1['region_users'],4)*100\n",
    "\n",
    "\n",
    "visits_device_2 = customers.groupby(by=['region', 'first_device'], as_index= False).agg({'user_id':'count'})\n",
    "visits_device_2 = visits_device_2.merge(visits_region, on='region')\n",
    "visits_device_2.columns = ['region','first_device', 'customers','region_users']\n",
    "visits_device_2['% of customers'] = round(visits_device_2['customers']/visits_device_2['region_users'],4)*100\n"
   ]
  },
  {
   "cell_type": "code",
   "execution_count": 16,
   "metadata": {
    "scrolled": false
   },
   "outputs": [
    {
     "data": {
      "text/html": [
       "<div>\n",
       "<style scoped>\n",
       "    .dataframe tbody tr th:only-of-type {\n",
       "        vertical-align: middle;\n",
       "    }\n",
       "\n",
       "    .dataframe tbody tr th {\n",
       "        vertical-align: top;\n",
       "    }\n",
       "\n",
       "    .dataframe thead th {\n",
       "        text-align: right;\n",
       "    }\n",
       "</style>\n",
       "<table border=\"1\" class=\"dataframe\">\n",
       "  <thead>\n",
       "    <tr style=\"text-align: right;\">\n",
       "      <th></th>\n",
       "      <th>region</th>\n",
       "      <th>first_device</th>\n",
       "      <th>devices_count</th>\n",
       "      <th>region_users</th>\n",
       "      <th>% of devices</th>\n",
       "    </tr>\n",
       "  </thead>\n",
       "  <tbody>\n",
       "    <tr>\n",
       "      <th>0</th>\n",
       "      <td>France</td>\n",
       "      <td>Android</td>\n",
       "      <td>5251</td>\n",
       "      <td>17444</td>\n",
       "      <td>30.10</td>\n",
       "    </tr>\n",
       "    <tr>\n",
       "      <th>4</th>\n",
       "      <td>Germany</td>\n",
       "      <td>Android</td>\n",
       "      <td>4440</td>\n",
       "      <td>14978</td>\n",
       "      <td>29.64</td>\n",
       "    </tr>\n",
       "    <tr>\n",
       "      <th>8</th>\n",
       "      <td>UK</td>\n",
       "      <td>Android</td>\n",
       "      <td>5140</td>\n",
       "      <td>17573</td>\n",
       "      <td>29.25</td>\n",
       "    </tr>\n",
       "    <tr>\n",
       "      <th>12</th>\n",
       "      <td>United States</td>\n",
       "      <td>Android</td>\n",
       "      <td>20194</td>\n",
       "      <td>99976</td>\n",
       "      <td>20.20</td>\n",
       "    </tr>\n",
       "  </tbody>\n",
       "</table>\n",
       "</div>"
      ],
      "text/plain": [
       "           region first_device  devices_count  region_users  % of devices\n",
       "0          France      Android           5251         17444         30.10\n",
       "4         Germany      Android           4440         14978         29.64\n",
       "8              UK      Android           5140         17573         29.25\n",
       "12  United States      Android          20194         99976         20.20"
      ]
     },
     "metadata": {},
     "output_type": "display_data"
    },
    {
     "data": {
      "text/html": [
       "<div>\n",
       "<style scoped>\n",
       "    .dataframe tbody tr th:only-of-type {\n",
       "        vertical-align: middle;\n",
       "    }\n",
       "\n",
       "    .dataframe tbody tr th {\n",
       "        vertical-align: top;\n",
       "    }\n",
       "\n",
       "    .dataframe thead th {\n",
       "        text-align: right;\n",
       "    }\n",
       "</style>\n",
       "<table border=\"1\" class=\"dataframe\">\n",
       "  <thead>\n",
       "    <tr style=\"text-align: right;\">\n",
       "      <th></th>\n",
       "      <th>region</th>\n",
       "      <th>first_device</th>\n",
       "      <th>customers</th>\n",
       "      <th>region_users</th>\n",
       "      <th>% of customers</th>\n",
       "    </tr>\n",
       "  </thead>\n",
       "  <tbody>\n",
       "    <tr>\n",
       "      <th>0</th>\n",
       "      <td>France</td>\n",
       "      <td>Android</td>\n",
       "      <td>179</td>\n",
       "      <td>17444</td>\n",
       "      <td>1.03</td>\n",
       "    </tr>\n",
       "    <tr>\n",
       "      <th>4</th>\n",
       "      <td>Germany</td>\n",
       "      <td>Android</td>\n",
       "      <td>182</td>\n",
       "      <td>14978</td>\n",
       "      <td>1.22</td>\n",
       "    </tr>\n",
       "    <tr>\n",
       "      <th>8</th>\n",
       "      <td>UK</td>\n",
       "      <td>Android</td>\n",
       "      <td>202</td>\n",
       "      <td>17573</td>\n",
       "      <td>1.15</td>\n",
       "    </tr>\n",
       "    <tr>\n",
       "      <th>12</th>\n",
       "      <td>United States</td>\n",
       "      <td>Android</td>\n",
       "      <td>1487</td>\n",
       "      <td>99976</td>\n",
       "      <td>1.49</td>\n",
       "    </tr>\n",
       "  </tbody>\n",
       "</table>\n",
       "</div>"
      ],
      "text/plain": [
       "           region first_device  customers  region_users  % of customers\n",
       "0          France      Android        179         17444            1.03\n",
       "4         Germany      Android        182         14978            1.22\n",
       "8              UK      Android        202         17573            1.15\n",
       "12  United States      Android       1487         99976            1.49"
      ]
     },
     "metadata": {},
     "output_type": "display_data"
    },
    {
     "data": {
      "text/html": [
       "<div>\n",
       "<style scoped>\n",
       "    .dataframe tbody tr th:only-of-type {\n",
       "        vertical-align: middle;\n",
       "    }\n",
       "\n",
       "    .dataframe tbody tr th {\n",
       "        vertical-align: top;\n",
       "    }\n",
       "\n",
       "    .dataframe thead th {\n",
       "        text-align: right;\n",
       "    }\n",
       "</style>\n",
       "<table border=\"1\" class=\"dataframe\">\n",
       "  <thead>\n",
       "    <tr style=\"text-align: right;\">\n",
       "      <th></th>\n",
       "      <th>region</th>\n",
       "      <th>first_device</th>\n",
       "      <th>devices_count</th>\n",
       "      <th>region_users</th>\n",
       "      <th>% of devices</th>\n",
       "    </tr>\n",
       "  </thead>\n",
       "  <tbody>\n",
       "    <tr>\n",
       "      <th>1</th>\n",
       "      <td>France</td>\n",
       "      <td>Mac</td>\n",
       "      <td>1838</td>\n",
       "      <td>17444</td>\n",
       "      <td>10.54</td>\n",
       "    </tr>\n",
       "    <tr>\n",
       "      <th>5</th>\n",
       "      <td>Germany</td>\n",
       "      <td>Mac</td>\n",
       "      <td>1584</td>\n",
       "      <td>14978</td>\n",
       "      <td>10.58</td>\n",
       "    </tr>\n",
       "    <tr>\n",
       "      <th>9</th>\n",
       "      <td>UK</td>\n",
       "      <td>Mac</td>\n",
       "      <td>1778</td>\n",
       "      <td>17573</td>\n",
       "      <td>10.12</td>\n",
       "    </tr>\n",
       "    <tr>\n",
       "      <th>13</th>\n",
       "      <td>United States</td>\n",
       "      <td>Mac</td>\n",
       "      <td>24837</td>\n",
       "      <td>99976</td>\n",
       "      <td>24.84</td>\n",
       "    </tr>\n",
       "  </tbody>\n",
       "</table>\n",
       "</div>"
      ],
      "text/plain": [
       "           region first_device  devices_count  region_users  % of devices\n",
       "1          France          Mac           1838         17444         10.54\n",
       "5         Germany          Mac           1584         14978         10.58\n",
       "9              UK          Mac           1778         17573         10.12\n",
       "13  United States          Mac          24837         99976         24.84"
      ]
     },
     "metadata": {},
     "output_type": "display_data"
    },
    {
     "data": {
      "text/html": [
       "<div>\n",
       "<style scoped>\n",
       "    .dataframe tbody tr th:only-of-type {\n",
       "        vertical-align: middle;\n",
       "    }\n",
       "\n",
       "    .dataframe tbody tr th {\n",
       "        vertical-align: top;\n",
       "    }\n",
       "\n",
       "    .dataframe thead th {\n",
       "        text-align: right;\n",
       "    }\n",
       "</style>\n",
       "<table border=\"1\" class=\"dataframe\">\n",
       "  <thead>\n",
       "    <tr style=\"text-align: right;\">\n",
       "      <th></th>\n",
       "      <th>region</th>\n",
       "      <th>first_device</th>\n",
       "      <th>customers</th>\n",
       "      <th>region_users</th>\n",
       "      <th>% of customers</th>\n",
       "    </tr>\n",
       "  </thead>\n",
       "  <tbody>\n",
       "    <tr>\n",
       "      <th>1</th>\n",
       "      <td>France</td>\n",
       "      <td>Mac</td>\n",
       "      <td>82</td>\n",
       "      <td>17444</td>\n",
       "      <td>0.47</td>\n",
       "    </tr>\n",
       "    <tr>\n",
       "      <th>5</th>\n",
       "      <td>Germany</td>\n",
       "      <td>Mac</td>\n",
       "      <td>61</td>\n",
       "      <td>14978</td>\n",
       "      <td>0.41</td>\n",
       "    </tr>\n",
       "    <tr>\n",
       "      <th>9</th>\n",
       "      <td>UK</td>\n",
       "      <td>Mac</td>\n",
       "      <td>63</td>\n",
       "      <td>17573</td>\n",
       "      <td>0.36</td>\n",
       "    </tr>\n",
       "    <tr>\n",
       "      <th>13</th>\n",
       "      <td>United States</td>\n",
       "      <td>Mac</td>\n",
       "      <td>1706</td>\n",
       "      <td>99976</td>\n",
       "      <td>1.71</td>\n",
       "    </tr>\n",
       "  </tbody>\n",
       "</table>\n",
       "</div>"
      ],
      "text/plain": [
       "           region first_device  customers  region_users  % of customers\n",
       "1          France          Mac         82         17444            0.47\n",
       "5         Germany          Mac         61         14978            0.41\n",
       "9              UK          Mac         63         17573            0.36\n",
       "13  United States          Mac       1706         99976            1.71"
      ]
     },
     "metadata": {},
     "output_type": "display_data"
    },
    {
     "data": {
      "text/html": [
       "<div>\n",
       "<style scoped>\n",
       "    .dataframe tbody tr th:only-of-type {\n",
       "        vertical-align: middle;\n",
       "    }\n",
       "\n",
       "    .dataframe tbody tr th {\n",
       "        vertical-align: top;\n",
       "    }\n",
       "\n",
       "    .dataframe thead th {\n",
       "        text-align: right;\n",
       "    }\n",
       "</style>\n",
       "<table border=\"1\" class=\"dataframe\">\n",
       "  <thead>\n",
       "    <tr style=\"text-align: right;\">\n",
       "      <th></th>\n",
       "      <th>region</th>\n",
       "      <th>first_device</th>\n",
       "      <th>devices_count</th>\n",
       "      <th>region_users</th>\n",
       "      <th>% of devices</th>\n",
       "    </tr>\n",
       "  </thead>\n",
       "  <tbody>\n",
       "    <tr>\n",
       "      <th>2</th>\n",
       "      <td>France</td>\n",
       "      <td>PC</td>\n",
       "      <td>6935</td>\n",
       "      <td>17444</td>\n",
       "      <td>39.76</td>\n",
       "    </tr>\n",
       "    <tr>\n",
       "      <th>6</th>\n",
       "      <td>Germany</td>\n",
       "      <td>PC</td>\n",
       "      <td>5946</td>\n",
       "      <td>14978</td>\n",
       "      <td>39.70</td>\n",
       "    </tr>\n",
       "    <tr>\n",
       "      <th>10</th>\n",
       "      <td>UK</td>\n",
       "      <td>PC</td>\n",
       "      <td>7137</td>\n",
       "      <td>17573</td>\n",
       "      <td>40.61</td>\n",
       "    </tr>\n",
       "    <tr>\n",
       "      <th>14</th>\n",
       "      <td>United States</td>\n",
       "      <td>PC</td>\n",
       "      <td>10431</td>\n",
       "      <td>99976</td>\n",
       "      <td>10.43</td>\n",
       "    </tr>\n",
       "  </tbody>\n",
       "</table>\n",
       "</div>"
      ],
      "text/plain": [
       "           region first_device  devices_count  region_users  % of devices\n",
       "2          France           PC           6935         17444         39.76\n",
       "6         Germany           PC           5946         14978         39.70\n",
       "10             UK           PC           7137         17573         40.61\n",
       "14  United States           PC          10431         99976         10.43"
      ]
     },
     "metadata": {},
     "output_type": "display_data"
    },
    {
     "data": {
      "text/html": [
       "<div>\n",
       "<style scoped>\n",
       "    .dataframe tbody tr th:only-of-type {\n",
       "        vertical-align: middle;\n",
       "    }\n",
       "\n",
       "    .dataframe tbody tr th {\n",
       "        vertical-align: top;\n",
       "    }\n",
       "\n",
       "    .dataframe thead th {\n",
       "        text-align: right;\n",
       "    }\n",
       "</style>\n",
       "<table border=\"1\" class=\"dataframe\">\n",
       "  <thead>\n",
       "    <tr style=\"text-align: right;\">\n",
       "      <th></th>\n",
       "      <th>region</th>\n",
       "      <th>first_device</th>\n",
       "      <th>customers</th>\n",
       "      <th>region_users</th>\n",
       "      <th>% of customers</th>\n",
       "    </tr>\n",
       "  </thead>\n",
       "  <tbody>\n",
       "    <tr>\n",
       "      <th>2</th>\n",
       "      <td>France</td>\n",
       "      <td>PC</td>\n",
       "      <td>268</td>\n",
       "      <td>17444</td>\n",
       "      <td>1.54</td>\n",
       "    </tr>\n",
       "    <tr>\n",
       "      <th>6</th>\n",
       "      <td>Germany</td>\n",
       "      <td>PC</td>\n",
       "      <td>253</td>\n",
       "      <td>14978</td>\n",
       "      <td>1.69</td>\n",
       "    </tr>\n",
       "    <tr>\n",
       "      <th>10</th>\n",
       "      <td>UK</td>\n",
       "      <td>PC</td>\n",
       "      <td>301</td>\n",
       "      <td>17573</td>\n",
       "      <td>1.71</td>\n",
       "    </tr>\n",
       "    <tr>\n",
       "      <th>14</th>\n",
       "      <td>United States</td>\n",
       "      <td>PC</td>\n",
       "      <td>715</td>\n",
       "      <td>99976</td>\n",
       "      <td>0.72</td>\n",
       "    </tr>\n",
       "  </tbody>\n",
       "</table>\n",
       "</div>"
      ],
      "text/plain": [
       "           region first_device  customers  region_users  % of customers\n",
       "2          France           PC        268         17444            1.54\n",
       "6         Germany           PC        253         14978            1.69\n",
       "10             UK           PC        301         17573            1.71\n",
       "14  United States           PC        715         99976            0.72"
      ]
     },
     "metadata": {},
     "output_type": "display_data"
    },
    {
     "data": {
      "text/html": [
       "<div>\n",
       "<style scoped>\n",
       "    .dataframe tbody tr th:only-of-type {\n",
       "        vertical-align: middle;\n",
       "    }\n",
       "\n",
       "    .dataframe tbody tr th {\n",
       "        vertical-align: top;\n",
       "    }\n",
       "\n",
       "    .dataframe thead th {\n",
       "        text-align: right;\n",
       "    }\n",
       "</style>\n",
       "<table border=\"1\" class=\"dataframe\">\n",
       "  <thead>\n",
       "    <tr style=\"text-align: right;\">\n",
       "      <th></th>\n",
       "      <th>region</th>\n",
       "      <th>first_device</th>\n",
       "      <th>devices_count</th>\n",
       "      <th>region_users</th>\n",
       "      <th>% of devices</th>\n",
       "    </tr>\n",
       "  </thead>\n",
       "  <tbody>\n",
       "    <tr>\n",
       "      <th>3</th>\n",
       "      <td>France</td>\n",
       "      <td>iPhone</td>\n",
       "      <td>3420</td>\n",
       "      <td>17444</td>\n",
       "      <td>19.61</td>\n",
       "    </tr>\n",
       "    <tr>\n",
       "      <th>7</th>\n",
       "      <td>Germany</td>\n",
       "      <td>iPhone</td>\n",
       "      <td>3008</td>\n",
       "      <td>14978</td>\n",
       "      <td>20.08</td>\n",
       "    </tr>\n",
       "    <tr>\n",
       "      <th>11</th>\n",
       "      <td>UK</td>\n",
       "      <td>iPhone</td>\n",
       "      <td>3518</td>\n",
       "      <td>17573</td>\n",
       "      <td>20.02</td>\n",
       "    </tr>\n",
       "    <tr>\n",
       "      <th>15</th>\n",
       "      <td>United States</td>\n",
       "      <td>iPhone</td>\n",
       "      <td>44514</td>\n",
       "      <td>99976</td>\n",
       "      <td>44.52</td>\n",
       "    </tr>\n",
       "  </tbody>\n",
       "</table>\n",
       "</div>"
      ],
      "text/plain": [
       "           region first_device  devices_count  region_users  % of devices\n",
       "3          France       iPhone           3420         17444         19.61\n",
       "7         Germany       iPhone           3008         14978         20.08\n",
       "11             UK       iPhone           3518         17573         20.02\n",
       "15  United States       iPhone          44514         99976         44.52"
      ]
     },
     "metadata": {},
     "output_type": "display_data"
    },
    {
     "data": {
      "text/html": [
       "<div>\n",
       "<style scoped>\n",
       "    .dataframe tbody tr th:only-of-type {\n",
       "        vertical-align: middle;\n",
       "    }\n",
       "\n",
       "    .dataframe tbody tr th {\n",
       "        vertical-align: top;\n",
       "    }\n",
       "\n",
       "    .dataframe thead th {\n",
       "        text-align: right;\n",
       "    }\n",
       "</style>\n",
       "<table border=\"1\" class=\"dataframe\">\n",
       "  <thead>\n",
       "    <tr style=\"text-align: right;\">\n",
       "      <th></th>\n",
       "      <th>region</th>\n",
       "      <th>first_device</th>\n",
       "      <th>customers</th>\n",
       "      <th>region_users</th>\n",
       "      <th>% of customers</th>\n",
       "    </tr>\n",
       "  </thead>\n",
       "  <tbody>\n",
       "    <tr>\n",
       "      <th>3</th>\n",
       "      <td>France</td>\n",
       "      <td>iPhone</td>\n",
       "      <td>134</td>\n",
       "      <td>17444</td>\n",
       "      <td>0.77</td>\n",
       "    </tr>\n",
       "    <tr>\n",
       "      <th>7</th>\n",
       "      <td>Germany</td>\n",
       "      <td>iPhone</td>\n",
       "      <td>120</td>\n",
       "      <td>14978</td>\n",
       "      <td>0.80</td>\n",
       "    </tr>\n",
       "    <tr>\n",
       "      <th>11</th>\n",
       "      <td>UK</td>\n",
       "      <td>iPhone</td>\n",
       "      <td>134</td>\n",
       "      <td>17573</td>\n",
       "      <td>0.76</td>\n",
       "    </tr>\n",
       "    <tr>\n",
       "      <th>15</th>\n",
       "      <td>United States</td>\n",
       "      <td>iPhone</td>\n",
       "      <td>2994</td>\n",
       "      <td>99976</td>\n",
       "      <td>2.99</td>\n",
       "    </tr>\n",
       "  </tbody>\n",
       "</table>\n",
       "</div>"
      ],
      "text/plain": [
       "           region first_device  customers  region_users  % of customers\n",
       "3          France       iPhone        134         17444            0.77\n",
       "7         Germany       iPhone        120         14978            0.80\n",
       "11             UK       iPhone        134         17573            0.76\n",
       "15  United States       iPhone       2994         99976            2.99"
      ]
     },
     "metadata": {},
     "output_type": "display_data"
    },
    {
     "data": {
      "image/png": "[encoded data removed]",
      "text/plain": [
       "<Figure size 648x648 with 4 Axes>"
      ]
     },
     "metadata": {
      "needs_background": "light"
     },
     "output_type": "display_data"
    }
   ],
   "source": [
    "device = list(visits_device_1['first_device'].unique())\n",
    "\n",
    "\n",
    "plt.figure(figsize=(9,9))\n",
    "for i in range (0, len(device)):\n",
    "    a = device[i]\n",
    "    temp_1 = visits_device_1.query('first_device == @a ')\n",
    "    temp_2 = visits_device_2.query('first_device == @a ')\n",
    "    s = int(str(22)+str(i+1))\n",
    "    display(temp_1)\n",
    "    display(temp_2)\n",
    "    plt.subplot(s)\n",
    "    plt.title(a)\n",
    "    plt.bar(temp_1[\"region\"], temp_1['% of devices'], alpha = 0.5)\n",
    "    plt.bar(temp_2[\"region\"], temp_2['% of customers'], alpha = 0.5)\n",
    "\n",
    "plt.show()\n",
    "\n"
   ]
  },
  {
   "cell_type": "markdown",
   "metadata": {},
   "source": [
    "Regions are ok, however channels included missinformation about users history. For ROI and CAC analysis we need to clear the data.\n",
    "Now, as we dont have instructions about channels priority  we rewrite in visits channel to the first occured channel by user "
   ]
  },
  {
   "cell_type": "code",
   "execution_count": 17,
   "metadata": {
    "scrolled": false
   },
   "outputs": [
    {
     "data": {
      "text/html": [
       "<div>\n",
       "<style scoped>\n",
       "    .dataframe tbody tr th:only-of-type {\n",
       "        vertical-align: middle;\n",
       "    }\n",
       "\n",
       "    .dataframe tbody tr th {\n",
       "        vertical-align: top;\n",
       "    }\n",
       "\n",
       "    .dataframe thead th {\n",
       "        text-align: right;\n",
       "    }\n",
       "</style>\n",
       "<table border=\"1\" class=\"dataframe\">\n",
       "  <thead>\n",
       "    <tr style=\"text-align: right;\">\n",
       "      <th></th>\n",
       "      <th>region</th>\n",
       "      <th>first_channel</th>\n",
       "      <th>users</th>\n",
       "      <th>customers</th>\n",
       "      <th>region_users</th>\n",
       "      <th>users%_of_region</th>\n",
       "      <th>customer%_of_channel</th>\n",
       "    </tr>\n",
       "  </thead>\n",
       "  <tbody>\n",
       "    <tr>\n",
       "      <th>0</th>\n",
       "      <td>France</td>\n",
       "      <td>AdNonSense</td>\n",
       "      <td>1366</td>\n",
       "      <td>150</td>\n",
       "      <td>17444</td>\n",
       "      <td>7.83</td>\n",
       "      <td>0.86</td>\n",
       "    </tr>\n",
       "    <tr>\n",
       "      <th>1</th>\n",
       "      <td>France</td>\n",
       "      <td>LeapBob</td>\n",
       "      <td>2988</td>\n",
       "      <td>90</td>\n",
       "      <td>17444</td>\n",
       "      <td>17.13</td>\n",
       "      <td>0.52</td>\n",
       "    </tr>\n",
       "    <tr>\n",
       "      <th>2</th>\n",
       "      <td>France</td>\n",
       "      <td>OppleCreativeMedia</td>\n",
       "      <td>2991</td>\n",
       "      <td>80</td>\n",
       "      <td>17444</td>\n",
       "      <td>17.15</td>\n",
       "      <td>0.46</td>\n",
       "    </tr>\n",
       "    <tr>\n",
       "      <th>3</th>\n",
       "      <td>France</td>\n",
       "      <td>WahooNetBanner</td>\n",
       "      <td>2968</td>\n",
       "      <td>152</td>\n",
       "      <td>17444</td>\n",
       "      <td>17.01</td>\n",
       "      <td>0.87</td>\n",
       "    </tr>\n",
       "    <tr>\n",
       "      <th>4</th>\n",
       "      <td>France</td>\n",
       "      <td>lambdaMediaAds</td>\n",
       "      <td>742</td>\n",
       "      <td>82</td>\n",
       "      <td>17444</td>\n",
       "      <td>4.25</td>\n",
       "      <td>0.47</td>\n",
       "    </tr>\n",
       "    <tr>\n",
       "      <th>5</th>\n",
       "      <td>France</td>\n",
       "      <td>organic</td>\n",
       "      <td>6389</td>\n",
       "      <td>109</td>\n",
       "      <td>17444</td>\n",
       "      <td>36.63</td>\n",
       "      <td>0.62</td>\n",
       "    </tr>\n",
       "  </tbody>\n",
       "</table>\n",
       "</div>"
      ],
      "text/plain": [
       "   region       first_channel  users  customers  region_users  \\\n",
       "0  France          AdNonSense   1366        150         17444   \n",
       "1  France             LeapBob   2988         90         17444   \n",
       "2  France  OppleCreativeMedia   2991         80         17444   \n",
       "3  France      WahooNetBanner   2968        152         17444   \n",
       "4  France      lambdaMediaAds    742         82         17444   \n",
       "5  France             organic   6389        109         17444   \n",
       "\n",
       "   users%_of_region  customer%_of_channel  \n",
       "0              7.83                  0.86  \n",
       "1             17.13                  0.52  \n",
       "2             17.15                  0.46  \n",
       "3             17.01                  0.87  \n",
       "4              4.25                  0.47  \n",
       "5             36.63                  0.62  "
      ]
     },
     "metadata": {},
     "output_type": "display_data"
    },
    {
     "data": {
      "text/html": [
       "<div>\n",
       "<style scoped>\n",
       "    .dataframe tbody tr th:only-of-type {\n",
       "        vertical-align: middle;\n",
       "    }\n",
       "\n",
       "    .dataframe tbody tr th {\n",
       "        vertical-align: top;\n",
       "    }\n",
       "\n",
       "    .dataframe thead th {\n",
       "        text-align: right;\n",
       "    }\n",
       "</style>\n",
       "<table border=\"1\" class=\"dataframe\">\n",
       "  <thead>\n",
       "    <tr style=\"text-align: right;\">\n",
       "      <th></th>\n",
       "      <th>region</th>\n",
       "      <th>first_channel</th>\n",
       "      <th>users</th>\n",
       "      <th>customers</th>\n",
       "      <th>region_users</th>\n",
       "      <th>users%_of_region</th>\n",
       "      <th>customer%_of_channel</th>\n",
       "    </tr>\n",
       "  </thead>\n",
       "  <tbody>\n",
       "    <tr>\n",
       "      <th>6</th>\n",
       "      <td>Germany</td>\n",
       "      <td>AdNonSense</td>\n",
       "      <td>1219</td>\n",
       "      <td>142</td>\n",
       "      <td>14978</td>\n",
       "      <td>8.14</td>\n",
       "      <td>0.95</td>\n",
       "    </tr>\n",
       "    <tr>\n",
       "      <th>7</th>\n",
       "      <td>Germany</td>\n",
       "      <td>LeapBob</td>\n",
       "      <td>2518</td>\n",
       "      <td>69</td>\n",
       "      <td>14978</td>\n",
       "      <td>16.81</td>\n",
       "      <td>0.46</td>\n",
       "    </tr>\n",
       "    <tr>\n",
       "      <th>8</th>\n",
       "      <td>Germany</td>\n",
       "      <td>OppleCreativeMedia</td>\n",
       "      <td>2560</td>\n",
       "      <td>64</td>\n",
       "      <td>14978</td>\n",
       "      <td>17.09</td>\n",
       "      <td>0.43</td>\n",
       "    </tr>\n",
       "    <tr>\n",
       "      <th>9</th>\n",
       "      <td>Germany</td>\n",
       "      <td>WahooNetBanner</td>\n",
       "      <td>2579</td>\n",
       "      <td>148</td>\n",
       "      <td>14978</td>\n",
       "      <td>17.22</td>\n",
       "      <td>0.99</td>\n",
       "    </tr>\n",
       "    <tr>\n",
       "      <th>10</th>\n",
       "      <td>Germany</td>\n",
       "      <td>lambdaMediaAds</td>\n",
       "      <td>649</td>\n",
       "      <td>67</td>\n",
       "      <td>14978</td>\n",
       "      <td>4.33</td>\n",
       "      <td>0.45</td>\n",
       "    </tr>\n",
       "    <tr>\n",
       "      <th>11</th>\n",
       "      <td>Germany</td>\n",
       "      <td>organic</td>\n",
       "      <td>5453</td>\n",
       "      <td>126</td>\n",
       "      <td>14978</td>\n",
       "      <td>36.41</td>\n",
       "      <td>0.84</td>\n",
       "    </tr>\n",
       "  </tbody>\n",
       "</table>\n",
       "</div>"
      ],
      "text/plain": [
       "     region       first_channel  users  customers  region_users  \\\n",
       "6   Germany          AdNonSense   1219        142         14978   \n",
       "7   Germany             LeapBob   2518         69         14978   \n",
       "8   Germany  OppleCreativeMedia   2560         64         14978   \n",
       "9   Germany      WahooNetBanner   2579        148         14978   \n",
       "10  Germany      lambdaMediaAds    649         67         14978   \n",
       "11  Germany             organic   5453        126         14978   \n",
       "\n",
       "    users%_of_region  customer%_of_channel  \n",
       "6               8.14                  0.95  \n",
       "7              16.81                  0.46  \n",
       "8              17.09                  0.43  \n",
       "9              17.22                  0.99  \n",
       "10              4.33                  0.45  \n",
       "11             36.41                  0.84  "
      ]
     },
     "metadata": {},
     "output_type": "display_data"
    },
    {
     "data": {
      "text/html": [
       "<div>\n",
       "<style scoped>\n",
       "    .dataframe tbody tr th:only-of-type {\n",
       "        vertical-align: middle;\n",
       "    }\n",
       "\n",
       "    .dataframe tbody tr th {\n",
       "        vertical-align: top;\n",
       "    }\n",
       "\n",
       "    .dataframe thead th {\n",
       "        text-align: right;\n",
       "    }\n",
       "</style>\n",
       "<table border=\"1\" class=\"dataframe\">\n",
       "  <thead>\n",
       "    <tr style=\"text-align: right;\">\n",
       "      <th></th>\n",
       "      <th>region</th>\n",
       "      <th>first_channel</th>\n",
       "      <th>users</th>\n",
       "      <th>customers</th>\n",
       "      <th>region_users</th>\n",
       "      <th>users%_of_region</th>\n",
       "      <th>customer%_of_channel</th>\n",
       "    </tr>\n",
       "  </thead>\n",
       "  <tbody>\n",
       "    <tr>\n",
       "      <th>12</th>\n",
       "      <td>UK</td>\n",
       "      <td>AdNonSense</td>\n",
       "      <td>1295</td>\n",
       "      <td>148</td>\n",
       "      <td>17573</td>\n",
       "      <td>7.37</td>\n",
       "      <td>0.84</td>\n",
       "    </tr>\n",
       "    <tr>\n",
       "      <th>13</th>\n",
       "      <td>UK</td>\n",
       "      <td>LeapBob</td>\n",
       "      <td>3046</td>\n",
       "      <td>103</td>\n",
       "      <td>17573</td>\n",
       "      <td>17.33</td>\n",
       "      <td>0.59</td>\n",
       "    </tr>\n",
       "    <tr>\n",
       "      <th>14</th>\n",
       "      <td>UK</td>\n",
       "      <td>OppleCreativeMedia</td>\n",
       "      <td>3051</td>\n",
       "      <td>89</td>\n",
       "      <td>17573</td>\n",
       "      <td>17.36</td>\n",
       "      <td>0.51</td>\n",
       "    </tr>\n",
       "    <tr>\n",
       "      <th>15</th>\n",
       "      <td>UK</td>\n",
       "      <td>WahooNetBanner</td>\n",
       "      <td>3002</td>\n",
       "      <td>153</td>\n",
       "      <td>17573</td>\n",
       "      <td>17.08</td>\n",
       "      <td>0.87</td>\n",
       "    </tr>\n",
       "    <tr>\n",
       "      <th>16</th>\n",
       "      <td>UK</td>\n",
       "      <td>lambdaMediaAds</td>\n",
       "      <td>758</td>\n",
       "      <td>76</td>\n",
       "      <td>17573</td>\n",
       "      <td>4.31</td>\n",
       "      <td>0.43</td>\n",
       "    </tr>\n",
       "    <tr>\n",
       "      <th>17</th>\n",
       "      <td>UK</td>\n",
       "      <td>organic</td>\n",
       "      <td>6421</td>\n",
       "      <td>131</td>\n",
       "      <td>17573</td>\n",
       "      <td>36.54</td>\n",
       "      <td>0.75</td>\n",
       "    </tr>\n",
       "  </tbody>\n",
       "</table>\n",
       "</div>"
      ],
      "text/plain": [
       "   region       first_channel  users  customers  region_users  \\\n",
       "12     UK          AdNonSense   1295        148         17573   \n",
       "13     UK             LeapBob   3046        103         17573   \n",
       "14     UK  OppleCreativeMedia   3051         89         17573   \n",
       "15     UK      WahooNetBanner   3002        153         17573   \n",
       "16     UK      lambdaMediaAds    758         76         17573   \n",
       "17     UK             organic   6421        131         17573   \n",
       "\n",
       "    users%_of_region  customer%_of_channel  \n",
       "12              7.37                  0.84  \n",
       "13             17.33                  0.59  \n",
       "14             17.36                  0.51  \n",
       "15             17.08                  0.87  \n",
       "16              4.31                  0.43  \n",
       "17             36.54                  0.75  "
      ]
     },
     "metadata": {},
     "output_type": "display_data"
    },
    {
     "data": {
      "text/html": [
       "<div>\n",
       "<style scoped>\n",
       "    .dataframe tbody tr th:only-of-type {\n",
       "        vertical-align: middle;\n",
       "    }\n",
       "\n",
       "    .dataframe tbody tr th {\n",
       "        vertical-align: top;\n",
       "    }\n",
       "\n",
       "    .dataframe thead th {\n",
       "        text-align: right;\n",
       "    }\n",
       "</style>\n",
       "<table border=\"1\" class=\"dataframe\">\n",
       "  <thead>\n",
       "    <tr style=\"text-align: right;\">\n",
       "      <th></th>\n",
       "      <th>region</th>\n",
       "      <th>first_channel</th>\n",
       "      <th>users</th>\n",
       "      <th>customers</th>\n",
       "      <th>region_users</th>\n",
       "      <th>users%_of_region</th>\n",
       "      <th>customer%_of_channel</th>\n",
       "    </tr>\n",
       "  </thead>\n",
       "  <tbody>\n",
       "    <tr>\n",
       "      <th>18</th>\n",
       "      <td>United States</td>\n",
       "      <td>FaceBoom</td>\n",
       "      <td>29135</td>\n",
       "      <td>3557</td>\n",
       "      <td>99976</td>\n",
       "      <td>29.14</td>\n",
       "      <td>3.56</td>\n",
       "    </tr>\n",
       "    <tr>\n",
       "      <th>19</th>\n",
       "      <td>United States</td>\n",
       "      <td>MediaTornado</td>\n",
       "      <td>4363</td>\n",
       "      <td>156</td>\n",
       "      <td>99976</td>\n",
       "      <td>4.36</td>\n",
       "      <td>0.16</td>\n",
       "    </tr>\n",
       "    <tr>\n",
       "      <th>20</th>\n",
       "      <td>United States</td>\n",
       "      <td>RocketSuperAds</td>\n",
       "      <td>4447</td>\n",
       "      <td>352</td>\n",
       "      <td>99976</td>\n",
       "      <td>4.45</td>\n",
       "      <td>0.35</td>\n",
       "    </tr>\n",
       "    <tr>\n",
       "      <th>21</th>\n",
       "      <td>United States</td>\n",
       "      <td>TipTop</td>\n",
       "      <td>19556</td>\n",
       "      <td>1878</td>\n",
       "      <td>99976</td>\n",
       "      <td>19.56</td>\n",
       "      <td>1.88</td>\n",
       "    </tr>\n",
       "    <tr>\n",
       "      <th>22</th>\n",
       "      <td>United States</td>\n",
       "      <td>YRabbit</td>\n",
       "      <td>4312</td>\n",
       "      <td>165</td>\n",
       "      <td>99976</td>\n",
       "      <td>4.31</td>\n",
       "      <td>0.17</td>\n",
       "    </tr>\n",
       "    <tr>\n",
       "      <th>23</th>\n",
       "      <td>United States</td>\n",
       "      <td>organic</td>\n",
       "      <td>38163</td>\n",
       "      <td>794</td>\n",
       "      <td>99976</td>\n",
       "      <td>38.17</td>\n",
       "      <td>0.79</td>\n",
       "    </tr>\n",
       "  </tbody>\n",
       "</table>\n",
       "</div>"
      ],
      "text/plain": [
       "           region   first_channel  users  customers  region_users  \\\n",
       "18  United States        FaceBoom  29135       3557         99976   \n",
       "19  United States    MediaTornado   4363        156         99976   \n",
       "20  United States  RocketSuperAds   4447        352         99976   \n",
       "21  United States          TipTop  19556       1878         99976   \n",
       "22  United States         YRabbit   4312        165         99976   \n",
       "23  United States         organic  38163        794         99976   \n",
       "\n",
       "    users%_of_region  customer%_of_channel  \n",
       "18             29.14                  3.56  \n",
       "19              4.36                  0.16  \n",
       "20              4.45                  0.35  \n",
       "21             19.56                  1.88  \n",
       "22              4.31                  0.17  \n",
       "23             38.17                  0.79  "
      ]
     },
     "metadata": {},
     "output_type": "display_data"
    }
   ],
   "source": [
    "visits_region_channel = visits.groupby(by=['region','first_channel'], as_index=False).agg({'user_id':'nunique'})\n",
    "visit_region_customer = visits.query('customer == 1').groupby(by=['region','first_channel'], as_index=False).agg({'user_id':'nunique','region':'first','first_channel':'first'})\n",
    "\n",
    "visits_region_channel= visits_region_channel.merge(visit_region_customer, on=['region','first_channel'])\n",
    "visits_region_channel= visits_region_channel.merge(visits_region, on='region')\n",
    "visits_region_channel.columns = ['region','first_channel','users','customers','region_users']\n",
    "visits_region_channel['users%_of_region'] = round(visits_region_channel['users']/visits_region_channel['region_users'],4)*100\n",
    "visits_region_channel['customer%_of_channel'] = round(visits_region_channel['customers']/visits_region_channel['region_users'],4)*100\n",
    "region = list(visits_region_channel['region'].unique())\n",
    "\n",
    "#display(visits_region_channel)\n",
    "for i in region:\n",
    "    display(visits_region_channel.query('region == @i '))\n"
   ]
  },
  {
   "cell_type": "code",
   "execution_count": 18,
   "metadata": {},
   "outputs": [
    {
     "data": {
      "text/html": [
       "<div>\n",
       "<style scoped>\n",
       "    .dataframe tbody tr th:only-of-type {\n",
       "        vertical-align: middle;\n",
       "    }\n",
       "\n",
       "    .dataframe tbody tr th {\n",
       "        vertical-align: top;\n",
       "    }\n",
       "\n",
       "    .dataframe thead th {\n",
       "        text-align: right;\n",
       "    }\n",
       "</style>\n",
       "<table border=\"1\" class=\"dataframe\">\n",
       "  <thead>\n",
       "    <tr style=\"text-align: right;\">\n",
       "      <th></th>\n",
       "      <th>region</th>\n",
       "      <th>first_channel</th>\n",
       "      <th>users</th>\n",
       "      <th>customers</th>\n",
       "      <th>region_users</th>\n",
       "      <th>users%_of_region</th>\n",
       "      <th>customer%_of_channel</th>\n",
       "    </tr>\n",
       "  </thead>\n",
       "  <tbody>\n",
       "    <tr>\n",
       "      <th>0</th>\n",
       "      <td>France</td>\n",
       "      <td>AdNonSense</td>\n",
       "      <td>1366</td>\n",
       "      <td>150</td>\n",
       "      <td>17444</td>\n",
       "      <td>7.83</td>\n",
       "      <td>0.86</td>\n",
       "    </tr>\n",
       "    <tr>\n",
       "      <th>1</th>\n",
       "      <td>France</td>\n",
       "      <td>LeapBob</td>\n",
       "      <td>2988</td>\n",
       "      <td>90</td>\n",
       "      <td>17444</td>\n",
       "      <td>17.13</td>\n",
       "      <td>0.52</td>\n",
       "    </tr>\n",
       "    <tr>\n",
       "      <th>2</th>\n",
       "      <td>France</td>\n",
       "      <td>OppleCreativeMedia</td>\n",
       "      <td>2991</td>\n",
       "      <td>80</td>\n",
       "      <td>17444</td>\n",
       "      <td>17.15</td>\n",
       "      <td>0.46</td>\n",
       "    </tr>\n",
       "    <tr>\n",
       "      <th>3</th>\n",
       "      <td>France</td>\n",
       "      <td>WahooNetBanner</td>\n",
       "      <td>2968</td>\n",
       "      <td>152</td>\n",
       "      <td>17444</td>\n",
       "      <td>17.01</td>\n",
       "      <td>0.87</td>\n",
       "    </tr>\n",
       "    <tr>\n",
       "      <th>4</th>\n",
       "      <td>France</td>\n",
       "      <td>lambdaMediaAds</td>\n",
       "      <td>742</td>\n",
       "      <td>82</td>\n",
       "      <td>17444</td>\n",
       "      <td>4.25</td>\n",
       "      <td>0.47</td>\n",
       "    </tr>\n",
       "    <tr>\n",
       "      <th>5</th>\n",
       "      <td>France</td>\n",
       "      <td>organic</td>\n",
       "      <td>6389</td>\n",
       "      <td>109</td>\n",
       "      <td>17444</td>\n",
       "      <td>36.63</td>\n",
       "      <td>0.62</td>\n",
       "    </tr>\n",
       "  </tbody>\n",
       "</table>\n",
       "</div>"
      ],
      "text/plain": [
       "   region       first_channel  users  customers  region_users  \\\n",
       "0  France          AdNonSense   1366        150         17444   \n",
       "1  France             LeapBob   2988         90         17444   \n",
       "2  France  OppleCreativeMedia   2991         80         17444   \n",
       "3  France      WahooNetBanner   2968        152         17444   \n",
       "4  France      lambdaMediaAds    742         82         17444   \n",
       "5  France             organic   6389        109         17444   \n",
       "\n",
       "   users%_of_region  customer%_of_channel  \n",
       "0              7.83                  0.86  \n",
       "1             17.13                  0.52  \n",
       "2             17.15                  0.46  \n",
       "3             17.01                  0.87  \n",
       "4              4.25                  0.47  \n",
       "5             36.63                  0.62  "
      ]
     },
     "metadata": {},
     "output_type": "display_data"
    },
    {
     "data": {
      "text/html": [
       "<div>\n",
       "<style scoped>\n",
       "    .dataframe tbody tr th:only-of-type {\n",
       "        vertical-align: middle;\n",
       "    }\n",
       "\n",
       "    .dataframe tbody tr th {\n",
       "        vertical-align: top;\n",
       "    }\n",
       "\n",
       "    .dataframe thead th {\n",
       "        text-align: right;\n",
       "    }\n",
       "</style>\n",
       "<table border=\"1\" class=\"dataframe\">\n",
       "  <thead>\n",
       "    <tr style=\"text-align: right;\">\n",
       "      <th></th>\n",
       "      <th>region</th>\n",
       "      <th>first_channel</th>\n",
       "      <th>users</th>\n",
       "      <th>customers</th>\n",
       "      <th>region_users</th>\n",
       "      <th>users%_of_region</th>\n",
       "      <th>customer%_of_channel</th>\n",
       "    </tr>\n",
       "  </thead>\n",
       "  <tbody>\n",
       "    <tr>\n",
       "      <th>6</th>\n",
       "      <td>Germany</td>\n",
       "      <td>AdNonSense</td>\n",
       "      <td>1219</td>\n",
       "      <td>142</td>\n",
       "      <td>14978</td>\n",
       "      <td>8.14</td>\n",
       "      <td>0.95</td>\n",
       "    </tr>\n",
       "    <tr>\n",
       "      <th>7</th>\n",
       "      <td>Germany</td>\n",
       "      <td>LeapBob</td>\n",
       "      <td>2518</td>\n",
       "      <td>69</td>\n",
       "      <td>14978</td>\n",
       "      <td>16.81</td>\n",
       "      <td>0.46</td>\n",
       "    </tr>\n",
       "    <tr>\n",
       "      <th>8</th>\n",
       "      <td>Germany</td>\n",
       "      <td>OppleCreativeMedia</td>\n",
       "      <td>2560</td>\n",
       "      <td>64</td>\n",
       "      <td>14978</td>\n",
       "      <td>17.09</td>\n",
       "      <td>0.43</td>\n",
       "    </tr>\n",
       "    <tr>\n",
       "      <th>9</th>\n",
       "      <td>Germany</td>\n",
       "      <td>WahooNetBanner</td>\n",
       "      <td>2579</td>\n",
       "      <td>148</td>\n",
       "      <td>14978</td>\n",
       "      <td>17.22</td>\n",
       "      <td>0.99</td>\n",
       "    </tr>\n",
       "    <tr>\n",
       "      <th>10</th>\n",
       "      <td>Germany</td>\n",
       "      <td>lambdaMediaAds</td>\n",
       "      <td>649</td>\n",
       "      <td>67</td>\n",
       "      <td>14978</td>\n",
       "      <td>4.33</td>\n",
       "      <td>0.45</td>\n",
       "    </tr>\n",
       "    <tr>\n",
       "      <th>11</th>\n",
       "      <td>Germany</td>\n",
       "      <td>organic</td>\n",
       "      <td>5453</td>\n",
       "      <td>126</td>\n",
       "      <td>14978</td>\n",
       "      <td>36.41</td>\n",
       "      <td>0.84</td>\n",
       "    </tr>\n",
       "  </tbody>\n",
       "</table>\n",
       "</div>"
      ],
      "text/plain": [
       "     region       first_channel  users  customers  region_users  \\\n",
       "6   Germany          AdNonSense   1219        142         14978   \n",
       "7   Germany             LeapBob   2518         69         14978   \n",
       "8   Germany  OppleCreativeMedia   2560         64         14978   \n",
       "9   Germany      WahooNetBanner   2579        148         14978   \n",
       "10  Germany      lambdaMediaAds    649         67         14978   \n",
       "11  Germany             organic   5453        126         14978   \n",
       "\n",
       "    users%_of_region  customer%_of_channel  \n",
       "6               8.14                  0.95  \n",
       "7              16.81                  0.46  \n",
       "8              17.09                  0.43  \n",
       "9              17.22                  0.99  \n",
       "10              4.33                  0.45  \n",
       "11             36.41                  0.84  "
      ]
     },
     "metadata": {},
     "output_type": "display_data"
    },
    {
     "data": {
      "text/html": [
       "<div>\n",
       "<style scoped>\n",
       "    .dataframe tbody tr th:only-of-type {\n",
       "        vertical-align: middle;\n",
       "    }\n",
       "\n",
       "    .dataframe tbody tr th {\n",
       "        vertical-align: top;\n",
       "    }\n",
       "\n",
       "    .dataframe thead th {\n",
       "        text-align: right;\n",
       "    }\n",
       "</style>\n",
       "<table border=\"1\" class=\"dataframe\">\n",
       "  <thead>\n",
       "    <tr style=\"text-align: right;\">\n",
       "      <th></th>\n",
       "      <th>region</th>\n",
       "      <th>first_channel</th>\n",
       "      <th>users</th>\n",
       "      <th>customers</th>\n",
       "      <th>region_users</th>\n",
       "      <th>users%_of_region</th>\n",
       "      <th>customer%_of_channel</th>\n",
       "    </tr>\n",
       "  </thead>\n",
       "  <tbody>\n",
       "    <tr>\n",
       "      <th>12</th>\n",
       "      <td>UK</td>\n",
       "      <td>AdNonSense</td>\n",
       "      <td>1295</td>\n",
       "      <td>148</td>\n",
       "      <td>17573</td>\n",
       "      <td>7.37</td>\n",
       "      <td>0.84</td>\n",
       "    </tr>\n",
       "    <tr>\n",
       "      <th>13</th>\n",
       "      <td>UK</td>\n",
       "      <td>LeapBob</td>\n",
       "      <td>3046</td>\n",
       "      <td>103</td>\n",
       "      <td>17573</td>\n",
       "      <td>17.33</td>\n",
       "      <td>0.59</td>\n",
       "    </tr>\n",
       "    <tr>\n",
       "      <th>14</th>\n",
       "      <td>UK</td>\n",
       "      <td>OppleCreativeMedia</td>\n",
       "      <td>3051</td>\n",
       "      <td>89</td>\n",
       "      <td>17573</td>\n",
       "      <td>17.36</td>\n",
       "      <td>0.51</td>\n",
       "    </tr>\n",
       "    <tr>\n",
       "      <th>15</th>\n",
       "      <td>UK</td>\n",
       "      <td>WahooNetBanner</td>\n",
       "      <td>3002</td>\n",
       "      <td>153</td>\n",
       "      <td>17573</td>\n",
       "      <td>17.08</td>\n",
       "      <td>0.87</td>\n",
       "    </tr>\n",
       "    <tr>\n",
       "      <th>16</th>\n",
       "      <td>UK</td>\n",
       "      <td>lambdaMediaAds</td>\n",
       "      <td>758</td>\n",
       "      <td>76</td>\n",
       "      <td>17573</td>\n",
       "      <td>4.31</td>\n",
       "      <td>0.43</td>\n",
       "    </tr>\n",
       "    <tr>\n",
       "      <th>17</th>\n",
       "      <td>UK</td>\n",
       "      <td>organic</td>\n",
       "      <td>6421</td>\n",
       "      <td>131</td>\n",
       "      <td>17573</td>\n",
       "      <td>36.54</td>\n",
       "      <td>0.75</td>\n",
       "    </tr>\n",
       "  </tbody>\n",
       "</table>\n",
       "</div>"
      ],
      "text/plain": [
       "   region       first_channel  users  customers  region_users  \\\n",
       "12     UK          AdNonSense   1295        148         17573   \n",
       "13     UK             LeapBob   3046        103         17573   \n",
       "14     UK  OppleCreativeMedia   3051         89         17573   \n",
       "15     UK      WahooNetBanner   3002        153         17573   \n",
       "16     UK      lambdaMediaAds    758         76         17573   \n",
       "17     UK             organic   6421        131         17573   \n",
       "\n",
       "    users%_of_region  customer%_of_channel  \n",
       "12              7.37                  0.84  \n",
       "13             17.33                  0.59  \n",
       "14             17.36                  0.51  \n",
       "15             17.08                  0.87  \n",
       "16              4.31                  0.43  \n",
       "17             36.54                  0.75  "
      ]
     },
     "metadata": {},
     "output_type": "display_data"
    },
    {
     "data": {
      "text/html": [
       "<div>\n",
       "<style scoped>\n",
       "    .dataframe tbody tr th:only-of-type {\n",
       "        vertical-align: middle;\n",
       "    }\n",
       "\n",
       "    .dataframe tbody tr th {\n",
       "        vertical-align: top;\n",
       "    }\n",
       "\n",
       "    .dataframe thead th {\n",
       "        text-align: right;\n",
       "    }\n",
       "</style>\n",
       "<table border=\"1\" class=\"dataframe\">\n",
       "  <thead>\n",
       "    <tr style=\"text-align: right;\">\n",
       "      <th></th>\n",
       "      <th>region</th>\n",
       "      <th>first_channel</th>\n",
       "      <th>users</th>\n",
       "      <th>customers</th>\n",
       "      <th>region_users</th>\n",
       "      <th>users%_of_region</th>\n",
       "      <th>customer%_of_channel</th>\n",
       "    </tr>\n",
       "  </thead>\n",
       "  <tbody>\n",
       "    <tr>\n",
       "      <th>18</th>\n",
       "      <td>United States</td>\n",
       "      <td>FaceBoom</td>\n",
       "      <td>29135</td>\n",
       "      <td>3557</td>\n",
       "      <td>99976</td>\n",
       "      <td>29.14</td>\n",
       "      <td>3.56</td>\n",
       "    </tr>\n",
       "    <tr>\n",
       "      <th>19</th>\n",
       "      <td>United States</td>\n",
       "      <td>MediaTornado</td>\n",
       "      <td>4363</td>\n",
       "      <td>156</td>\n",
       "      <td>99976</td>\n",
       "      <td>4.36</td>\n",
       "      <td>0.16</td>\n",
       "    </tr>\n",
       "    <tr>\n",
       "      <th>20</th>\n",
       "      <td>United States</td>\n",
       "      <td>RocketSuperAds</td>\n",
       "      <td>4447</td>\n",
       "      <td>352</td>\n",
       "      <td>99976</td>\n",
       "      <td>4.45</td>\n",
       "      <td>0.35</td>\n",
       "    </tr>\n",
       "    <tr>\n",
       "      <th>21</th>\n",
       "      <td>United States</td>\n",
       "      <td>TipTop</td>\n",
       "      <td>19556</td>\n",
       "      <td>1878</td>\n",
       "      <td>99976</td>\n",
       "      <td>19.56</td>\n",
       "      <td>1.88</td>\n",
       "    </tr>\n",
       "    <tr>\n",
       "      <th>22</th>\n",
       "      <td>United States</td>\n",
       "      <td>YRabbit</td>\n",
       "      <td>4312</td>\n",
       "      <td>165</td>\n",
       "      <td>99976</td>\n",
       "      <td>4.31</td>\n",
       "      <td>0.17</td>\n",
       "    </tr>\n",
       "    <tr>\n",
       "      <th>23</th>\n",
       "      <td>United States</td>\n",
       "      <td>organic</td>\n",
       "      <td>38163</td>\n",
       "      <td>794</td>\n",
       "      <td>99976</td>\n",
       "      <td>38.17</td>\n",
       "      <td>0.79</td>\n",
       "    </tr>\n",
       "  </tbody>\n",
       "</table>\n",
       "</div>"
      ],
      "text/plain": [
       "           region   first_channel  users  customers  region_users  \\\n",
       "18  United States        FaceBoom  29135       3557         99976   \n",
       "19  United States    MediaTornado   4363        156         99976   \n",
       "20  United States  RocketSuperAds   4447        352         99976   \n",
       "21  United States          TipTop  19556       1878         99976   \n",
       "22  United States         YRabbit   4312        165         99976   \n",
       "23  United States         organic  38163        794         99976   \n",
       "\n",
       "    users%_of_region  customer%_of_channel  \n",
       "18             29.14                  3.56  \n",
       "19              4.36                  0.16  \n",
       "20              4.45                  0.35  \n",
       "21             19.56                  1.88  \n",
       "22              4.31                  0.17  \n",
       "23             38.17                  0.79  "
      ]
     },
     "metadata": {},
     "output_type": "display_data"
    },
    {
     "data": {
      "image/png": "[encoded data removed]",
      "text/plain": [
       "<Figure size 1296x864 with 4 Axes>"
      ]
     },
     "metadata": {
      "needs_background": "light"
     },
     "output_type": "display_data"
    }
   ],
   "source": [
    "plt.figure(figsize=(18,12))\n",
    "\n",
    "\n",
    "for i in range (0, len(region)):\n",
    "    a = region[i]\n",
    "    temp_1 = visits_region_channel.query('region == @a ')\n",
    "    s = int(str(22)+str(i+1))\n",
    "    display(temp_1)\n",
    "    plt.subplot(s)\n",
    "    plt.title(a)\n",
    "    plt.bar(temp_1[\"first_channel\"], temp_1['users%_of_region'], alpha = 0.5)\n",
    "    plt.bar(temp_1[\"first_channel\"], temp_1['customer%_of_channel'], alpha = 0.5)\n",
    "    plt.xticks(rotation=11)\n",
    "\n",
    "    \n",
    "plt.show()"
   ]
  },
  {
   "cell_type": "markdown",
   "metadata": {},
   "source": [
    "Users' and Customers' ratio among European countris are similar, difference in 1% range. Organic part  has simmilar customer ratio also in US, with a slighty better percentage. All countries have 6 channel to generate new_users. \n",
    "\n",
    "Let's check the devices distribution "
   ]
  },
  {
   "cell_type": "markdown",
   "metadata": {},
   "source": [
    "On the next step we will check the distribution of orders amount and revenue per user."
   ]
  },
  {
   "cell_type": "code",
   "execution_count": 19,
   "metadata": {},
   "outputs": [
    {
     "data": {
      "text/html": [
       "<div>\n",
       "<style scoped>\n",
       "    .dataframe tbody tr th:only-of-type {\n",
       "        vertical-align: middle;\n",
       "    }\n",
       "\n",
       "    .dataframe tbody tr th {\n",
       "        vertical-align: top;\n",
       "    }\n",
       "\n",
       "    .dataframe thead th {\n",
       "        text-align: right;\n",
       "    }\n",
       "</style>\n",
       "<table border=\"1\" class=\"dataframe\">\n",
       "  <thead>\n",
       "    <tr style=\"text-align: right;\">\n",
       "      <th></th>\n",
       "      <th>count</th>\n",
       "      <th>mean</th>\n",
       "      <th>std</th>\n",
       "      <th>min</th>\n",
       "      <th>25%</th>\n",
       "      <th>50%</th>\n",
       "      <th>75%</th>\n",
       "      <th>max</th>\n",
       "    </tr>\n",
       "  </thead>\n",
       "  <tbody>\n",
       "    <tr>\n",
       "      <th>event_dt</th>\n",
       "      <td>8881.0</td>\n",
       "      <td>4.527868</td>\n",
       "      <td>3.935765</td>\n",
       "      <td>1.00</td>\n",
       "      <td>1.00</td>\n",
       "      <td>3.00</td>\n",
       "      <td>7.00</td>\n",
       "      <td>22.00</td>\n",
       "    </tr>\n",
       "    <tr>\n",
       "      <th>revenue</th>\n",
       "      <td>8881.0</td>\n",
       "      <td>24.317406</td>\n",
       "      <td>22.381708</td>\n",
       "      <td>4.99</td>\n",
       "      <td>4.99</td>\n",
       "      <td>14.97</td>\n",
       "      <td>39.92</td>\n",
       "      <td>149.88</td>\n",
       "    </tr>\n",
       "  </tbody>\n",
       "</table>\n",
       "</div>"
      ],
      "text/plain": [
       "           count       mean        std   min   25%    50%    75%     max\n",
       "event_dt  8881.0   4.527868   3.935765  1.00  1.00   3.00   7.00   22.00\n",
       "revenue   8881.0  24.317406  22.381708  4.99  4.99  14.97  39.92  149.88"
      ]
     },
     "metadata": {},
     "output_type": "display_data"
    },
    {
     "data": {
      "image/png": "[encoded data removed]",
      "text/plain": [
       "<Figure size 432x288 with 1 Axes>"
      ]
     },
     "metadata": {
      "needs_background": "light"
     },
     "output_type": "display_data"
    },
    {
     "data": {
      "image/png": "[encoded data removed]",
      "text/plain": [
       "<Figure size 432x288 with 1 Axes>"
      ]
     },
     "metadata": {
      "needs_background": "light"
     },
     "output_type": "display_data"
    }
   ],
   "source": [
    "temp = orders.groupby('user_id', as_index = False).agg({'event_dt':'count','revenue':'sum'})\n",
    "display(temp[['event_dt','revenue']].describe().T)\n",
    "\n",
    "plt.hist(temp['event_dt'])\n",
    "plt.show()\n",
    "\n",
    "plt.hist(temp['revenue'])\n",
    "plt.show()"
   ]
  },
  {
   "cell_type": "markdown",
   "metadata": {},
   "source": [
    "Calculate CAC and ROI:"
   ]
  },
  {
   "cell_type": "code",
   "execution_count": null,
   "metadata": {},
   "outputs": [],
   "source": []
  },
  {
   "cell_type": "code",
   "execution_count": null,
   "metadata": {},
   "outputs": [],
   "source": []
  },
  {
   "cell_type": "code",
   "execution_count": null,
   "metadata": {},
   "outputs": [],
   "source": []
  },
  {
   "cell_type": "code",
   "execution_count": null,
   "metadata": {},
   "outputs": [],
   "source": []
  },
  {
   "cell_type": "code",
   "execution_count": 20,
   "metadata": {},
   "outputs": [
    {
     "data": {
      "text/html": [
       "<div>\n",
       "<style scoped>\n",
       "    .dataframe tbody tr th:only-of-type {\n",
       "        vertical-align: middle;\n",
       "    }\n",
       "\n",
       "    .dataframe tbody tr th {\n",
       "        vertical-align: top;\n",
       "    }\n",
       "\n",
       "    .dataframe thead th {\n",
       "        text-align: right;\n",
       "    }\n",
       "</style>\n",
       "<table border=\"1\" class=\"dataframe\">\n",
       "  <thead>\n",
       "    <tr style=\"text-align: right;\">\n",
       "      <th></th>\n",
       "      <th>dt</th>\n",
       "      <th>channel</th>\n",
       "      <th>costs</th>\n",
       "    </tr>\n",
       "  </thead>\n",
       "  <tbody>\n",
       "    <tr>\n",
       "      <th>0</th>\n",
       "      <td>2019-05-01</td>\n",
       "      <td>FaceBoom</td>\n",
       "      <td>113.3</td>\n",
       "    </tr>\n",
       "    <tr>\n",
       "      <th>1</th>\n",
       "      <td>2019-05-02</td>\n",
       "      <td>FaceBoom</td>\n",
       "      <td>78.1</td>\n",
       "    </tr>\n",
       "    <tr>\n",
       "      <th>2</th>\n",
       "      <td>2019-05-03</td>\n",
       "      <td>FaceBoom</td>\n",
       "      <td>85.8</td>\n",
       "    </tr>\n",
       "    <tr>\n",
       "      <th>3</th>\n",
       "      <td>2019-05-04</td>\n",
       "      <td>FaceBoom</td>\n",
       "      <td>136.4</td>\n",
       "    </tr>\n",
       "    <tr>\n",
       "      <th>4</th>\n",
       "      <td>2019-05-05</td>\n",
       "      <td>FaceBoom</td>\n",
       "      <td>122.1</td>\n",
       "    </tr>\n",
       "  </tbody>\n",
       "</table>\n",
       "</div>"
      ],
      "text/plain": [
       "           dt   channel  costs\n",
       "0  2019-05-01  FaceBoom  113.3\n",
       "1  2019-05-02  FaceBoom   78.1\n",
       "2  2019-05-03  FaceBoom   85.8\n",
       "3  2019-05-04  FaceBoom  136.4\n",
       "4  2019-05-05  FaceBoom  122.1"
      ]
     },
     "metadata": {},
     "output_type": "display_data"
    },
    {
     "data": {
      "text/html": [
       "<div>\n",
       "<style scoped>\n",
       "    .dataframe tbody tr th:only-of-type {\n",
       "        vertical-align: middle;\n",
       "    }\n",
       "\n",
       "    .dataframe tbody tr th {\n",
       "        vertical-align: top;\n",
       "    }\n",
       "\n",
       "    .dataframe thead th {\n",
       "        text-align: right;\n",
       "    }\n",
       "</style>\n",
       "<table border=\"1\" class=\"dataframe\">\n",
       "  <thead>\n",
       "    <tr style=\"text-align: right;\">\n",
       "      <th></th>\n",
       "      <th>user_id</th>\n",
       "      <th>region</th>\n",
       "      <th>device</th>\n",
       "      <th>channel</th>\n",
       "      <th>session_start</th>\n",
       "      <th>session_end</th>\n",
       "      <th>ses_len_min</th>\n",
       "      <th>customer</th>\n",
       "      <th>first_channel</th>\n",
       "      <th>first_device</th>\n",
       "    </tr>\n",
       "  </thead>\n",
       "  <tbody>\n",
       "    <tr>\n",
       "      <th>0</th>\n",
       "      <td>382394863972</td>\n",
       "      <td>United States</td>\n",
       "      <td>Mac</td>\n",
       "      <td>MediaTornado</td>\n",
       "      <td>2019-05-01 00:00:41</td>\n",
       "      <td>2019-05-01 01:13:45</td>\n",
       "      <td>73.07</td>\n",
       "      <td>0</td>\n",
       "      <td>MediaTornado</td>\n",
       "      <td>Mac</td>\n",
       "    </tr>\n",
       "    <tr>\n",
       "      <th>1</th>\n",
       "      <td>428935481941</td>\n",
       "      <td>UK</td>\n",
       "      <td>PC</td>\n",
       "      <td>AdNonSense</td>\n",
       "      <td>2019-05-01 00:01:35</td>\n",
       "      <td>2019-05-01 02:30:30</td>\n",
       "      <td>148.92</td>\n",
       "      <td>0</td>\n",
       "      <td>AdNonSense</td>\n",
       "      <td>PC</td>\n",
       "    </tr>\n",
       "    <tr>\n",
       "      <th>2</th>\n",
       "      <td>428935481941</td>\n",
       "      <td>UK</td>\n",
       "      <td>PC</td>\n",
       "      <td>AdNonSense</td>\n",
       "      <td>2019-05-04 12:29:45</td>\n",
       "      <td>2019-05-04 13:14:34</td>\n",
       "      <td>44.82</td>\n",
       "      <td>0</td>\n",
       "      <td>AdNonSense</td>\n",
       "      <td>PC</td>\n",
       "    </tr>\n",
       "    <tr>\n",
       "      <th>3</th>\n",
       "      <td>86266511938</td>\n",
       "      <td>Germany</td>\n",
       "      <td>Android</td>\n",
       "      <td>organic</td>\n",
       "      <td>2019-05-01 00:02:38</td>\n",
       "      <td>2019-05-01 01:22:33</td>\n",
       "      <td>79.92</td>\n",
       "      <td>0</td>\n",
       "      <td>organic</td>\n",
       "      <td>Android</td>\n",
       "    </tr>\n",
       "    <tr>\n",
       "      <th>4</th>\n",
       "      <td>763000657462</td>\n",
       "      <td>UK</td>\n",
       "      <td>PC</td>\n",
       "      <td>organic</td>\n",
       "      <td>2019-05-01 00:04:21</td>\n",
       "      <td>2019-05-01 00:24:15</td>\n",
       "      <td>19.90</td>\n",
       "      <td>0</td>\n",
       "      <td>organic</td>\n",
       "      <td>PC</td>\n",
       "    </tr>\n",
       "  </tbody>\n",
       "</table>\n",
       "</div>"
      ],
      "text/plain": [
       "        user_id         region   device       channel       session_start  \\\n",
       "0  382394863972  United States      Mac  MediaTornado 2019-05-01 00:00:41   \n",
       "1  428935481941             UK       PC    AdNonSense 2019-05-01 00:01:35   \n",
       "2  428935481941             UK       PC    AdNonSense 2019-05-04 12:29:45   \n",
       "3   86266511938        Germany  Android       organic 2019-05-01 00:02:38   \n",
       "4  763000657462             UK       PC       organic 2019-05-01 00:04:21   \n",
       "\n",
       "          session_end  ses_len_min  customer first_channel first_device  \n",
       "0 2019-05-01 01:13:45        73.07         0  MediaTornado          Mac  \n",
       "1 2019-05-01 02:30:30       148.92         0    AdNonSense           PC  \n",
       "2 2019-05-04 13:14:34        44.82         0    AdNonSense           PC  \n",
       "3 2019-05-01 01:22:33        79.92         0       organic      Android  \n",
       "4 2019-05-01 00:24:15        19.90         0       organic           PC  "
      ]
     },
     "metadata": {},
     "output_type": "display_data"
    }
   ],
   "source": [
    "display(costs.head())\n",
    "display(visits.head())"
   ]
  },
  {
   "cell_type": "code",
   "execution_count": 21,
   "metadata": {},
   "outputs": [],
   "source": [
    "profiles = (\n",
    "        visits.sort_values(by=['user_id', 'session_start'])\n",
    "        .groupby('user_id')\n",
    "        .agg(\n",
    "            {\n",
    "                'session_start': 'first',\n",
    "                'channel': 'first',\n",
    "                'device': 'first',\n",
    "                'region': 'first',\n",
    "            }\n",
    "        )\n",
    "         # время первого посещения назовём first_ts\n",
    "        .rename(columns={'session_start': 'first_ts'})\n",
    "        .reset_index()  # возвращаем user_id из индекса\n",
    "    )\n",
    "profiles['dt'] = profiles['first_ts'].dt.date\n",
    "profiles['month'] = profiles['first_ts'].astype('datetime64[M]')\n"
   ]
  },
  {
   "cell_type": "code",
   "execution_count": 22,
   "metadata": {},
   "outputs": [],
   "source": [
    "new_users = (\n",
    "        profiles.groupby(['dt', 'channel'])\n",
    "        .agg({'user_id': 'nunique'})\n",
    "         # столбец с числом пользователей назовём unique_users\n",
    "        .rename(columns={'user_id': 'unique_users'})\n",
    "        .reset_index()  # возвращаем dt и channel из индексов\n",
    "    )"
   ]
  },
  {
   "cell_type": "code",
   "execution_count": 23,
   "metadata": {},
   "outputs": [],
   "source": [
    "ad_costs = costs.merge(new_users, on=['dt', 'channel'], how='left')"
   ]
  },
  {
   "cell_type": "code",
   "execution_count": 24,
   "metadata": {},
   "outputs": [],
   "source": [
    "ad_costs['acquisition_cost'] = ad_costs['costs'] / ad_costs['unique_users']"
   ]
  },
  {
   "cell_type": "code",
   "execution_count": 25,
   "metadata": {},
   "outputs": [],
   "source": [
    "    profiles = profiles.merge(\n",
    "        ad_costs[['dt', 'channel', 'acquisition_cost']],\n",
    "        on=['dt', 'channel'],\n",
    "        how='left',\n",
    "    )"
   ]
  },
  {
   "cell_type": "code",
   "execution_count": 26,
   "metadata": {},
   "outputs": [],
   "source": [
    "profiles['acquisition_cost'] = profiles['acquisition_cost'].fillna(0)"
   ]
  },
  {
   "cell_type": "code",
   "execution_count": 27,
   "metadata": {},
   "outputs": [
    {
     "data": {
      "image/png": "[encoded data removed]",
      "text/plain": [
       "<Figure size 720x360 with 1 Axes>"
      ]
     },
     "metadata": {
      "needs_background": "light"
     },
     "output_type": "display_data"
    }
   ],
   "source": [
    "profiles.pivot_table(\n",
    "    index='dt', columns='channel', values='acquisition_cost', aggfunc='mean'\n",
    ").plot(grid=True, figsize=(10, 5))\n",
    "plt.ylabel('CAC, $')\n",
    "plt.xlabel('Дата привлечения')\n",
    "plt.title('Динамика САС по каналам привлечения')\n",
    "plt.show()"
   ]
  },
  {
   "cell_type": "code",
   "execution_count": null,
   "metadata": {},
   "outputs": [],
   "source": []
  },
  {
   "cell_type": "code",
   "execution_count": 28,
   "metadata": {},
   "outputs": [],
   "source": [
    "def get_ltv(\n",
    "    profiles,  # Шаг 1. Получить профили и данные о покупках\n",
    "    purchases,\n",
    "    observation_date,\n",
    "    horizon_days,\n",
    "    dimensions=[],\n",
    "    ignore_horizon=False,\n",
    "):\n",
    "\n",
    "    # исключаем пользователей, не «доживших» до горизонта анализа\n",
    "    last_suitable_acquisition_date = observation_date\n",
    "    if not ignore_horizon:\n",
    "        last_suitable_acquisition_date = observation_date - timedelta(\n",
    "            days=horizon_days - 1\n",
    "        )\n",
    "    result_raw = profiles.query('dt <= @last_suitable_acquisition_date')\n",
    "\n",
    "    # Шаг 2. Добавить данные о покупках в профили\n",
    "\n",
    "    result_raw = result_raw.merge(\n",
    "        # добавляем в профили время совершения покупок и выручку\n",
    "        purchases[['user_id', 'event_dt', 'revenue']],\n",
    "        on='user_id',\n",
    "        how='left',\n",
    "    )\n",
    "\n",
    "    # Шаг 3. Рассчитать лайфтайм пользователя для каждой покупки\n",
    "    result_raw['lifetime'] = (\n",
    "        result_raw['event_dt'] - result_raw['first_ts']\n",
    "    ).dt.days\n",
    "\n",
    "    # группируем по cohort, если в dimensions ничего нет\n",
    "    if len(dimensions) == 0:\n",
    "        result_raw['cohort'] = 'All users'\n",
    "        dimensions = dimensions + ['cohort']\n",
    "\n",
    "    # функция для группировки таблицы по желаемым признакам\n",
    "    def group_by_dimensions(df, dims, horizon_days):\n",
    "\n",
    "        # Шаг 4. Построить таблицу выручки\n",
    "        # строим «треугольную» таблицу\n",
    "        result = df.pivot_table(\n",
    "            index=dims,\n",
    "            columns='lifetime',\n",
    "            values='revenue',  # в ячейках — выручка за каждый лайфтайм\n",
    "            aggfunc='sum',\n",
    "        )\n",
    "\n",
    "        # Шаг 5. Посчитать сумму выручки с накоплением\n",
    "        result = result.fillna(0).cumsum(axis=1)\n",
    "\n",
    "        # Шаг 6. Вычислить размеры когорт\n",
    "        cohort_sizes = (\n",
    "            df.groupby(dims)\n",
    "            .agg({'user_id': 'nunique'})\n",
    "            .rename(columns={'user_id': 'cohort_size'})\n",
    "        )\n",
    "\n",
    "        # Шаг 7. Объединить размеры когорт и таблицу выручки\n",
    "        result = cohort_sizes.merge(result, on=dims, how='left').fillna(0)\n",
    "\n",
    "        # Шаг 8. Посчитать LTV\n",
    "        # делим каждую «ячейку» в строке на размер когорты\n",
    "        result = result.div(result['cohort_size'], axis=0)\n",
    "        # исключаем все лайфтаймы, превышающие горизонт анализа\n",
    "        result = result[['cohort_size'] + list(range(horizon_days))]\n",
    "        # восстанавливаем размеры когорт\n",
    "        result['cohort_size'] = cohort_sizes\n",
    "        return result\n",
    "\n",
    "    # получаем таблицу LTV\n",
    "    result_grouped = group_by_dimensions(result_raw, dimensions, horizon_days)\n",
    "\n",
    "    # для таблицы динамики LTV убираем 'cohort' из dimensions\n",
    "    if 'cohort' in dimensions:\n",
    "        dimensions = []\n",
    "    # получаем таблицу динамики LTV\n",
    "    result_in_time = group_by_dimensions(\n",
    "        result_raw, dimensions + ['dt'], horizon_days\n",
    "    )\n",
    "\n",
    "    # возвращаем обе таблицы LTV и сырые данные\n",
    "    return result_raw, result_grouped, result_in_time"
   ]
  },
  {
   "cell_type": "code",
   "execution_count": 29,
   "metadata": {},
   "outputs": [
    {
     "data": {
      "text/html": [
       "<div>\n",
       "<style scoped>\n",
       "    .dataframe tbody tr th:only-of-type {\n",
       "        vertical-align: middle;\n",
       "    }\n",
       "\n",
       "    .dataframe tbody tr th {\n",
       "        vertical-align: top;\n",
       "    }\n",
       "\n",
       "    .dataframe thead th {\n",
       "        text-align: right;\n",
       "    }\n",
       "</style>\n",
       "<table border=\"1\" class=\"dataframe\">\n",
       "  <thead>\n",
       "    <tr style=\"text-align: right;\">\n",
       "      <th></th>\n",
       "      <th>user_id</th>\n",
       "      <th>first_ts</th>\n",
       "      <th>channel</th>\n",
       "      <th>device</th>\n",
       "      <th>region</th>\n",
       "      <th>dt</th>\n",
       "      <th>month</th>\n",
       "      <th>acquisition_cost</th>\n",
       "      <th>event_dt</th>\n",
       "      <th>revenue</th>\n",
       "      <th>lifetime</th>\n",
       "    </tr>\n",
       "  </thead>\n",
       "  <tbody>\n",
       "    <tr>\n",
       "      <th>0</th>\n",
       "      <td>599326</td>\n",
       "      <td>2019-05-07 20:58:57</td>\n",
       "      <td>FaceBoom</td>\n",
       "      <td>Mac</td>\n",
       "      <td>United States</td>\n",
       "      <td>2019-05-07</td>\n",
       "      <td>2019-05-01</td>\n",
       "      <td>1.088172</td>\n",
       "      <td>2019-05-07 20:59:09</td>\n",
       "      <td>4.99</td>\n",
       "      <td>0.0</td>\n",
       "    </tr>\n",
       "    <tr>\n",
       "      <th>1</th>\n",
       "      <td>599326</td>\n",
       "      <td>2019-05-07 20:58:57</td>\n",
       "      <td>FaceBoom</td>\n",
       "      <td>Mac</td>\n",
       "      <td>United States</td>\n",
       "      <td>2019-05-07</td>\n",
       "      <td>2019-05-01</td>\n",
       "      <td>1.088172</td>\n",
       "      <td>2019-05-08 06:01:28</td>\n",
       "      <td>4.99</td>\n",
       "      <td>0.0</td>\n",
       "    </tr>\n",
       "    <tr>\n",
       "      <th>2</th>\n",
       "      <td>599326</td>\n",
       "      <td>2019-05-07 20:58:57</td>\n",
       "      <td>FaceBoom</td>\n",
       "      <td>Mac</td>\n",
       "      <td>United States</td>\n",
       "      <td>2019-05-07</td>\n",
       "      <td>2019-05-01</td>\n",
       "      <td>1.088172</td>\n",
       "      <td>2019-05-09 07:34:01</td>\n",
       "      <td>4.99</td>\n",
       "      <td>1.0</td>\n",
       "    </tr>\n",
       "    <tr>\n",
       "      <th>3</th>\n",
       "      <td>4919697</td>\n",
       "      <td>2019-07-09 12:46:07</td>\n",
       "      <td>FaceBoom</td>\n",
       "      <td>iPhone</td>\n",
       "      <td>United States</td>\n",
       "      <td>2019-07-09</td>\n",
       "      <td>2019-07-01</td>\n",
       "      <td>1.107237</td>\n",
       "      <td>NaT</td>\n",
       "      <td>NaN</td>\n",
       "      <td>NaN</td>\n",
       "    </tr>\n",
       "    <tr>\n",
       "      <th>4</th>\n",
       "      <td>6085896</td>\n",
       "      <td>2019-10-01 09:58:33</td>\n",
       "      <td>organic</td>\n",
       "      <td>iPhone</td>\n",
       "      <td>France</td>\n",
       "      <td>2019-10-01</td>\n",
       "      <td>2019-10-01</td>\n",
       "      <td>0.000000</td>\n",
       "      <td>NaT</td>\n",
       "      <td>NaN</td>\n",
       "      <td>NaN</td>\n",
       "    </tr>\n",
       "    <tr>\n",
       "      <th>...</th>\n",
       "      <td>...</td>\n",
       "      <td>...</td>\n",
       "      <td>...</td>\n",
       "      <td>...</td>\n",
       "      <td>...</td>\n",
       "      <td>...</td>\n",
       "      <td>...</td>\n",
       "      <td>...</td>\n",
       "      <td>...</td>\n",
       "      <td>...</td>\n",
       "      <td>...</td>\n",
       "    </tr>\n",
       "    <tr>\n",
       "      <th>171590</th>\n",
       "      <td>999949280903</td>\n",
       "      <td>2019-08-12 06:47:27</td>\n",
       "      <td>FaceBoom</td>\n",
       "      <td>Mac</td>\n",
       "      <td>United States</td>\n",
       "      <td>2019-08-12</td>\n",
       "      <td>2019-08-01</td>\n",
       "      <td>1.117838</td>\n",
       "      <td>NaT</td>\n",
       "      <td>NaN</td>\n",
       "      <td>NaN</td>\n",
       "    </tr>\n",
       "    <tr>\n",
       "      <th>171591</th>\n",
       "      <td>999954865738</td>\n",
       "      <td>2019-07-25 08:47:56</td>\n",
       "      <td>organic</td>\n",
       "      <td>PC</td>\n",
       "      <td>UK</td>\n",
       "      <td>2019-07-25</td>\n",
       "      <td>2019-07-01</td>\n",
       "      <td>0.000000</td>\n",
       "      <td>NaT</td>\n",
       "      <td>NaN</td>\n",
       "      <td>NaN</td>\n",
       "    </tr>\n",
       "    <tr>\n",
       "      <th>171592</th>\n",
       "      <td>999956196527</td>\n",
       "      <td>2019-09-28 08:33:02</td>\n",
       "      <td>TipTop</td>\n",
       "      <td>iPhone</td>\n",
       "      <td>United States</td>\n",
       "      <td>2019-09-28</td>\n",
       "      <td>2019-09-01</td>\n",
       "      <td>3.500000</td>\n",
       "      <td>NaT</td>\n",
       "      <td>NaN</td>\n",
       "      <td>NaN</td>\n",
       "    </tr>\n",
       "    <tr>\n",
       "      <th>171593</th>\n",
       "      <td>999976332130</td>\n",
       "      <td>2019-07-23 02:57:06</td>\n",
       "      <td>TipTop</td>\n",
       "      <td>iPhone</td>\n",
       "      <td>United States</td>\n",
       "      <td>2019-07-23</td>\n",
       "      <td>2019-07-01</td>\n",
       "      <td>2.600000</td>\n",
       "      <td>NaT</td>\n",
       "      <td>NaN</td>\n",
       "      <td>NaN</td>\n",
       "    </tr>\n",
       "    <tr>\n",
       "      <th>171594</th>\n",
       "      <td>999979924135</td>\n",
       "      <td>2019-09-28 21:28:09</td>\n",
       "      <td>MediaTornado</td>\n",
       "      <td>PC</td>\n",
       "      <td>United States</td>\n",
       "      <td>2019-09-28</td>\n",
       "      <td>2019-09-01</td>\n",
       "      <td>0.205714</td>\n",
       "      <td>NaT</td>\n",
       "      <td>NaN</td>\n",
       "      <td>NaN</td>\n",
       "    </tr>\n",
       "  </tbody>\n",
       "</table>\n",
       "<p>171595 rows × 11 columns</p>\n",
       "</div>"
      ],
      "text/plain": [
       "             user_id            first_ts       channel  device         region  \\\n",
       "0             599326 2019-05-07 20:58:57      FaceBoom     Mac  United States   \n",
       "1             599326 2019-05-07 20:58:57      FaceBoom     Mac  United States   \n",
       "2             599326 2019-05-07 20:58:57      FaceBoom     Mac  United States   \n",
       "3            4919697 2019-07-09 12:46:07      FaceBoom  iPhone  United States   \n",
       "4            6085896 2019-10-01 09:58:33       organic  iPhone         France   \n",
       "...              ...                 ...           ...     ...            ...   \n",
       "171590  999949280903 2019-08-12 06:47:27      FaceBoom     Mac  United States   \n",
       "171591  999954865738 2019-07-25 08:47:56       organic      PC             UK   \n",
       "171592  999956196527 2019-09-28 08:33:02        TipTop  iPhone  United States   \n",
       "171593  999976332130 2019-07-23 02:57:06        TipTop  iPhone  United States   \n",
       "171594  999979924135 2019-09-28 21:28:09  MediaTornado      PC  United States   \n",
       "\n",
       "                dt      month  acquisition_cost            event_dt  revenue  \\\n",
       "0       2019-05-07 2019-05-01          1.088172 2019-05-07 20:59:09     4.99   \n",
       "1       2019-05-07 2019-05-01          1.088172 2019-05-08 06:01:28     4.99   \n",
       "2       2019-05-07 2019-05-01          1.088172 2019-05-09 07:34:01     4.99   \n",
       "3       2019-07-09 2019-07-01          1.107237                 NaT      NaN   \n",
       "4       2019-10-01 2019-10-01          0.000000                 NaT      NaN   \n",
       "...            ...        ...               ...                 ...      ...   \n",
       "171590  2019-08-12 2019-08-01          1.117838                 NaT      NaN   \n",
       "171591  2019-07-25 2019-07-01          0.000000                 NaT      NaN   \n",
       "171592  2019-09-28 2019-09-01          3.500000                 NaT      NaN   \n",
       "171593  2019-07-23 2019-07-01          2.600000                 NaT      NaN   \n",
       "171594  2019-09-28 2019-09-01          0.205714                 NaT      NaN   \n",
       "\n",
       "        lifetime  \n",
       "0            0.0  \n",
       "1            0.0  \n",
       "2            1.0  \n",
       "3            NaN  \n",
       "4            NaN  \n",
       "...          ...  \n",
       "171590       NaN  \n",
       "171591       NaN  \n",
       "171592       NaN  \n",
       "171593       NaN  \n",
       "171594       NaN  \n",
       "\n",
       "[171595 rows x 11 columns]"
      ]
     },
     "metadata": {},
     "output_type": "display_data"
    },
    {
     "data": {
      "image/png": "[encoded data removed]",
      "text/plain": [
       "<Figure size 720x360 with 1 Axes>"
      ]
     },
     "metadata": {
      "needs_background": "light"
     },
     "output_type": "display_data"
    }
   ],
   "source": [
    "ltv_raw, ltv, ltv_history = get_ltv(\n",
    "    profiles, orders, datetime(2019, 10, 30).date(), 14, dimensions=['channel']\n",
    ")\n",
    "\n",
    "# таблица LTV\n",
    "display(ltv_raw)\n",
    "\n",
    "# кривые LTV\n",
    "report = ltv.drop(columns=['cohort_size'])\n",
    "report.T.plot(grid=True, figsize=(10, 5), xticks=list(report.columns.values))\n",
    "plt.title('LTV с разбивкой по источникам')\n",
    "plt.ylabel('LTV, $')\n",
    "plt.xlabel('Лайфтайм')\n",
    "plt.show()"
   ]
  },
  {
   "cell_type": "code",
   "execution_count": 30,
   "metadata": {},
   "outputs": [
    {
     "data": {
      "text/html": [
       "<div>\n",
       "<style scoped>\n",
       "    .dataframe tbody tr th:only-of-type {\n",
       "        vertical-align: middle;\n",
       "    }\n",
       "\n",
       "    .dataframe tbody tr th {\n",
       "        vertical-align: top;\n",
       "    }\n",
       "\n",
       "    .dataframe thead th {\n",
       "        text-align: right;\n",
       "    }\n",
       "</style>\n",
       "<table border=\"1\" class=\"dataframe\">\n",
       "  <thead>\n",
       "    <tr style=\"text-align: right;\">\n",
       "      <th></th>\n",
       "      <th>user_id</th>\n",
       "    </tr>\n",
       "    <tr>\n",
       "      <th>dt</th>\n",
       "      <th></th>\n",
       "    </tr>\n",
       "  </thead>\n",
       "  <tbody>\n",
       "    <tr>\n",
       "      <th>2019-05-01</th>\n",
       "      <td>907</td>\n",
       "    </tr>\n",
       "    <tr>\n",
       "      <th>2019-05-02</th>\n",
       "      <td>759</td>\n",
       "    </tr>\n",
       "    <tr>\n",
       "      <th>2019-05-03</th>\n",
       "      <td>849</td>\n",
       "    </tr>\n",
       "    <tr>\n",
       "      <th>2019-05-04</th>\n",
       "      <td>1015</td>\n",
       "    </tr>\n",
       "    <tr>\n",
       "      <th>2019-05-05</th>\n",
       "      <td>970</td>\n",
       "    </tr>\n",
       "    <tr>\n",
       "      <th>...</th>\n",
       "      <td>...</td>\n",
       "    </tr>\n",
       "    <tr>\n",
       "      <th>2019-10-13</th>\n",
       "      <td>796</td>\n",
       "    </tr>\n",
       "    <tr>\n",
       "      <th>2019-10-14</th>\n",
       "      <td>712</td>\n",
       "    </tr>\n",
       "    <tr>\n",
       "      <th>2019-10-15</th>\n",
       "      <td>674</td>\n",
       "    </tr>\n",
       "    <tr>\n",
       "      <th>2019-10-16</th>\n",
       "      <td>656</td>\n",
       "    </tr>\n",
       "    <tr>\n",
       "      <th>2019-10-17</th>\n",
       "      <td>703</td>\n",
       "    </tr>\n",
       "  </tbody>\n",
       "</table>\n",
       "<p>170 rows × 1 columns</p>\n",
       "</div>"
      ],
      "text/plain": [
       "            user_id\n",
       "dt                 \n",
       "2019-05-01      907\n",
       "2019-05-02      759\n",
       "2019-05-03      849\n",
       "2019-05-04     1015\n",
       "2019-05-05      970\n",
       "...             ...\n",
       "2019-10-13      796\n",
       "2019-10-14      712\n",
       "2019-10-15      674\n",
       "2019-10-16      656\n",
       "2019-10-17      703\n",
       "\n",
       "[170 rows x 1 columns]"
      ]
     },
     "execution_count": 30,
     "metadata": {},
     "output_type": "execute_result"
    }
   ],
   "source": [
    "# находим максимальную дату привлечения из сырых данных LTV\n",
    "max_acquitision_dt = ltv_raw['dt'].max()\n",
    "# отсекаем профили, которые «старше» этой даты\n",
    "ltv_profiles = profiles.query('dt <= @max_acquitision_dt')\n",
    "\n",
    "# оставшееся число пользователей на каждый лайфтайм\n",
    "ltv_profiles.groupby('dt').agg({'user_id': 'nunique'})"
   ]
  },
  {
   "cell_type": "code",
   "execution_count": 31,
   "metadata": {},
   "outputs": [
    {
     "data": {
      "text/html": [
       "<div>\n",
       "<style scoped>\n",
       "    .dataframe tbody tr th:only-of-type {\n",
       "        vertical-align: middle;\n",
       "    }\n",
       "\n",
       "    .dataframe tbody tr th {\n",
       "        vertical-align: top;\n",
       "    }\n",
       "\n",
       "    .dataframe thead th {\n",
       "        text-align: right;\n",
       "    }\n",
       "</style>\n",
       "<table border=\"1\" class=\"dataframe\">\n",
       "  <thead>\n",
       "    <tr style=\"text-align: right;\">\n",
       "      <th></th>\n",
       "      <th>cac</th>\n",
       "    </tr>\n",
       "    <tr>\n",
       "      <th>channel</th>\n",
       "      <th></th>\n",
       "    </tr>\n",
       "  </thead>\n",
       "  <tbody>\n",
       "    <tr>\n",
       "      <th>AdNonSense</th>\n",
       "      <td>1.007885</td>\n",
       "    </tr>\n",
       "    <tr>\n",
       "      <th>FaceBoom</th>\n",
       "      <td>1.113975</td>\n",
       "    </tr>\n",
       "    <tr>\n",
       "      <th>LeapBob</th>\n",
       "      <td>0.209974</td>\n",
       "    </tr>\n",
       "    <tr>\n",
       "      <th>MediaTornado</th>\n",
       "      <td>0.219191</td>\n",
       "    </tr>\n",
       "    <tr>\n",
       "      <th>OppleCreativeMedia</th>\n",
       "      <td>0.249969</td>\n",
       "    </tr>\n",
       "    <tr>\n",
       "      <th>RocketSuperAds</th>\n",
       "      <td>0.418763</td>\n",
       "    </tr>\n",
       "    <tr>\n",
       "      <th>TipTop</th>\n",
       "      <td>2.746726</td>\n",
       "    </tr>\n",
       "    <tr>\n",
       "      <th>WahooNetBanner</th>\n",
       "      <td>0.602262</td>\n",
       "    </tr>\n",
       "    <tr>\n",
       "      <th>YRabbit</th>\n",
       "      <td>0.216967</td>\n",
       "    </tr>\n",
       "    <tr>\n",
       "      <th>lambdaMediaAds</th>\n",
       "      <td>0.726987</td>\n",
       "    </tr>\n",
       "    <tr>\n",
       "      <th>organic</th>\n",
       "      <td>0.000000</td>\n",
       "    </tr>\n",
       "  </tbody>\n",
       "</table>\n",
       "</div>"
      ],
      "text/plain": [
       "                         cac\n",
       "channel                     \n",
       "AdNonSense          1.007885\n",
       "FaceBoom            1.113975\n",
       "LeapBob             0.209974\n",
       "MediaTornado        0.219191\n",
       "OppleCreativeMedia  0.249969\n",
       "RocketSuperAds      0.418763\n",
       "TipTop              2.746726\n",
       "WahooNetBanner      0.602262\n",
       "YRabbit             0.216967\n",
       "lambdaMediaAds      0.726987\n",
       "organic             0.000000"
      ]
     },
     "execution_count": 31,
     "metadata": {},
     "output_type": "execute_result"
    }
   ],
   "source": [
    "# считаем средний CAC по каналам привлечения\n",
    "\n",
    "cac = (\n",
    "    ltv_profiles.groupby('channel')\n",
    "    .agg({'acquisition_cost': 'mean'})\n",
    "    .rename(columns={'acquisition_cost': 'cac'})\n",
    ")\n",
    "\n",
    "cac"
   ]
  },
  {
   "cell_type": "code",
   "execution_count": 32,
   "metadata": {},
   "outputs": [
    {
     "data": {
      "text/html": [
       "<div>\n",
       "<style scoped>\n",
       "    .dataframe tbody tr th:only-of-type {\n",
       "        vertical-align: middle;\n",
       "    }\n",
       "\n",
       "    .dataframe tbody tr th {\n",
       "        vertical-align: top;\n",
       "    }\n",
       "\n",
       "    .dataframe thead th {\n",
       "        text-align: right;\n",
       "    }\n",
       "</style>\n",
       "<table border=\"1\" class=\"dataframe\">\n",
       "  <thead>\n",
       "    <tr style=\"text-align: right;\">\n",
       "      <th></th>\n",
       "      <th>cohort_size</th>\n",
       "      <th>0.0</th>\n",
       "      <th>1.0</th>\n",
       "      <th>2.0</th>\n",
       "      <th>3.0</th>\n",
       "      <th>4.0</th>\n",
       "      <th>5.0</th>\n",
       "      <th>6.0</th>\n",
       "      <th>7.0</th>\n",
       "      <th>8.0</th>\n",
       "      <th>9.0</th>\n",
       "      <th>10.0</th>\n",
       "      <th>11.0</th>\n",
       "      <th>12.0</th>\n",
       "      <th>13.0</th>\n",
       "    </tr>\n",
       "    <tr>\n",
       "      <th>channel</th>\n",
       "      <th></th>\n",
       "      <th></th>\n",
       "      <th></th>\n",
       "      <th></th>\n",
       "      <th></th>\n",
       "      <th></th>\n",
       "      <th></th>\n",
       "      <th></th>\n",
       "      <th></th>\n",
       "      <th></th>\n",
       "      <th></th>\n",
       "      <th></th>\n",
       "      <th></th>\n",
       "      <th></th>\n",
       "      <th></th>\n",
       "    </tr>\n",
       "  </thead>\n",
       "  <tbody>\n",
       "    <tr>\n",
       "      <th>AdNonSense</th>\n",
       "      <td>3.636326e+03</td>\n",
       "      <td>0.503435</td>\n",
       "      <td>0.587739</td>\n",
       "      <td>0.643128</td>\n",
       "      <td>0.680955</td>\n",
       "      <td>0.704191</td>\n",
       "      <td>0.730136</td>\n",
       "      <td>0.751750</td>\n",
       "      <td>0.765259</td>\n",
       "      <td>0.786881</td>\n",
       "      <td>0.799039</td>\n",
       "      <td>0.803362</td>\n",
       "      <td>0.811468</td>\n",
       "      <td>0.823625</td>\n",
       "      <td>0.834441</td>\n",
       "    </tr>\n",
       "    <tr>\n",
       "      <th>FaceBoom</th>\n",
       "      <td>2.437757e+04</td>\n",
       "      <td>0.525174</td>\n",
       "      <td>0.592386</td>\n",
       "      <td>0.628053</td>\n",
       "      <td>0.653327</td>\n",
       "      <td>0.669990</td>\n",
       "      <td>0.681867</td>\n",
       "      <td>0.694767</td>\n",
       "      <td>0.703908</td>\n",
       "      <td>0.710705</td>\n",
       "      <td>0.718328</td>\n",
       "      <td>0.723145</td>\n",
       "      <td>0.728589</td>\n",
       "      <td>0.733210</td>\n",
       "      <td>0.736839</td>\n",
       "    </tr>\n",
       "    <tr>\n",
       "      <th>LeapBob</th>\n",
       "      <td>3.804286e+04</td>\n",
       "      <td>0.508231</td>\n",
       "      <td>0.737329</td>\n",
       "      <td>0.975335</td>\n",
       "      <td>1.119337</td>\n",
       "      <td>1.236557</td>\n",
       "      <td>1.370441</td>\n",
       "      <td>1.495991</td>\n",
       "      <td>1.588820</td>\n",
       "      <td>1.758512</td>\n",
       "      <td>1.877515</td>\n",
       "      <td>1.987599</td>\n",
       "      <td>2.085782</td>\n",
       "      <td>2.175034</td>\n",
       "      <td>2.249411</td>\n",
       "    </tr>\n",
       "    <tr>\n",
       "      <th>MediaTornado</th>\n",
       "      <td>1.883744e+04</td>\n",
       "      <td>0.633011</td>\n",
       "      <td>0.882237</td>\n",
       "      <td>1.136977</td>\n",
       "      <td>1.352106</td>\n",
       "      <td>1.529745</td>\n",
       "      <td>1.689649</td>\n",
       "      <td>1.788893</td>\n",
       "      <td>1.926744</td>\n",
       "      <td>2.026010</td>\n",
       "      <td>2.125254</td>\n",
       "      <td>2.235537</td>\n",
       "      <td>2.340294</td>\n",
       "      <td>2.422998</td>\n",
       "      <td>2.457195</td>\n",
       "    </tr>\n",
       "    <tr>\n",
       "      <th>OppleCreativeMedia</th>\n",
       "      <td>3.207600e+04</td>\n",
       "      <td>0.384917</td>\n",
       "      <td>0.524361</td>\n",
       "      <td>0.687235</td>\n",
       "      <td>0.826673</td>\n",
       "      <td>0.966641</td>\n",
       "      <td>1.066229</td>\n",
       "      <td>1.160843</td>\n",
       "      <td>1.237031</td>\n",
       "      <td>1.314257</td>\n",
       "      <td>1.388953</td>\n",
       "      <td>1.459164</td>\n",
       "      <td>1.509457</td>\n",
       "      <td>1.581704</td>\n",
       "      <td>1.638967</td>\n",
       "    </tr>\n",
       "    <tr>\n",
       "      <th>RocketSuperAds</th>\n",
       "      <td>1.003192e+04</td>\n",
       "      <td>0.501573</td>\n",
       "      <td>0.767128</td>\n",
       "      <td>0.954335</td>\n",
       "      <td>1.096159</td>\n",
       "      <td>1.240256</td>\n",
       "      <td>1.368466</td>\n",
       "      <td>1.533039</td>\n",
       "      <td>1.646503</td>\n",
       "      <td>1.769092</td>\n",
       "      <td>1.889389</td>\n",
       "      <td>1.989234</td>\n",
       "      <td>2.068661</td>\n",
       "      <td>2.145814</td>\n",
       "      <td>2.230908</td>\n",
       "    </tr>\n",
       "    <tr>\n",
       "      <th>TipTop</th>\n",
       "      <td>6.639176e+03</td>\n",
       "      <td>0.123983</td>\n",
       "      <td>0.180398</td>\n",
       "      <td>0.226410</td>\n",
       "      <td>0.268638</td>\n",
       "      <td>0.306002</td>\n",
       "      <td>0.339678</td>\n",
       "      <td>0.368373</td>\n",
       "      <td>0.398742</td>\n",
       "      <td>0.425923</td>\n",
       "      <td>0.452884</td>\n",
       "      <td>0.476735</td>\n",
       "      <td>0.498313</td>\n",
       "      <td>0.518959</td>\n",
       "      <td>0.541215</td>\n",
       "    </tr>\n",
       "    <tr>\n",
       "      <th>WahooNetBanner</th>\n",
       "      <td>1.321352e+04</td>\n",
       "      <td>0.315300</td>\n",
       "      <td>0.482142</td>\n",
       "      <td>0.625223</td>\n",
       "      <td>0.732467</td>\n",
       "      <td>0.852625</td>\n",
       "      <td>0.940294</td>\n",
       "      <td>1.043436</td>\n",
       "      <td>1.119440</td>\n",
       "      <td>1.194828</td>\n",
       "      <td>1.262506</td>\n",
       "      <td>1.340801</td>\n",
       "      <td>1.399731</td>\n",
       "      <td>1.466372</td>\n",
       "      <td>1.515517</td>\n",
       "    </tr>\n",
       "    <tr>\n",
       "      <th>YRabbit</th>\n",
       "      <td>1.867566e+04</td>\n",
       "      <td>0.756265</td>\n",
       "      <td>0.984451</td>\n",
       "      <td>1.177433</td>\n",
       "      <td>1.401081</td>\n",
       "      <td>1.645260</td>\n",
       "      <td>1.792834</td>\n",
       "      <td>1.917705</td>\n",
       "      <td>2.031235</td>\n",
       "      <td>2.133402</td>\n",
       "      <td>2.224217</td>\n",
       "      <td>2.326383</td>\n",
       "      <td>2.428573</td>\n",
       "      <td>2.531877</td>\n",
       "      <td>2.594313</td>\n",
       "    </tr>\n",
       "    <tr>\n",
       "      <th>lambdaMediaAds</th>\n",
       "      <td>2.803350e+03</td>\n",
       "      <td>0.631972</td>\n",
       "      <td>0.888742</td>\n",
       "      <td>1.073981</td>\n",
       "      <td>1.243136</td>\n",
       "      <td>1.431810</td>\n",
       "      <td>1.596848</td>\n",
       "      <td>1.738303</td>\n",
       "      <td>1.859550</td>\n",
       "      <td>1.984847</td>\n",
       "      <td>2.069047</td>\n",
       "      <td>2.168068</td>\n",
       "      <td>2.235428</td>\n",
       "      <td>2.326384</td>\n",
       "      <td>2.420694</td>\n",
       "    </tr>\n",
       "    <tr>\n",
       "      <th>organic</th>\n",
       "      <td>inf</td>\n",
       "      <td>inf</td>\n",
       "      <td>inf</td>\n",
       "      <td>inf</td>\n",
       "      <td>inf</td>\n",
       "      <td>inf</td>\n",
       "      <td>inf</td>\n",
       "      <td>inf</td>\n",
       "      <td>inf</td>\n",
       "      <td>inf</td>\n",
       "      <td>inf</td>\n",
       "      <td>inf</td>\n",
       "      <td>inf</td>\n",
       "      <td>inf</td>\n",
       "      <td>inf</td>\n",
       "    </tr>\n",
       "  </tbody>\n",
       "</table>\n",
       "</div>"
      ],
      "text/plain": [
       "                     cohort_size       0.0       1.0       2.0       3.0  \\\n",
       "channel                                                                    \n",
       "AdNonSense          3.636326e+03  0.503435  0.587739  0.643128  0.680955   \n",
       "FaceBoom            2.437757e+04  0.525174  0.592386  0.628053  0.653327   \n",
       "LeapBob             3.804286e+04  0.508231  0.737329  0.975335  1.119337   \n",
       "MediaTornado        1.883744e+04  0.633011  0.882237  1.136977  1.352106   \n",
       "OppleCreativeMedia  3.207600e+04  0.384917  0.524361  0.687235  0.826673   \n",
       "RocketSuperAds      1.003192e+04  0.501573  0.767128  0.954335  1.096159   \n",
       "TipTop              6.639176e+03  0.123983  0.180398  0.226410  0.268638   \n",
       "WahooNetBanner      1.321352e+04  0.315300  0.482142  0.625223  0.732467   \n",
       "YRabbit             1.867566e+04  0.756265  0.984451  1.177433  1.401081   \n",
       "lambdaMediaAds      2.803350e+03  0.631972  0.888742  1.073981  1.243136   \n",
       "organic                      inf       inf       inf       inf       inf   \n",
       "\n",
       "                         4.0       5.0       6.0       7.0       8.0  \\\n",
       "channel                                                                \n",
       "AdNonSense          0.704191  0.730136  0.751750  0.765259  0.786881   \n",
       "FaceBoom            0.669990  0.681867  0.694767  0.703908  0.710705   \n",
       "LeapBob             1.236557  1.370441  1.495991  1.588820  1.758512   \n",
       "MediaTornado        1.529745  1.689649  1.788893  1.926744  2.026010   \n",
       "OppleCreativeMedia  0.966641  1.066229  1.160843  1.237031  1.314257   \n",
       "RocketSuperAds      1.240256  1.368466  1.533039  1.646503  1.769092   \n",
       "TipTop              0.306002  0.339678  0.368373  0.398742  0.425923   \n",
       "WahooNetBanner      0.852625  0.940294  1.043436  1.119440  1.194828   \n",
       "YRabbit             1.645260  1.792834  1.917705  2.031235  2.133402   \n",
       "lambdaMediaAds      1.431810  1.596848  1.738303  1.859550  1.984847   \n",
       "organic                  inf       inf       inf       inf       inf   \n",
       "\n",
       "                         9.0      10.0      11.0      12.0      13.0  \n",
       "channel                                                               \n",
       "AdNonSense          0.799039  0.803362  0.811468  0.823625  0.834441  \n",
       "FaceBoom            0.718328  0.723145  0.728589  0.733210  0.736839  \n",
       "LeapBob             1.877515  1.987599  2.085782  2.175034  2.249411  \n",
       "MediaTornado        2.125254  2.235537  2.340294  2.422998  2.457195  \n",
       "OppleCreativeMedia  1.388953  1.459164  1.509457  1.581704  1.638967  \n",
       "RocketSuperAds      1.889389  1.989234  2.068661  2.145814  2.230908  \n",
       "TipTop              0.452884  0.476735  0.498313  0.518959  0.541215  \n",
       "WahooNetBanner      1.262506  1.340801  1.399731  1.466372  1.515517  \n",
       "YRabbit             2.224217  2.326383  2.428573  2.531877  2.594313  \n",
       "lambdaMediaAds      2.069047  2.168068  2.235428  2.326384  2.420694  \n",
       "organic                  inf       inf       inf       inf       inf  "
      ]
     },
     "execution_count": 32,
     "metadata": {},
     "output_type": "execute_result"
    }
   ],
   "source": [
    "roi = ltv.div(cac['cac'], axis=0)\n",
    "roi"
   ]
  },
  {
   "cell_type": "code",
   "execution_count": 33,
   "metadata": {},
   "outputs": [
    {
     "data": {
      "text/html": [
       "<div>\n",
       "<style scoped>\n",
       "    .dataframe tbody tr th:only-of-type {\n",
       "        vertical-align: middle;\n",
       "    }\n",
       "\n",
       "    .dataframe tbody tr th {\n",
       "        vertical-align: top;\n",
       "    }\n",
       "\n",
       "    .dataframe thead th {\n",
       "        text-align: right;\n",
       "    }\n",
       "</style>\n",
       "<table border=\"1\" class=\"dataframe\">\n",
       "  <thead>\n",
       "    <tr style=\"text-align: right;\">\n",
       "      <th></th>\n",
       "      <th>cohort_size</th>\n",
       "      <th>0.0</th>\n",
       "      <th>1.0</th>\n",
       "      <th>2.0</th>\n",
       "      <th>3.0</th>\n",
       "      <th>4.0</th>\n",
       "      <th>5.0</th>\n",
       "      <th>6.0</th>\n",
       "      <th>7.0</th>\n",
       "      <th>8.0</th>\n",
       "      <th>9.0</th>\n",
       "      <th>10.0</th>\n",
       "      <th>11.0</th>\n",
       "      <th>12.0</th>\n",
       "      <th>13.0</th>\n",
       "    </tr>\n",
       "    <tr>\n",
       "      <th>channel</th>\n",
       "      <th></th>\n",
       "      <th></th>\n",
       "      <th></th>\n",
       "      <th></th>\n",
       "      <th></th>\n",
       "      <th></th>\n",
       "      <th></th>\n",
       "      <th></th>\n",
       "      <th></th>\n",
       "      <th></th>\n",
       "      <th></th>\n",
       "      <th></th>\n",
       "      <th></th>\n",
       "      <th></th>\n",
       "      <th></th>\n",
       "    </tr>\n",
       "  </thead>\n",
       "  <tbody>\n",
       "    <tr>\n",
       "      <th>AdNonSense</th>\n",
       "      <td>3665</td>\n",
       "      <td>0.507405</td>\n",
       "      <td>0.592374</td>\n",
       "      <td>0.648199</td>\n",
       "      <td>0.686325</td>\n",
       "      <td>0.709744</td>\n",
       "      <td>0.735894</td>\n",
       "      <td>0.757678</td>\n",
       "      <td>0.771293</td>\n",
       "      <td>0.793086</td>\n",
       "      <td>0.805340</td>\n",
       "      <td>0.809697</td>\n",
       "      <td>0.817866</td>\n",
       "      <td>0.830120</td>\n",
       "      <td>0.841020</td>\n",
       "    </tr>\n",
       "    <tr>\n",
       "      <th>FaceBoom</th>\n",
       "      <td>27156</td>\n",
       "      <td>0.585031</td>\n",
       "      <td>0.659903</td>\n",
       "      <td>0.699635</td>\n",
       "      <td>0.727789</td>\n",
       "      <td>0.746352</td>\n",
       "      <td>0.759583</td>\n",
       "      <td>0.773953</td>\n",
       "      <td>0.784136</td>\n",
       "      <td>0.791708</td>\n",
       "      <td>0.800199</td>\n",
       "      <td>0.805566</td>\n",
       "      <td>0.811629</td>\n",
       "      <td>0.816778</td>\n",
       "      <td>0.820820</td>\n",
       "    </tr>\n",
       "    <tr>\n",
       "      <th>LeapBob</th>\n",
       "      <td>7988</td>\n",
       "      <td>0.106715</td>\n",
       "      <td>0.154820</td>\n",
       "      <td>0.204795</td>\n",
       "      <td>0.235031</td>\n",
       "      <td>0.259644</td>\n",
       "      <td>0.287757</td>\n",
       "      <td>0.314119</td>\n",
       "      <td>0.333610</td>\n",
       "      <td>0.369241</td>\n",
       "      <td>0.394229</td>\n",
       "      <td>0.417344</td>\n",
       "      <td>0.437959</td>\n",
       "      <td>0.456700</td>\n",
       "      <td>0.472317</td>\n",
       "    </tr>\n",
       "    <tr>\n",
       "      <th>MediaTornado</th>\n",
       "      <td>4129</td>\n",
       "      <td>0.138750</td>\n",
       "      <td>0.193379</td>\n",
       "      <td>0.249215</td>\n",
       "      <td>0.296370</td>\n",
       "      <td>0.335306</td>\n",
       "      <td>0.370356</td>\n",
       "      <td>0.392109</td>\n",
       "      <td>0.422325</td>\n",
       "      <td>0.444083</td>\n",
       "      <td>0.465837</td>\n",
       "      <td>0.490010</td>\n",
       "      <td>0.512972</td>\n",
       "      <td>0.531100</td>\n",
       "      <td>0.538595</td>\n",
       "    </tr>\n",
       "    <tr>\n",
       "      <th>OppleCreativeMedia</th>\n",
       "      <td>8018</td>\n",
       "      <td>0.096217</td>\n",
       "      <td>0.131074</td>\n",
       "      <td>0.171787</td>\n",
       "      <td>0.206643</td>\n",
       "      <td>0.241630</td>\n",
       "      <td>0.266524</td>\n",
       "      <td>0.290175</td>\n",
       "      <td>0.309219</td>\n",
       "      <td>0.328523</td>\n",
       "      <td>0.347195</td>\n",
       "      <td>0.364746</td>\n",
       "      <td>0.377317</td>\n",
       "      <td>0.395377</td>\n",
       "      <td>0.409691</td>\n",
       "    </tr>\n",
       "    <tr>\n",
       "      <th>RocketSuperAds</th>\n",
       "      <td>4201</td>\n",
       "      <td>0.210040</td>\n",
       "      <td>0.321245</td>\n",
       "      <td>0.399641</td>\n",
       "      <td>0.459031</td>\n",
       "      <td>0.519374</td>\n",
       "      <td>0.573064</td>\n",
       "      <td>0.641980</td>\n",
       "      <td>0.689495</td>\n",
       "      <td>0.740831</td>\n",
       "      <td>0.791207</td>\n",
       "      <td>0.833018</td>\n",
       "      <td>0.866279</td>\n",
       "      <td>0.898588</td>\n",
       "      <td>0.934223</td>\n",
       "    </tr>\n",
       "    <tr>\n",
       "      <th>TipTop</th>\n",
       "      <td>18236</td>\n",
       "      <td>0.340548</td>\n",
       "      <td>0.495503</td>\n",
       "      <td>0.621887</td>\n",
       "      <td>0.737874</td>\n",
       "      <td>0.840503</td>\n",
       "      <td>0.933003</td>\n",
       "      <td>1.011819</td>\n",
       "      <td>1.095235</td>\n",
       "      <td>1.169894</td>\n",
       "      <td>1.243949</td>\n",
       "      <td>1.309460</td>\n",
       "      <td>1.368731</td>\n",
       "      <td>1.425437</td>\n",
       "      <td>1.486571</td>\n",
       "    </tr>\n",
       "    <tr>\n",
       "      <th>WahooNetBanner</th>\n",
       "      <td>7958</td>\n",
       "      <td>0.189893</td>\n",
       "      <td>0.290376</td>\n",
       "      <td>0.376548</td>\n",
       "      <td>0.441137</td>\n",
       "      <td>0.513503</td>\n",
       "      <td>0.566303</td>\n",
       "      <td>0.628422</td>\n",
       "      <td>0.674196</td>\n",
       "      <td>0.719599</td>\n",
       "      <td>0.760359</td>\n",
       "      <td>0.807513</td>\n",
       "      <td>0.843005</td>\n",
       "      <td>0.883140</td>\n",
       "      <td>0.912738</td>\n",
       "    </tr>\n",
       "    <tr>\n",
       "      <th>YRabbit</th>\n",
       "      <td>4052</td>\n",
       "      <td>0.164084</td>\n",
       "      <td>0.213593</td>\n",
       "      <td>0.255464</td>\n",
       "      <td>0.303988</td>\n",
       "      <td>0.356967</td>\n",
       "      <td>0.388986</td>\n",
       "      <td>0.416078</td>\n",
       "      <td>0.440711</td>\n",
       "      <td>0.462878</td>\n",
       "      <td>0.482581</td>\n",
       "      <td>0.504748</td>\n",
       "      <td>0.526920</td>\n",
       "      <td>0.549334</td>\n",
       "      <td>0.562880</td>\n",
       "    </tr>\n",
       "    <tr>\n",
       "      <th>lambdaMediaAds</th>\n",
       "      <td>2038</td>\n",
       "      <td>0.459436</td>\n",
       "      <td>0.646104</td>\n",
       "      <td>0.780770</td>\n",
       "      <td>0.903744</td>\n",
       "      <td>1.040908</td>\n",
       "      <td>1.160888</td>\n",
       "      <td>1.263724</td>\n",
       "      <td>1.351869</td>\n",
       "      <td>1.442959</td>\n",
       "      <td>1.504171</td>\n",
       "      <td>1.576158</td>\n",
       "      <td>1.625128</td>\n",
       "      <td>1.691251</td>\n",
       "      <td>1.759814</td>\n",
       "    </tr>\n",
       "    <tr>\n",
       "      <th>organic</th>\n",
       "      <td>53320</td>\n",
       "      <td>0.070328</td>\n",
       "      <td>0.106308</td>\n",
       "      <td>0.133940</td>\n",
       "      <td>0.158669</td>\n",
       "      <td>0.178793</td>\n",
       "      <td>0.198767</td>\n",
       "      <td>0.216327</td>\n",
       "      <td>0.232743</td>\n",
       "      <td>0.248336</td>\n",
       "      <td>0.262785</td>\n",
       "      <td>0.275853</td>\n",
       "      <td>0.291206</td>\n",
       "      <td>0.305284</td>\n",
       "      <td>0.317600</td>\n",
       "    </tr>\n",
       "  </tbody>\n",
       "</table>\n",
       "</div>"
      ],
      "text/plain": [
       "                    cohort_size       0.0       1.0       2.0       3.0  \\\n",
       "channel                                                                   \n",
       "AdNonSense                 3665  0.507405  0.592374  0.648199  0.686325   \n",
       "FaceBoom                  27156  0.585031  0.659903  0.699635  0.727789   \n",
       "LeapBob                    7988  0.106715  0.154820  0.204795  0.235031   \n",
       "MediaTornado               4129  0.138750  0.193379  0.249215  0.296370   \n",
       "OppleCreativeMedia         8018  0.096217  0.131074  0.171787  0.206643   \n",
       "RocketSuperAds             4201  0.210040  0.321245  0.399641  0.459031   \n",
       "TipTop                    18236  0.340548  0.495503  0.621887  0.737874   \n",
       "WahooNetBanner             7958  0.189893  0.290376  0.376548  0.441137   \n",
       "YRabbit                    4052  0.164084  0.213593  0.255464  0.303988   \n",
       "lambdaMediaAds             2038  0.459436  0.646104  0.780770  0.903744   \n",
       "organic                   53320  0.070328  0.106308  0.133940  0.158669   \n",
       "\n",
       "                         4.0       5.0       6.0       7.0       8.0  \\\n",
       "channel                                                                \n",
       "AdNonSense          0.709744  0.735894  0.757678  0.771293  0.793086   \n",
       "FaceBoom            0.746352  0.759583  0.773953  0.784136  0.791708   \n",
       "LeapBob             0.259644  0.287757  0.314119  0.333610  0.369241   \n",
       "MediaTornado        0.335306  0.370356  0.392109  0.422325  0.444083   \n",
       "OppleCreativeMedia  0.241630  0.266524  0.290175  0.309219  0.328523   \n",
       "RocketSuperAds      0.519374  0.573064  0.641980  0.689495  0.740831   \n",
       "TipTop              0.840503  0.933003  1.011819  1.095235  1.169894   \n",
       "WahooNetBanner      0.513503  0.566303  0.628422  0.674196  0.719599   \n",
       "YRabbit             0.356967  0.388986  0.416078  0.440711  0.462878   \n",
       "lambdaMediaAds      1.040908  1.160888  1.263724  1.351869  1.442959   \n",
       "organic             0.178793  0.198767  0.216327  0.232743  0.248336   \n",
       "\n",
       "                         9.0      10.0      11.0      12.0      13.0  \n",
       "channel                                                               \n",
       "AdNonSense          0.805340  0.809697  0.817866  0.830120  0.841020  \n",
       "FaceBoom            0.800199  0.805566  0.811629  0.816778  0.820820  \n",
       "LeapBob             0.394229  0.417344  0.437959  0.456700  0.472317  \n",
       "MediaTornado        0.465837  0.490010  0.512972  0.531100  0.538595  \n",
       "OppleCreativeMedia  0.347195  0.364746  0.377317  0.395377  0.409691  \n",
       "RocketSuperAds      0.791207  0.833018  0.866279  0.898588  0.934223  \n",
       "TipTop              1.243949  1.309460  1.368731  1.425437  1.486571  \n",
       "WahooNetBanner      0.760359  0.807513  0.843005  0.883140  0.912738  \n",
       "YRabbit             0.482581  0.504748  0.526920  0.549334  0.562880  \n",
       "lambdaMediaAds      1.504171  1.576158  1.625128  1.691251  1.759814  \n",
       "organic             0.262785  0.275853  0.291206  0.305284  0.317600  "
      ]
     },
     "metadata": {},
     "output_type": "display_data"
    }
   ],
   "source": [
    "display(ltv)"
   ]
  },
  {
   "cell_type": "code",
   "execution_count": 34,
   "metadata": {},
   "outputs": [
    {
     "data": {
      "text/html": [
       "<div>\n",
       "<style scoped>\n",
       "    .dataframe tbody tr th:only-of-type {\n",
       "        vertical-align: middle;\n",
       "    }\n",
       "\n",
       "    .dataframe tbody tr th {\n",
       "        vertical-align: top;\n",
       "    }\n",
       "\n",
       "    .dataframe thead th {\n",
       "        text-align: right;\n",
       "    }\n",
       "</style>\n",
       "<table border=\"1\" class=\"dataframe\">\n",
       "  <thead>\n",
       "    <tr style=\"text-align: right;\">\n",
       "      <th></th>\n",
       "      <th>cohort_size</th>\n",
       "      <th>0.0</th>\n",
       "      <th>1.0</th>\n",
       "      <th>2.0</th>\n",
       "      <th>3.0</th>\n",
       "      <th>4.0</th>\n",
       "      <th>5.0</th>\n",
       "      <th>6.0</th>\n",
       "      <th>7.0</th>\n",
       "      <th>8.0</th>\n",
       "      <th>9.0</th>\n",
       "      <th>10.0</th>\n",
       "      <th>11.0</th>\n",
       "      <th>12.0</th>\n",
       "      <th>13.0</th>\n",
       "    </tr>\n",
       "    <tr>\n",
       "      <th>channel</th>\n",
       "      <th></th>\n",
       "      <th></th>\n",
       "      <th></th>\n",
       "      <th></th>\n",
       "      <th></th>\n",
       "      <th></th>\n",
       "      <th></th>\n",
       "      <th></th>\n",
       "      <th></th>\n",
       "      <th></th>\n",
       "      <th></th>\n",
       "      <th></th>\n",
       "      <th></th>\n",
       "      <th></th>\n",
       "      <th></th>\n",
       "    </tr>\n",
       "  </thead>\n",
       "  <tbody>\n",
       "    <tr>\n",
       "      <th>AdNonSense</th>\n",
       "      <td>3665</td>\n",
       "      <td>0.503435</td>\n",
       "      <td>0.587739</td>\n",
       "      <td>0.643128</td>\n",
       "      <td>0.680955</td>\n",
       "      <td>0.704191</td>\n",
       "      <td>0.730136</td>\n",
       "      <td>0.751750</td>\n",
       "      <td>0.765259</td>\n",
       "      <td>0.786881</td>\n",
       "      <td>0.799039</td>\n",
       "      <td>0.803362</td>\n",
       "      <td>0.811468</td>\n",
       "      <td>0.823625</td>\n",
       "      <td>0.834441</td>\n",
       "    </tr>\n",
       "    <tr>\n",
       "      <th>FaceBoom</th>\n",
       "      <td>27156</td>\n",
       "      <td>0.525174</td>\n",
       "      <td>0.592386</td>\n",
       "      <td>0.628053</td>\n",
       "      <td>0.653327</td>\n",
       "      <td>0.669990</td>\n",
       "      <td>0.681867</td>\n",
       "      <td>0.694767</td>\n",
       "      <td>0.703908</td>\n",
       "      <td>0.710705</td>\n",
       "      <td>0.718328</td>\n",
       "      <td>0.723145</td>\n",
       "      <td>0.728589</td>\n",
       "      <td>0.733210</td>\n",
       "      <td>0.736839</td>\n",
       "    </tr>\n",
       "    <tr>\n",
       "      <th>LeapBob</th>\n",
       "      <td>7988</td>\n",
       "      <td>0.508231</td>\n",
       "      <td>0.737329</td>\n",
       "      <td>0.975335</td>\n",
       "      <td>1.119337</td>\n",
       "      <td>1.236557</td>\n",
       "      <td>1.370441</td>\n",
       "      <td>1.495991</td>\n",
       "      <td>1.588820</td>\n",
       "      <td>1.758512</td>\n",
       "      <td>1.877515</td>\n",
       "      <td>1.987599</td>\n",
       "      <td>2.085782</td>\n",
       "      <td>2.175034</td>\n",
       "      <td>2.249411</td>\n",
       "    </tr>\n",
       "    <tr>\n",
       "      <th>MediaTornado</th>\n",
       "      <td>4129</td>\n",
       "      <td>0.633011</td>\n",
       "      <td>0.882237</td>\n",
       "      <td>1.136977</td>\n",
       "      <td>1.352106</td>\n",
       "      <td>1.529745</td>\n",
       "      <td>1.689649</td>\n",
       "      <td>1.788893</td>\n",
       "      <td>1.926744</td>\n",
       "      <td>2.026010</td>\n",
       "      <td>2.125254</td>\n",
       "      <td>2.235537</td>\n",
       "      <td>2.340294</td>\n",
       "      <td>2.422998</td>\n",
       "      <td>2.457195</td>\n",
       "    </tr>\n",
       "    <tr>\n",
       "      <th>OppleCreativeMedia</th>\n",
       "      <td>8018</td>\n",
       "      <td>0.384917</td>\n",
       "      <td>0.524361</td>\n",
       "      <td>0.687235</td>\n",
       "      <td>0.826673</td>\n",
       "      <td>0.966641</td>\n",
       "      <td>1.066229</td>\n",
       "      <td>1.160843</td>\n",
       "      <td>1.237031</td>\n",
       "      <td>1.314257</td>\n",
       "      <td>1.388953</td>\n",
       "      <td>1.459164</td>\n",
       "      <td>1.509457</td>\n",
       "      <td>1.581704</td>\n",
       "      <td>1.638967</td>\n",
       "    </tr>\n",
       "    <tr>\n",
       "      <th>RocketSuperAds</th>\n",
       "      <td>4201</td>\n",
       "      <td>0.501573</td>\n",
       "      <td>0.767128</td>\n",
       "      <td>0.954335</td>\n",
       "      <td>1.096159</td>\n",
       "      <td>1.240256</td>\n",
       "      <td>1.368466</td>\n",
       "      <td>1.533039</td>\n",
       "      <td>1.646503</td>\n",
       "      <td>1.769092</td>\n",
       "      <td>1.889389</td>\n",
       "      <td>1.989234</td>\n",
       "      <td>2.068661</td>\n",
       "      <td>2.145814</td>\n",
       "      <td>2.230908</td>\n",
       "    </tr>\n",
       "    <tr>\n",
       "      <th>TipTop</th>\n",
       "      <td>18236</td>\n",
       "      <td>0.123983</td>\n",
       "      <td>0.180398</td>\n",
       "      <td>0.226410</td>\n",
       "      <td>0.268638</td>\n",
       "      <td>0.306002</td>\n",
       "      <td>0.339678</td>\n",
       "      <td>0.368373</td>\n",
       "      <td>0.398742</td>\n",
       "      <td>0.425923</td>\n",
       "      <td>0.452884</td>\n",
       "      <td>0.476735</td>\n",
       "      <td>0.498313</td>\n",
       "      <td>0.518959</td>\n",
       "      <td>0.541215</td>\n",
       "    </tr>\n",
       "    <tr>\n",
       "      <th>WahooNetBanner</th>\n",
       "      <td>7958</td>\n",
       "      <td>0.315300</td>\n",
       "      <td>0.482142</td>\n",
       "      <td>0.625223</td>\n",
       "      <td>0.732467</td>\n",
       "      <td>0.852625</td>\n",
       "      <td>0.940294</td>\n",
       "      <td>1.043436</td>\n",
       "      <td>1.119440</td>\n",
       "      <td>1.194828</td>\n",
       "      <td>1.262506</td>\n",
       "      <td>1.340801</td>\n",
       "      <td>1.399731</td>\n",
       "      <td>1.466372</td>\n",
       "      <td>1.515517</td>\n",
       "    </tr>\n",
       "    <tr>\n",
       "      <th>YRabbit</th>\n",
       "      <td>4052</td>\n",
       "      <td>0.756265</td>\n",
       "      <td>0.984451</td>\n",
       "      <td>1.177433</td>\n",
       "      <td>1.401081</td>\n",
       "      <td>1.645260</td>\n",
       "      <td>1.792834</td>\n",
       "      <td>1.917705</td>\n",
       "      <td>2.031235</td>\n",
       "      <td>2.133402</td>\n",
       "      <td>2.224217</td>\n",
       "      <td>2.326383</td>\n",
       "      <td>2.428573</td>\n",
       "      <td>2.531877</td>\n",
       "      <td>2.594313</td>\n",
       "    </tr>\n",
       "    <tr>\n",
       "      <th>lambdaMediaAds</th>\n",
       "      <td>2038</td>\n",
       "      <td>0.631972</td>\n",
       "      <td>0.888742</td>\n",
       "      <td>1.073981</td>\n",
       "      <td>1.243136</td>\n",
       "      <td>1.431810</td>\n",
       "      <td>1.596848</td>\n",
       "      <td>1.738303</td>\n",
       "      <td>1.859550</td>\n",
       "      <td>1.984847</td>\n",
       "      <td>2.069047</td>\n",
       "      <td>2.168068</td>\n",
       "      <td>2.235428</td>\n",
       "      <td>2.326384</td>\n",
       "      <td>2.420694</td>\n",
       "    </tr>\n",
       "    <tr>\n",
       "      <th>organic</th>\n",
       "      <td>53320</td>\n",
       "      <td>inf</td>\n",
       "      <td>inf</td>\n",
       "      <td>inf</td>\n",
       "      <td>inf</td>\n",
       "      <td>inf</td>\n",
       "      <td>inf</td>\n",
       "      <td>inf</td>\n",
       "      <td>inf</td>\n",
       "      <td>inf</td>\n",
       "      <td>inf</td>\n",
       "      <td>inf</td>\n",
       "      <td>inf</td>\n",
       "      <td>inf</td>\n",
       "      <td>inf</td>\n",
       "    </tr>\n",
       "  </tbody>\n",
       "</table>\n",
       "</div>"
      ],
      "text/plain": [
       "                    cohort_size       0.0       1.0       2.0       3.0  \\\n",
       "channel                                                                   \n",
       "AdNonSense                 3665  0.503435  0.587739  0.643128  0.680955   \n",
       "FaceBoom                  27156  0.525174  0.592386  0.628053  0.653327   \n",
       "LeapBob                    7988  0.508231  0.737329  0.975335  1.119337   \n",
       "MediaTornado               4129  0.633011  0.882237  1.136977  1.352106   \n",
       "OppleCreativeMedia         8018  0.384917  0.524361  0.687235  0.826673   \n",
       "RocketSuperAds             4201  0.501573  0.767128  0.954335  1.096159   \n",
       "TipTop                    18236  0.123983  0.180398  0.226410  0.268638   \n",
       "WahooNetBanner             7958  0.315300  0.482142  0.625223  0.732467   \n",
       "YRabbit                    4052  0.756265  0.984451  1.177433  1.401081   \n",
       "lambdaMediaAds             2038  0.631972  0.888742  1.073981  1.243136   \n",
       "organic                   53320       inf       inf       inf       inf   \n",
       "\n",
       "                         4.0       5.0       6.0       7.0       8.0  \\\n",
       "channel                                                                \n",
       "AdNonSense          0.704191  0.730136  0.751750  0.765259  0.786881   \n",
       "FaceBoom            0.669990  0.681867  0.694767  0.703908  0.710705   \n",
       "LeapBob             1.236557  1.370441  1.495991  1.588820  1.758512   \n",
       "MediaTornado        1.529745  1.689649  1.788893  1.926744  2.026010   \n",
       "OppleCreativeMedia  0.966641  1.066229  1.160843  1.237031  1.314257   \n",
       "RocketSuperAds      1.240256  1.368466  1.533039  1.646503  1.769092   \n",
       "TipTop              0.306002  0.339678  0.368373  0.398742  0.425923   \n",
       "WahooNetBanner      0.852625  0.940294  1.043436  1.119440  1.194828   \n",
       "YRabbit             1.645260  1.792834  1.917705  2.031235  2.133402   \n",
       "lambdaMediaAds      1.431810  1.596848  1.738303  1.859550  1.984847   \n",
       "organic                  inf       inf       inf       inf       inf   \n",
       "\n",
       "                         9.0      10.0      11.0      12.0      13.0  \n",
       "channel                                                               \n",
       "AdNonSense          0.799039  0.803362  0.811468  0.823625  0.834441  \n",
       "FaceBoom            0.718328  0.723145  0.728589  0.733210  0.736839  \n",
       "LeapBob             1.877515  1.987599  2.085782  2.175034  2.249411  \n",
       "MediaTornado        2.125254  2.235537  2.340294  2.422998  2.457195  \n",
       "OppleCreativeMedia  1.388953  1.459164  1.509457  1.581704  1.638967  \n",
       "RocketSuperAds      1.889389  1.989234  2.068661  2.145814  2.230908  \n",
       "TipTop              0.452884  0.476735  0.498313  0.518959  0.541215  \n",
       "WahooNetBanner      1.262506  1.340801  1.399731  1.466372  1.515517  \n",
       "YRabbit             2.224217  2.326383  2.428573  2.531877  2.594313  \n",
       "lambdaMediaAds      2.069047  2.168068  2.235428  2.326384  2.420694  \n",
       "organic                  inf       inf       inf       inf       inf  "
      ]
     },
     "execution_count": 34,
     "metadata": {},
     "output_type": "execute_result"
    }
   ],
   "source": [
    "roi.loc[:,'cohort_size'] = ltv['cohort_size']\n",
    "roi"
   ]
  },
  {
   "cell_type": "code",
   "execution_count": 35,
   "metadata": {},
   "outputs": [
    {
     "data": {
      "image/png": "[encoded data removed]",
      "text/plain": [
       "<Figure size 720x360 with 1 Axes>"
      ]
     },
     "metadata": {
      "needs_background": "light"
     },
     "output_type": "display_data"
    }
   ],
   "source": [
    "report = roi.drop(columns=['cohort_size'])\n",
    "report.T.plot(grid=True, figsize=(10, 5), xticks=list(report.columns.values))\n",
    "\n",
    "plt.title('ROI с разбивкой по каналам привлечения')\n",
    "plt.ylabel('ROI')\n",
    "plt.xlabel('Лайфтайм')\n",
    "plt.axhline(y=1, color='red', linestyle='--', label='Уровень окупаемости')\n",
    "plt.legend()\n",
    "plt.show()"
   ]
  },
  {
   "cell_type": "code",
   "execution_count": null,
   "metadata": {},
   "outputs": [],
   "source": []
  },
  {
   "cell_type": "code",
   "execution_count": null,
   "metadata": {},
   "outputs": [],
   "source": []
  },
  {
   "cell_type": "code",
   "execution_count": null,
   "metadata": {},
   "outputs": [],
   "source": []
  },
  {
   "cell_type": "code",
   "execution_count": null,
   "metadata": {},
   "outputs": [],
   "source": []
  },
  {
   "cell_type": "code",
   "execution_count": null,
   "metadata": {},
   "outputs": [],
   "source": []
  },
  {
   "cell_type": "code",
   "execution_count": null,
   "metadata": {},
   "outputs": [],
   "source": []
  },
  {
   "cell_type": "code",
   "execution_count": null,
   "metadata": {},
   "outputs": [],
   "source": []
  },
  {
   "cell_type": "code",
   "execution_count": null,
   "metadata": {},
   "outputs": [],
   "source": []
  },
  {
   "cell_type": "markdown",
   "metadata": {},
   "source": [
    "# Шаг 2. Задайте функции для расчета и анализа LTV, ROI, удержания и конверсии\n",
    "\n",
    "Разрешается использовать функции, с которыми вы познакомились в теоретических уроках."
   ]
  },
  {
   "cell_type": "markdown",
   "metadata": {},
   "source": [
    "# Шаг 3. Проведите исследовательский анализ данных\n",
    "\n",
    "Постройте профили пользователей. Определите минимальную и максимальную дату привлечения пользователей.\n",
    "\n",
    "Выясните:\n",
    "- Из каких стран приходят посетители? Какие страны дают больше всего платящих пользователей?\n",
    "- Какими устройствами они пользуются? С каких устройств чаще всего заходят платящие пользователи?\n",
    "- По каким рекламным каналам шло привлечение пользователей? Какие каналы приносят больше всего платящих пользователей?"
   ]
  },
  {
   "cell_type": "markdown",
   "metadata": {},
   "source": [
    "# Шаг 4. Маркетинг\n",
    "\n",
    "Выясните:\n",
    "- Сколько денег потратили? Всего / на каждый источник / по времени\n",
    "- Сколько в среднем стоило привлечение одного покупателя из каждого источника?"
   ]
  },
  {
   "cell_type": "markdown",
   "metadata": {},
   "source": [
    "# Шаг 5. Оцените окупаемость рекламы для привлечения пользователей\n",
    "\n",
    "С помощью LTV и ROI:\n",
    "- Проанализируйте общую окупаемость рекламы;\n",
    "- Проанализируйте окупаемость рекламы с разбивкой по устройствам;\n",
    "- Проанализируйте окупаемость рекламы с разбивкой по странам;\n",
    "- Проанализируйте окупаемость рекламы с разбивкой по рекламным каналам.\n",
    "\n",
    "Опишите проблемы, которые вы обнаружили. Ответьте на вопросы:\n",
    "- Окупается ли реклама, направленная на привлечение пользователей в целом? \n",
    "- Какие устройства, страны и рекламные каналы могут оказывать негативное влияние на окупаемость рекламы?\n",
    "- Чем могут быть вызваны проблемы окупаемости? Изучите конверсию и удержание с разбивкой по устройствам, странам, рекламным каналам.\n",
    "\n",
    "Опишите возможные причины обнаруженных проблем и сформируйте рекомендации для рекламного отдела. При решении этого шага считайте, что вы смотрите данные 1-го ноября 2019 года и что в вашей организации принято считать, что окупаемость должна наступать не позднее, чем через 2 недели после привлечения пользователей."
   ]
  },
  {
   "cell_type": "markdown",
   "metadata": {},
   "source": [
    "### Проанализируйте общую окупаемость рекламы"
   ]
  },
  {
   "cell_type": "markdown",
   "metadata": {},
   "source": [
    "### Проанализируйте окупаемость рекламы с разбивкой по устройствам"
   ]
  },
  {
   "cell_type": "markdown",
   "metadata": {},
   "source": [
    "### Проанализируйте окупаемость рекламы с разбивкой по странам"
   ]
  },
  {
   "cell_type": "markdown",
   "metadata": {},
   "source": [
    "### Проанализируйте окупаемость рекламы с разбивкой по рекламным каналам"
   ]
  },
  {
   "cell_type": "markdown",
   "metadata": {},
   "source": [
    "# Шаг 6. Напишите выводы\n",
    "- Выделите причины неэффективности привлечения пользователей;\n",
    "- Сформируйте рекомендации для отдела маркетинга для повышения эффективности."
   ]
  }
 ],
 "metadata": {
  "ExecuteTimeLog": [
   {
    "duration": 402,
    "start_time": "2023-05-30T09:46:17.065Z"
   },
   {
    "duration": 1276,
    "start_time": "2023-05-30T09:47:20.189Z"
   },
   {
    "duration": 710,
    "start_time": "2023-05-30T09:48:24.508Z"
   },
   {
    "duration": 70,
    "start_time": "2023-05-30T09:48:25.221Z"
   },
   {
    "duration": 9,
    "start_time": "2023-05-30T09:48:33.392Z"
   },
   {
    "duration": 121,
    "start_time": "2023-05-30T09:48:48.138Z"
   },
   {
    "duration": 19,
    "start_time": "2023-05-30T09:50:13.507Z"
   },
   {
    "duration": 124,
    "start_time": "2023-05-30T09:50:30.082Z"
   },
   {
    "duration": 14,
    "start_time": "2023-05-30T09:53:54.551Z"
   },
   {
    "duration": 9,
    "start_time": "2023-05-30T09:54:10.460Z"
   },
   {
    "duration": 10,
    "start_time": "2023-05-30T09:54:24.253Z"
   },
   {
    "duration": 9,
    "start_time": "2023-05-30T09:54:46.603Z"
   },
   {
    "duration": 10,
    "start_time": "2023-05-30T09:55:58.322Z"
   },
   {
    "duration": 14,
    "start_time": "2023-05-30T09:56:33.042Z"
   },
   {
    "duration": 15,
    "start_time": "2023-05-30T09:56:40.045Z"
   },
   {
    "duration": 137,
    "start_time": "2023-05-30T09:57:13.332Z"
   },
   {
    "duration": 167,
    "start_time": "2023-05-30T09:57:50.711Z"
   },
   {
    "duration": 173,
    "start_time": "2023-05-30T09:58:02.999Z"
   },
   {
    "duration": 114,
    "start_time": "2023-05-30T09:58:24.756Z"
   },
   {
    "duration": 124,
    "start_time": "2023-05-30T09:58:51.268Z"
   },
   {
    "duration": 201,
    "start_time": "2023-05-30T09:58:58.172Z"
   },
   {
    "duration": 151,
    "start_time": "2023-05-30T09:59:14.899Z"
   },
   {
    "duration": 12,
    "start_time": "2023-05-30T10:03:57.202Z"
   },
   {
    "duration": 10,
    "start_time": "2023-05-30T10:04:03.480Z"
   },
   {
    "duration": 353,
    "start_time": "2023-05-30T10:04:16.771Z"
   },
   {
    "duration": 297,
    "start_time": "2023-05-30T10:05:17.082Z"
   },
   {
    "duration": 405,
    "start_time": "2023-05-30T10:05:39.903Z"
   },
   {
    "duration": 312,
    "start_time": "2023-05-30T10:05:55.951Z"
   },
   {
    "duration": 657,
    "start_time": "2023-05-30T10:06:29.423Z"
   },
   {
    "duration": 654,
    "start_time": "2023-05-30T10:07:08.196Z"
   },
   {
    "duration": 726,
    "start_time": "2023-05-30T10:07:22.257Z"
   },
   {
    "duration": 184,
    "start_time": "2023-05-30T10:07:23.978Z"
   },
   {
    "duration": 612,
    "start_time": "2023-05-30T10:07:33.413Z"
   },
   {
    "duration": 460,
    "start_time": "2023-05-30T10:07:44.731Z"
   },
   {
    "duration": 709,
    "start_time": "2023-05-30T10:07:45.675Z"
   },
   {
    "duration": 127,
    "start_time": "2023-05-30T10:07:47.081Z"
   },
   {
    "duration": 619,
    "start_time": "2023-05-30T10:07:49.879Z"
   },
   {
    "duration": 419,
    "start_time": "2023-05-30T10:17:39.360Z"
   },
   {
    "duration": 423,
    "start_time": "2023-05-30T10:17:58.573Z"
   },
   {
    "duration": 466,
    "start_time": "2023-05-30T10:18:08.710Z"
   },
   {
    "duration": 454,
    "start_time": "2023-05-30T10:18:18.164Z"
   },
   {
    "duration": 429,
    "start_time": "2023-05-30T10:18:29.829Z"
   },
   {
    "duration": 437,
    "start_time": "2023-05-30T10:18:41.306Z"
   },
   {
    "duration": 449,
    "start_time": "2023-05-30T10:19:01.808Z"
   },
   {
    "duration": 477,
    "start_time": "2023-05-30T10:19:28.215Z"
   },
   {
    "duration": 3,
    "start_time": "2023-05-30T10:20:11.477Z"
   },
   {
    "duration": 700,
    "start_time": "2023-05-30T10:20:11.991Z"
   },
   {
    "duration": 421,
    "start_time": "2023-05-30T10:20:12.693Z"
   },
   {
    "duration": 3,
    "start_time": "2023-05-30T10:20:17.662Z"
   },
   {
    "duration": 705,
    "start_time": "2023-05-30T10:20:18.094Z"
   },
   {
    "duration": 464,
    "start_time": "2023-05-30T10:20:18.802Z"
   },
   {
    "duration": 411,
    "start_time": "2023-05-30T10:20:30.803Z"
   },
   {
    "duration": 433,
    "start_time": "2023-05-30T10:20:34.087Z"
   },
   {
    "duration": 4,
    "start_time": "2023-05-30T10:23:55.582Z"
   },
   {
    "duration": 75,
    "start_time": "2023-05-30T10:24:03.761Z"
   },
   {
    "duration": 12,
    "start_time": "2023-05-30T10:24:10.328Z"
   },
   {
    "duration": 190,
    "start_time": "2023-05-30T10:24:40.072Z"
   },
   {
    "duration": 5,
    "start_time": "2023-05-30T10:24:43.765Z"
   },
   {
    "duration": 69,
    "start_time": "2023-05-30T10:25:16.161Z"
   },
   {
    "duration": 24,
    "start_time": "2023-05-30T10:25:58.430Z"
   },
   {
    "duration": 10,
    "start_time": "2023-05-30T10:27:11.291Z"
   },
   {
    "duration": 11,
    "start_time": "2023-05-30T10:31:29.515Z"
   },
   {
    "duration": 5,
    "start_time": "2023-05-30T10:31:41.282Z"
   },
   {
    "duration": 12,
    "start_time": "2023-05-30T10:32:07.672Z"
   },
   {
    "duration": 10,
    "start_time": "2023-05-30T10:32:16.076Z"
   },
   {
    "duration": 8,
    "start_time": "2023-05-30T10:32:20.473Z"
   },
   {
    "duration": 4,
    "start_time": "2023-05-30T10:32:24.689Z"
   },
   {
    "duration": 171,
    "start_time": "2023-05-30T10:32:38.464Z"
   },
   {
    "duration": 7,
    "start_time": "2023-05-30T10:32:44.952Z"
   },
   {
    "duration": 392,
    "start_time": "2023-05-30T10:33:58.658Z"
   },
   {
    "duration": 739,
    "start_time": "2023-05-30T10:33:59.052Z"
   },
   {
    "duration": 412,
    "start_time": "2023-05-30T10:33:59.794Z"
   },
   {
    "duration": 99,
    "start_time": "2023-05-30T10:34:03.909Z"
   },
   {
    "duration": 3,
    "start_time": "2023-05-30T10:34:23.004Z"
   },
   {
    "duration": 5,
    "start_time": "2023-05-30T10:34:42.357Z"
   },
   {
    "duration": 5,
    "start_time": "2023-05-30T10:34:49.289Z"
   },
   {
    "duration": 7,
    "start_time": "2023-05-30T10:36:39.988Z"
   },
   {
    "duration": 430,
    "start_time": "2023-05-30T10:37:10.936Z"
   },
   {
    "duration": 732,
    "start_time": "2023-05-30T10:37:11.368Z"
   },
   {
    "duration": 415,
    "start_time": "2023-05-30T10:37:12.101Z"
   },
   {
    "duration": 15,
    "start_time": "2023-05-30T10:37:15.189Z"
   },
   {
    "duration": 30,
    "start_time": "2023-05-30T10:37:20.727Z"
   },
   {
    "duration": 273,
    "start_time": "2023-05-30T10:41:28.735Z"
   },
   {
    "duration": 113,
    "start_time": "2023-05-30T10:42:04.293Z"
   },
   {
    "duration": 48,
    "start_time": "2023-05-30T10:44:02.941Z"
   },
   {
    "duration": 93,
    "start_time": "2023-05-30T10:45:49.808Z"
   },
   {
    "duration": 415,
    "start_time": "2023-05-30T10:46:11.855Z"
   },
   {
    "duration": 672,
    "start_time": "2023-05-30T10:46:12.898Z"
   },
   {
    "duration": 431,
    "start_time": "2023-05-30T10:46:13.924Z"
   },
   {
    "duration": 185,
    "start_time": "2023-05-30T10:46:16.083Z"
   },
   {
    "duration": 82,
    "start_time": "2023-05-30T10:46:18.222Z"
   },
   {
    "duration": 40,
    "start_time": "2023-05-30T10:49:30.540Z"
   },
   {
    "duration": 13,
    "start_time": "2023-05-30T10:49:46.758Z"
   },
   {
    "duration": 20,
    "start_time": "2023-05-30T10:50:06.086Z"
   },
   {
    "duration": 10,
    "start_time": "2023-05-30T10:50:18.820Z"
   },
   {
    "duration": 114,
    "start_time": "2023-05-30T10:51:39.163Z"
   },
   {
    "duration": 134,
    "start_time": "2023-05-30T10:51:57.443Z"
   },
   {
    "duration": 84,
    "start_time": "2023-05-30T10:52:03.410Z"
   },
   {
    "duration": 21027,
    "start_time": "2023-05-30T10:52:13.023Z"
   },
   {
    "duration": 36,
    "start_time": "2023-05-30T11:20:18.060Z"
   },
   {
    "duration": 65,
    "start_time": "2023-05-30T11:20:43.824Z"
   },
   {
    "duration": 34,
    "start_time": "2023-05-30T11:21:37.081Z"
   },
   {
    "duration": 68,
    "start_time": "2023-05-30T11:21:53.401Z"
   },
   {
    "duration": 56,
    "start_time": "2023-05-30T11:22:26.964Z"
   },
   {
    "duration": 61,
    "start_time": "2023-05-30T11:22:52.469Z"
   },
   {
    "duration": 137,
    "start_time": "2023-05-30T11:23:14.970Z"
   },
   {
    "duration": 65,
    "start_time": "2023-05-30T11:23:22.370Z"
   },
   {
    "duration": 109,
    "start_time": "2023-05-30T11:23:54.206Z"
   },
   {
    "duration": 24,
    "start_time": "2023-05-30T11:24:41.059Z"
   },
   {
    "duration": 66,
    "start_time": "2023-05-30T11:25:01.260Z"
   },
   {
    "duration": 81,
    "start_time": "2023-05-30T11:25:09.260Z"
   },
   {
    "duration": 21,
    "start_time": "2023-05-30T11:25:49.460Z"
   },
   {
    "duration": 21,
    "start_time": "2023-05-30T11:26:17.409Z"
   },
   {
    "duration": 17,
    "start_time": "2023-05-30T11:28:36.069Z"
   },
   {
    "duration": 121,
    "start_time": "2023-05-30T11:28:50.302Z"
   },
   {
    "duration": 86,
    "start_time": "2023-05-30T11:32:01.589Z"
   },
   {
    "duration": 95,
    "start_time": "2023-05-30T11:32:17.613Z"
   },
   {
    "duration": 126,
    "start_time": "2023-05-30T11:33:51.669Z"
   },
   {
    "duration": 146,
    "start_time": "2023-05-30T11:35:11.267Z"
   },
   {
    "duration": 176,
    "start_time": "2023-05-30T11:35:48.597Z"
   },
   {
    "duration": 150,
    "start_time": "2023-05-30T11:35:59.681Z"
   },
   {
    "duration": 24,
    "start_time": "2023-05-30T11:36:58.787Z"
   },
   {
    "duration": 17,
    "start_time": "2023-05-30T11:37:07.819Z"
   },
   {
    "duration": 25,
    "start_time": "2023-05-30T11:37:37.166Z"
   },
   {
    "duration": 4,
    "start_time": "2023-05-30T11:38:39.268Z"
   },
   {
    "duration": 22,
    "start_time": "2023-05-30T11:39:10.875Z"
   },
   {
    "duration": 149,
    "start_time": "2023-05-30T11:39:46.366Z"
   },
   {
    "duration": 152,
    "start_time": "2023-05-30T11:41:57.768Z"
   },
   {
    "duration": 205,
    "start_time": "2023-05-30T11:42:02.974Z"
   },
   {
    "duration": 207,
    "start_time": "2023-05-30T11:43:11.368Z"
   },
   {
    "duration": 67,
    "start_time": "2023-05-30T11:43:31.017Z"
   },
   {
    "duration": 228,
    "start_time": "2023-05-30T11:43:43.438Z"
   },
   {
    "duration": 263,
    "start_time": "2023-05-30T11:44:26.792Z"
   },
   {
    "duration": 189,
    "start_time": "2023-05-30T11:45:25.462Z"
   },
   {
    "duration": 62,
    "start_time": "2023-05-30T11:47:10.397Z"
   },
   {
    "duration": 459,
    "start_time": "2023-05-30T11:48:43.571Z"
   },
   {
    "duration": 861,
    "start_time": "2023-05-30T11:48:44.033Z"
   },
   {
    "duration": 606,
    "start_time": "2023-05-30T11:48:44.896Z"
   },
   {
    "duration": 265,
    "start_time": "2023-05-30T11:48:45.504Z"
   },
   {
    "duration": 118,
    "start_time": "2023-05-30T11:48:47.910Z"
   },
   {
    "duration": 213,
    "start_time": "2023-05-30T11:48:51.797Z"
   },
   {
    "duration": 89,
    "start_time": "2023-05-30T11:49:25.901Z"
   },
   {
    "duration": 65,
    "start_time": "2023-05-30T11:50:00.270Z"
   },
   {
    "duration": 156,
    "start_time": "2023-05-30T11:53:48.891Z"
   },
   {
    "duration": 10,
    "start_time": "2023-05-30T11:54:01.390Z"
   },
   {
    "duration": 1169,
    "start_time": "2023-05-30T11:54:14.010Z"
   },
   {
    "duration": 138,
    "start_time": "2023-05-30T11:54:19.070Z"
   },
   {
    "duration": 68,
    "start_time": "2023-05-30T11:54:39.564Z"
   },
   {
    "duration": 1431,
    "start_time": "2023-05-30T11:54:47.271Z"
   },
   {
    "duration": 828,
    "start_time": "2023-05-30T11:54:55.786Z"
   },
   {
    "duration": 1230,
    "start_time": "2023-05-30T11:56:51.982Z"
   },
   {
    "duration": 956,
    "start_time": "2023-05-30T11:57:23.897Z"
   },
   {
    "duration": 675,
    "start_time": "2023-05-30T11:57:54.265Z"
   },
   {
    "duration": 551,
    "start_time": "2023-05-30T11:58:08.582Z"
   },
   {
    "duration": 92,
    "start_time": "2023-05-30T11:59:15.001Z"
   },
   {
    "duration": 3,
    "start_time": "2023-05-30T11:59:25.425Z"
   },
   {
    "duration": 286,
    "start_time": "2023-05-30T11:59:29.811Z"
   },
   {
    "duration": 66,
    "start_time": "2023-05-30T11:59:31.971Z"
   },
   {
    "duration": 16,
    "start_time": "2023-05-30T12:00:07.928Z"
   },
   {
    "duration": 11,
    "start_time": "2023-05-30T12:00:46.266Z"
   },
   {
    "duration": 541,
    "start_time": "2023-05-30T12:01:17.308Z"
   },
   {
    "duration": 14,
    "start_time": "2023-05-30T12:01:31.826Z"
   },
   {
    "duration": 21,
    "start_time": "2023-05-30T12:01:38.758Z"
   },
   {
    "duration": 282,
    "start_time": "2023-05-30T12:01:43.400Z"
   },
   {
    "duration": 404,
    "start_time": "2023-05-30T12:01:47.487Z"
   },
   {
    "duration": 409,
    "start_time": "2023-05-30T12:01:56.682Z"
   },
   {
    "duration": 330,
    "start_time": "2023-05-30T12:02:06.615Z"
   },
   {
    "duration": 358,
    "start_time": "2023-05-30T12:02:26.525Z"
   },
   {
    "duration": 321,
    "start_time": "2023-05-30T12:02:31.959Z"
   },
   {
    "duration": 4,
    "start_time": "2023-05-30T12:03:19.962Z"
   },
   {
    "duration": 87,
    "start_time": "2023-05-30T12:03:56.400Z"
   },
   {
    "duration": 71,
    "start_time": "2023-05-30T12:04:48.815Z"
   },
   {
    "duration": 85,
    "start_time": "2023-05-30T12:05:50.376Z"
   },
   {
    "duration": 93,
    "start_time": "2023-05-30T12:05:55.763Z"
   },
   {
    "duration": 95,
    "start_time": "2023-05-30T12:06:07.663Z"
   },
   {
    "duration": 117,
    "start_time": "2023-05-30T12:06:35.079Z"
   },
   {
    "duration": 75,
    "start_time": "2023-05-30T12:07:23.962Z"
   },
   {
    "duration": 73,
    "start_time": "2023-05-30T12:07:42.060Z"
   },
   {
    "duration": 64,
    "start_time": "2023-05-30T12:07:54.262Z"
   },
   {
    "duration": 188,
    "start_time": "2023-05-30T12:08:08.568Z"
   },
   {
    "duration": 193,
    "start_time": "2023-05-30T12:08:19.661Z"
   },
   {
    "duration": 86,
    "start_time": "2023-05-30T12:08:23.983Z"
   },
   {
    "duration": 727,
    "start_time": "2023-05-30T12:11:08.691Z"
   },
   {
    "duration": 777,
    "start_time": "2023-05-30T12:11:09.421Z"
   },
   {
    "duration": 465,
    "start_time": "2023-05-30T12:11:10.200Z"
   },
   {
    "duration": 249,
    "start_time": "2023-05-30T12:11:10.667Z"
   },
   {
    "duration": 109,
    "start_time": "2023-05-30T12:11:12.009Z"
   },
   {
    "duration": 72,
    "start_time": "2023-05-30T12:11:16.360Z"
   },
   {
    "duration": 59,
    "start_time": "2023-05-30T12:11:19.167Z"
   },
   {
    "duration": 239,
    "start_time": "2023-05-30T12:12:03.669Z"
   },
   {
    "duration": 120,
    "start_time": "2023-05-30T12:12:37.403Z"
   },
   {
    "duration": 310,
    "start_time": "2023-05-30T12:12:52.889Z"
   },
   {
    "duration": 286,
    "start_time": "2023-05-30T12:12:58.603Z"
   },
   {
    "duration": 29,
    "start_time": "2023-05-30T12:14:12.864Z"
   },
   {
    "duration": 289,
    "start_time": "2023-05-30T12:14:20.888Z"
   },
   {
    "duration": 252,
    "start_time": "2023-05-30T12:14:25.763Z"
   },
   {
    "duration": 276,
    "start_time": "2023-05-30T12:14:55.813Z"
   },
   {
    "duration": 184,
    "start_time": "2023-05-30T12:15:01.401Z"
   },
   {
    "duration": 5,
    "start_time": "2023-05-30T12:16:08.587Z"
   },
   {
    "duration": 249,
    "start_time": "2023-05-30T12:16:14.869Z"
   },
   {
    "duration": 192,
    "start_time": "2023-05-30T12:16:25.184Z"
   },
   {
    "duration": 238,
    "start_time": "2023-05-30T12:16:37.294Z"
   },
   {
    "duration": 183,
    "start_time": "2023-05-30T12:18:14.151Z"
   },
   {
    "duration": 211,
    "start_time": "2023-05-30T12:18:26.589Z"
   },
   {
    "duration": 188,
    "start_time": "2023-05-30T12:18:36.965Z"
   },
   {
    "duration": 257,
    "start_time": "2023-05-30T12:18:59.096Z"
   },
   {
    "duration": 223,
    "start_time": "2023-05-30T12:19:04.186Z"
   },
   {
    "duration": 207,
    "start_time": "2023-05-30T12:19:08.859Z"
   },
   {
    "duration": 311,
    "start_time": "2023-05-30T12:19:14.461Z"
   },
   {
    "duration": 285,
    "start_time": "2023-05-30T12:19:18.508Z"
   },
   {
    "duration": 204,
    "start_time": "2023-05-30T12:19:24.516Z"
   },
   {
    "duration": 197,
    "start_time": "2023-05-30T12:19:28.720Z"
   },
   {
    "duration": 217,
    "start_time": "2023-05-30T12:21:57.808Z"
   },
   {
    "duration": 443,
    "start_time": "2023-05-30T12:22:52.170Z"
   },
   {
    "duration": 360,
    "start_time": "2023-05-30T12:23:09.580Z"
   },
   {
    "duration": 409,
    "start_time": "2023-05-30T12:23:40.723Z"
   },
   {
    "duration": 440,
    "start_time": "2023-05-30T12:23:47.484Z"
   },
   {
    "duration": 397,
    "start_time": "2023-05-30T12:24:20.981Z"
   },
   {
    "duration": 600,
    "start_time": "2023-05-30T12:25:00.764Z"
   },
   {
    "duration": 2108,
    "start_time": "2023-05-30T12:25:10.165Z"
   },
   {
    "duration": 936,
    "start_time": "2023-05-30T12:26:05.965Z"
   },
   {
    "duration": 854,
    "start_time": "2023-05-30T12:26:06.904Z"
   },
   {
    "duration": 576,
    "start_time": "2023-05-30T12:26:07.766Z"
   },
   {
    "duration": 346,
    "start_time": "2023-05-30T12:26:08.346Z"
   },
   {
    "duration": 160,
    "start_time": "2023-05-30T12:26:08.695Z"
   },
   {
    "duration": 126,
    "start_time": "2023-05-30T12:26:08.859Z"
   },
   {
    "duration": 86,
    "start_time": "2023-05-30T12:26:08.988Z"
   },
   {
    "duration": 42,
    "start_time": "2023-05-30T12:26:09.077Z"
   },
   {
    "duration": 2180,
    "start_time": "2023-05-30T12:26:09.122Z"
   },
   {
    "duration": 49,
    "start_time": "2023-05-30T12:28:24.711Z"
   },
   {
    "duration": 340,
    "start_time": "2023-05-30T12:29:10.553Z"
   },
   {
    "duration": 38,
    "start_time": "2023-05-30T12:29:16.189Z"
   },
   {
    "duration": 316,
    "start_time": "2023-05-30T12:32:14.516Z"
   },
   {
    "duration": 276,
    "start_time": "2023-05-30T12:32:23.511Z"
   },
   {
    "duration": 109,
    "start_time": "2023-05-30T12:32:31.761Z"
   },
   {
    "duration": 99,
    "start_time": "2023-05-30T12:32:36.454Z"
   },
   {
    "duration": 86,
    "start_time": "2023-05-30T12:32:46.565Z"
   },
   {
    "duration": 88,
    "start_time": "2023-05-30T12:35:41.550Z"
   },
   {
    "duration": 157,
    "start_time": "2023-05-30T12:35:49.562Z"
   },
   {
    "duration": 1029,
    "start_time": "2023-05-30T12:36:05.360Z"
   },
   {
    "duration": 787,
    "start_time": "2023-05-30T12:36:38.817Z"
   },
   {
    "duration": 1153,
    "start_time": "2023-05-30T12:36:39.605Z"
   },
   {
    "duration": 447,
    "start_time": "2023-05-30T12:36:40.761Z"
   },
   {
    "duration": 252,
    "start_time": "2023-05-30T12:36:41.210Z"
   },
   {
    "duration": 100,
    "start_time": "2023-05-30T12:36:41.464Z"
   },
   {
    "duration": 92,
    "start_time": "2023-05-30T12:36:41.567Z"
   },
   {
    "duration": 50,
    "start_time": "2023-05-30T12:36:41.999Z"
   },
   {
    "duration": 40,
    "start_time": "2023-05-30T12:36:42.965Z"
   },
   {
    "duration": 1854,
    "start_time": "2023-05-30T12:36:43.793Z"
   },
   {
    "duration": 193,
    "start_time": "2023-05-30T12:36:51.374Z"
   },
   {
    "duration": 45,
    "start_time": "2023-05-30T12:37:01.400Z"
   },
   {
    "duration": 780,
    "start_time": "2023-05-30T12:37:06.110Z"
   },
   {
    "duration": 839,
    "start_time": "2023-05-30T12:37:06.893Z"
   },
   {
    "duration": 549,
    "start_time": "2023-05-30T12:37:07.734Z"
   },
   {
    "duration": 299,
    "start_time": "2023-05-30T12:37:08.287Z"
   },
   {
    "duration": 138,
    "start_time": "2023-05-30T12:37:08.589Z"
   },
   {
    "duration": 90,
    "start_time": "2023-05-30T12:37:08.730Z"
   },
   {
    "duration": 70,
    "start_time": "2023-05-30T12:37:08.822Z"
   },
   {
    "duration": 63,
    "start_time": "2023-05-30T12:37:08.894Z"
   },
   {
    "duration": 1930,
    "start_time": "2023-05-30T12:37:08.960Z"
   },
   {
    "duration": 190,
    "start_time": "2023-05-30T12:37:10.895Z"
   },
   {
    "duration": 61,
    "start_time": "2023-05-30T12:37:11.087Z"
   },
   {
    "duration": 200,
    "start_time": "2023-05-30T12:37:11.153Z"
   },
   {
    "duration": 166,
    "start_time": "2023-05-30T12:50:04.478Z"
   },
   {
    "duration": 826,
    "start_time": "2023-05-30T12:50:46.900Z"
   },
   {
    "duration": 768,
    "start_time": "2023-05-30T12:50:47.729Z"
   },
   {
    "duration": 526,
    "start_time": "2023-05-30T12:50:48.499Z"
   },
   {
    "duration": 277,
    "start_time": "2023-05-30T12:50:49.028Z"
   },
   {
    "duration": 103,
    "start_time": "2023-05-30T12:50:49.307Z"
   },
   {
    "duration": 110,
    "start_time": "2023-05-30T12:50:49.412Z"
   },
   {
    "duration": 57,
    "start_time": "2023-05-30T12:50:49.524Z"
   },
   {
    "duration": 36,
    "start_time": "2023-05-30T12:50:49.583Z"
   },
   {
    "duration": 1867,
    "start_time": "2023-05-30T12:50:49.642Z"
   },
   {
    "duration": 319,
    "start_time": "2023-05-30T12:50:51.512Z"
   },
   {
    "duration": 0,
    "start_time": "2023-05-30T12:50:51.833Z"
   },
   {
    "duration": 0,
    "start_time": "2023-05-30T12:50:51.834Z"
   },
   {
    "duration": 309,
    "start_time": "2023-05-30T12:51:30.378Z"
   },
   {
    "duration": 40,
    "start_time": "2023-05-30T12:51:36.350Z"
   },
   {
    "duration": 270,
    "start_time": "2023-05-30T13:01:36.516Z"
   },
   {
    "duration": 32,
    "start_time": "2023-05-30T13:01:39.068Z"
   },
   {
    "duration": 292,
    "start_time": "2023-05-30T13:02:17.145Z"
   },
   {
    "duration": 728,
    "start_time": "2023-05-30T13:02:22.107Z"
   },
   {
    "duration": 797,
    "start_time": "2023-05-30T13:02:22.837Z"
   },
   {
    "duration": 438,
    "start_time": "2023-05-30T13:02:23.636Z"
   },
   {
    "duration": 259,
    "start_time": "2023-05-30T13:02:24.076Z"
   },
   {
    "duration": 106,
    "start_time": "2023-05-30T13:02:24.337Z"
   },
   {
    "duration": 70,
    "start_time": "2023-05-30T13:02:24.445Z"
   },
   {
    "duration": 63,
    "start_time": "2023-05-30T13:02:24.517Z"
   },
   {
    "duration": 34,
    "start_time": "2023-05-30T13:02:24.582Z"
   },
   {
    "duration": 1878,
    "start_time": "2023-05-30T13:02:24.618Z"
   },
   {
    "duration": 340,
    "start_time": "2023-05-30T13:02:26.499Z"
   },
   {
    "duration": 0,
    "start_time": "2023-05-30T13:02:26.841Z"
   },
   {
    "duration": 0,
    "start_time": "2023-05-30T13:02:26.843Z"
   },
   {
    "duration": 244,
    "start_time": "2023-05-30T13:02:46.277Z"
   },
   {
    "duration": 22,
    "start_time": "2023-05-30T13:02:47.750Z"
   },
   {
    "duration": 183,
    "start_time": "2023-05-30T13:04:04.918Z"
   },
   {
    "duration": 706,
    "start_time": "2023-05-30T13:04:09.069Z"
   },
   {
    "duration": 745,
    "start_time": "2023-05-30T13:04:09.777Z"
   },
   {
    "duration": 455,
    "start_time": "2023-05-30T13:04:10.523Z"
   },
   {
    "duration": 250,
    "start_time": "2023-05-30T13:04:10.981Z"
   },
   {
    "duration": 85,
    "start_time": "2023-05-30T13:04:11.233Z"
   },
   {
    "duration": 92,
    "start_time": "2023-05-30T13:04:11.320Z"
   },
   {
    "duration": 58,
    "start_time": "2023-05-30T13:04:11.415Z"
   },
   {
    "duration": 43,
    "start_time": "2023-05-30T13:04:11.476Z"
   },
   {
    "duration": 1682,
    "start_time": "2023-05-30T13:04:11.521Z"
   },
   {
    "duration": 256,
    "start_time": "2023-05-30T13:04:13.205Z"
   },
   {
    "duration": 0,
    "start_time": "2023-05-30T13:04:13.462Z"
   },
   {
    "duration": 0,
    "start_time": "2023-05-30T13:04:13.464Z"
   },
   {
    "duration": 274,
    "start_time": "2023-05-30T13:04:27.000Z"
   },
   {
    "duration": 25,
    "start_time": "2023-05-30T13:04:28.961Z"
   },
   {
    "duration": 13,
    "start_time": "2023-05-30T13:07:27.509Z"
   },
   {
    "duration": 15,
    "start_time": "2023-05-30T13:07:34.659Z"
   },
   {
    "duration": 23,
    "start_time": "2023-05-30T13:07:42.556Z"
   },
   {
    "duration": 21,
    "start_time": "2023-05-30T13:07:56.549Z"
   },
   {
    "duration": 16,
    "start_time": "2023-05-30T13:08:07.101Z"
   },
   {
    "duration": 16,
    "start_time": "2023-05-30T13:08:16.944Z"
   },
   {
    "duration": 24,
    "start_time": "2023-05-30T13:08:20.954Z"
   },
   {
    "duration": 79,
    "start_time": "2023-05-30T13:08:44.440Z"
   },
   {
    "duration": 733,
    "start_time": "2023-05-30T13:10:39.062Z"
   },
   {
    "duration": 787,
    "start_time": "2023-05-30T13:10:39.797Z"
   },
   {
    "duration": 440,
    "start_time": "2023-05-30T13:10:40.586Z"
   },
   {
    "duration": 238,
    "start_time": "2023-05-30T13:10:41.028Z"
   },
   {
    "duration": 105,
    "start_time": "2023-05-30T13:10:41.268Z"
   },
   {
    "duration": 92,
    "start_time": "2023-05-30T13:10:41.374Z"
   },
   {
    "duration": 46,
    "start_time": "2023-05-30T13:10:41.468Z"
   },
   {
    "duration": 57,
    "start_time": "2023-05-30T13:10:41.516Z"
   },
   {
    "duration": 1841,
    "start_time": "2023-05-30T13:10:41.576Z"
   },
   {
    "duration": 250,
    "start_time": "2023-05-30T13:10:43.420Z"
   },
   {
    "duration": 91,
    "start_time": "2023-05-30T13:10:43.672Z"
   },
   {
    "duration": 60,
    "start_time": "2023-05-30T13:10:43.766Z"
   },
   {
    "duration": 703,
    "start_time": "2023-05-30T13:11:12.190Z"
   },
   {
    "duration": 739,
    "start_time": "2023-05-30T13:11:12.895Z"
   },
   {
    "duration": 440,
    "start_time": "2023-05-30T13:11:13.636Z"
   },
   {
    "duration": 261,
    "start_time": "2023-05-30T13:11:14.079Z"
   },
   {
    "duration": 110,
    "start_time": "2023-05-30T13:11:14.348Z"
   },
   {
    "duration": 68,
    "start_time": "2023-05-30T13:11:14.462Z"
   },
   {
    "duration": 49,
    "start_time": "2023-05-30T13:11:14.543Z"
   },
   {
    "duration": 65,
    "start_time": "2023-05-30T13:11:14.594Z"
   },
   {
    "duration": 1651,
    "start_time": "2023-05-30T13:11:14.661Z"
   },
   {
    "duration": 248,
    "start_time": "2023-05-30T13:11:16.314Z"
   },
   {
    "duration": 148,
    "start_time": "2023-05-30T13:11:16.564Z"
   },
   {
    "duration": 1,
    "start_time": "2023-05-30T13:11:16.713Z"
   },
   {
    "duration": 75,
    "start_time": "2023-05-30T13:11:42.163Z"
   },
   {
    "duration": 100,
    "start_time": "2023-05-30T13:12:23.977Z"
   },
   {
    "duration": 110,
    "start_time": "2023-05-30T13:12:33.691Z"
   },
   {
    "duration": 85,
    "start_time": "2023-05-30T13:13:11.789Z"
   },
   {
    "duration": 95,
    "start_time": "2023-05-30T13:13:43.606Z"
   },
   {
    "duration": 90,
    "start_time": "2023-05-30T13:13:49.680Z"
   },
   {
    "duration": 7,
    "start_time": "2023-05-30T13:14:53.317Z"
   },
   {
    "duration": 103,
    "start_time": "2023-05-30T13:14:59.526Z"
   },
   {
    "duration": 135,
    "start_time": "2023-05-30T13:15:28.313Z"
   },
   {
    "duration": 102,
    "start_time": "2023-05-30T13:15:47.802Z"
   },
   {
    "duration": 127,
    "start_time": "2023-05-30T13:17:03.690Z"
   },
   {
    "duration": 228,
    "start_time": "2023-05-30T13:17:12.284Z"
   },
   {
    "duration": 109,
    "start_time": "2023-05-30T13:17:19.860Z"
   },
   {
    "duration": 173,
    "start_time": "2023-05-30T13:19:43.093Z"
   },
   {
    "duration": 13,
    "start_time": "2023-05-30T13:20:02.060Z"
   },
   {
    "duration": 723,
    "start_time": "2023-05-30T13:22:05.458Z"
   },
   {
    "duration": 751,
    "start_time": "2023-05-30T13:22:06.183Z"
   },
   {
    "duration": 487,
    "start_time": "2023-05-30T13:22:06.936Z"
   },
   {
    "duration": 299,
    "start_time": "2023-05-30T13:22:07.426Z"
   },
   {
    "duration": 94,
    "start_time": "2023-05-30T13:22:07.729Z"
   },
   {
    "duration": 73,
    "start_time": "2023-05-30T13:22:07.843Z"
   },
   {
    "duration": 71,
    "start_time": "2023-05-30T13:22:07.918Z"
   },
   {
    "duration": 68,
    "start_time": "2023-05-30T13:22:07.992Z"
   },
   {
    "duration": 1897,
    "start_time": "2023-05-30T13:22:08.063Z"
   },
   {
    "duration": 251,
    "start_time": "2023-05-30T13:22:09.962Z"
   },
   {
    "duration": 172,
    "start_time": "2023-05-30T13:22:10.215Z"
   },
   {
    "duration": 10,
    "start_time": "2023-05-30T13:22:24.027Z"
   },
   {
    "duration": 97,
    "start_time": "2023-05-30T13:45:49.969Z"
   },
   {
    "duration": 155,
    "start_time": "2023-05-30T13:46:49.168Z"
   },
   {
    "duration": 160,
    "start_time": "2023-05-30T13:47:09.119Z"
   },
   {
    "duration": 321,
    "start_time": "2023-05-30T13:47:21.296Z"
   },
   {
    "duration": 153,
    "start_time": "2023-05-30T13:47:27.573Z"
   },
   {
    "duration": 137,
    "start_time": "2023-05-30T13:47:36.790Z"
   },
   {
    "duration": 119,
    "start_time": "2023-05-30T13:47:48.702Z"
   },
   {
    "duration": 105,
    "start_time": "2023-05-30T13:51:23.389Z"
   },
   {
    "duration": 17,
    "start_time": "2023-05-30T13:51:28.580Z"
   },
   {
    "duration": 11,
    "start_time": "2023-05-30T13:51:50.668Z"
   },
   {
    "duration": 14,
    "start_time": "2023-05-30T13:51:56.061Z"
   },
   {
    "duration": 24,
    "start_time": "2023-05-30T13:52:13.765Z"
   },
   {
    "duration": 23,
    "start_time": "2023-05-30T13:52:25.082Z"
   },
   {
    "duration": 106,
    "start_time": "2023-05-30T13:55:47.578Z"
   },
   {
    "duration": 13,
    "start_time": "2023-05-30T13:55:52.206Z"
   },
   {
    "duration": 10,
    "start_time": "2023-05-30T13:56:58.600Z"
   },
   {
    "duration": 9,
    "start_time": "2023-05-30T13:57:25.778Z"
   },
   {
    "duration": 13,
    "start_time": "2023-05-30T13:57:36.616Z"
   },
   {
    "duration": 6,
    "start_time": "2023-05-30T13:57:48.672Z"
   },
   {
    "duration": 6,
    "start_time": "2023-05-30T13:58:18.351Z"
   },
   {
    "duration": 7,
    "start_time": "2023-05-30T13:58:45.020Z"
   },
   {
    "duration": 6,
    "start_time": "2023-05-30T13:58:56.073Z"
   },
   {
    "duration": 7,
    "start_time": "2023-05-30T13:59:11.900Z"
   },
   {
    "duration": 139,
    "start_time": "2023-05-30T14:05:39.777Z"
   },
   {
    "duration": 12,
    "start_time": "2023-05-30T14:05:54.173Z"
   },
   {
    "duration": 141,
    "start_time": "2023-05-30T14:06:03.565Z"
   },
   {
    "duration": 152,
    "start_time": "2023-05-30T14:06:20.557Z"
   },
   {
    "duration": 156,
    "start_time": "2023-05-30T14:06:37.805Z"
   },
   {
    "duration": 6,
    "start_time": "2023-05-30T14:08:01.695Z"
   },
   {
    "duration": 223,
    "start_time": "2023-05-30T14:08:10.157Z"
   },
   {
    "duration": 146,
    "start_time": "2023-05-30T14:08:47.489Z"
   },
   {
    "duration": 629,
    "start_time": "2023-05-30T14:08:58.380Z"
   },
   {
    "duration": 716,
    "start_time": "2023-05-30T14:08:59.011Z"
   },
   {
    "duration": 443,
    "start_time": "2023-05-30T14:08:59.729Z"
   },
   {
    "duration": 255,
    "start_time": "2023-05-30T14:09:00.174Z"
   },
   {
    "duration": 129,
    "start_time": "2023-05-30T14:09:00.432Z"
   },
   {
    "duration": 95,
    "start_time": "2023-05-30T14:09:00.564Z"
   },
   {
    "duration": 47,
    "start_time": "2023-05-30T14:09:00.662Z"
   },
   {
    "duration": 61,
    "start_time": "2023-05-30T14:09:00.712Z"
   },
   {
    "duration": 1774,
    "start_time": "2023-05-30T14:09:00.775Z"
   },
   {
    "duration": 170,
    "start_time": "2023-05-30T14:09:02.552Z"
   },
   {
    "duration": 235,
    "start_time": "2023-05-30T14:09:02.724Z"
   },
   {
    "duration": 196,
    "start_time": "2023-05-30T14:09:02.962Z"
   },
   {
    "duration": 7,
    "start_time": "2023-05-30T14:09:03.161Z"
   },
   {
    "duration": 152,
    "start_time": "2023-05-30T14:09:03.171Z"
   },
   {
    "duration": 15,
    "start_time": "2023-05-30T14:09:23.073Z"
   },
   {
    "duration": 12,
    "start_time": "2023-05-30T14:10:04.984Z"
   },
   {
    "duration": 18,
    "start_time": "2023-05-30T14:10:31.574Z"
   },
   {
    "duration": 118,
    "start_time": "2023-05-30T14:13:23.264Z"
   },
   {
    "duration": 102,
    "start_time": "2023-05-30T14:13:46.773Z"
   },
   {
    "duration": 114,
    "start_time": "2023-05-30T14:14:15.958Z"
   },
   {
    "duration": 149,
    "start_time": "2023-05-30T14:15:07.493Z"
   },
   {
    "duration": 125,
    "start_time": "2023-05-30T14:15:22.475Z"
   },
   {
    "duration": 106,
    "start_time": "2023-05-30T14:15:46.574Z"
   },
   {
    "duration": 58,
    "start_time": "2023-05-30T14:30:57.778Z"
   },
   {
    "duration": 630,
    "start_time": "2023-05-30T14:31:19.184Z"
   },
   {
    "duration": 718,
    "start_time": "2023-05-30T14:31:19.816Z"
   },
   {
    "duration": 432,
    "start_time": "2023-05-30T14:31:20.536Z"
   },
   {
    "duration": 226,
    "start_time": "2023-05-30T14:31:20.971Z"
   },
   {
    "duration": 106,
    "start_time": "2023-05-30T14:31:21.199Z"
   },
   {
    "duration": 91,
    "start_time": "2023-05-30T14:31:21.307Z"
   },
   {
    "duration": 58,
    "start_time": "2023-05-30T14:31:21.400Z"
   },
   {
    "duration": 36,
    "start_time": "2023-05-30T14:31:21.460Z"
   },
   {
    "duration": 1662,
    "start_time": "2023-05-30T14:31:21.497Z"
   },
   {
    "duration": 296,
    "start_time": "2023-05-30T14:31:23.161Z"
   },
   {
    "duration": 74,
    "start_time": "2023-05-30T14:31:23.459Z"
   },
   {
    "duration": 212,
    "start_time": "2023-05-30T14:31:23.548Z"
   },
   {
    "duration": 154,
    "start_time": "2023-05-30T14:31:23.762Z"
   },
   {
    "duration": 5,
    "start_time": "2023-05-30T14:31:23.918Z"
   },
   {
    "duration": 156,
    "start_time": "2023-05-30T14:31:23.925Z"
   },
   {
    "duration": 115,
    "start_time": "2023-05-30T14:32:18.748Z"
   },
   {
    "duration": 7,
    "start_time": "2023-05-30T14:33:08.359Z"
   },
   {
    "duration": 94,
    "start_time": "2023-05-30T14:33:28.786Z"
   },
   {
    "duration": 707,
    "start_time": "2023-05-30T14:33:33.785Z"
   },
   {
    "duration": 728,
    "start_time": "2023-05-30T14:33:34.494Z"
   },
   {
    "duration": 430,
    "start_time": "2023-05-30T14:33:35.223Z"
   },
   {
    "duration": 209,
    "start_time": "2023-05-30T14:33:35.655Z"
   },
   {
    "duration": 97,
    "start_time": "2023-05-30T14:33:35.867Z"
   },
   {
    "duration": 83,
    "start_time": "2023-05-30T14:33:35.966Z"
   },
   {
    "duration": 47,
    "start_time": "2023-05-30T14:33:36.051Z"
   },
   {
    "duration": 56,
    "start_time": "2023-05-30T14:33:36.100Z"
   },
   {
    "duration": 1671,
    "start_time": "2023-05-30T14:33:36.157Z"
   },
   {
    "duration": 331,
    "start_time": "2023-05-30T14:33:37.830Z"
   },
   {
    "duration": 5,
    "start_time": "2023-05-30T14:33:38.164Z"
   },
   {
    "duration": 128,
    "start_time": "2023-05-30T14:33:38.172Z"
   },
   {
    "duration": 272,
    "start_time": "2023-05-30T14:33:38.302Z"
   },
   {
    "duration": 90,
    "start_time": "2023-05-30T14:33:38.577Z"
   },
   {
    "duration": 64,
    "start_time": "2023-05-30T14:33:58.896Z"
   },
   {
    "duration": 64,
    "start_time": "2023-05-30T14:34:16.323Z"
   },
   {
    "duration": 92,
    "start_time": "2023-05-30T14:34:38.122Z"
   },
   {
    "duration": 7490,
    "start_time": "2023-05-30T14:45:08.063Z"
   },
   {
    "duration": 110,
    "start_time": "2023-05-30T14:45:49.160Z"
   },
   {
    "duration": 120,
    "start_time": "2023-05-30T14:52:32.113Z"
   },
   {
    "duration": 119,
    "start_time": "2023-05-30T14:53:01.096Z"
   },
   {
    "duration": 178,
    "start_time": "2023-05-30T14:53:24.152Z"
   },
   {
    "duration": 703,
    "start_time": "2023-05-30T14:54:12.632Z"
   },
   {
    "duration": 719,
    "start_time": "2023-05-30T14:54:13.337Z"
   },
   {
    "duration": 440,
    "start_time": "2023-05-30T14:54:14.058Z"
   },
   {
    "duration": 222,
    "start_time": "2023-05-30T14:54:14.501Z"
   },
   {
    "duration": 83,
    "start_time": "2023-05-30T14:54:14.725Z"
   },
   {
    "duration": 92,
    "start_time": "2023-05-30T14:54:14.810Z"
   },
   {
    "duration": 57,
    "start_time": "2023-05-30T14:54:14.905Z"
   },
   {
    "duration": 37,
    "start_time": "2023-05-30T14:54:14.964Z"
   },
   {
    "duration": 1623,
    "start_time": "2023-05-30T14:54:15.003Z"
   },
   {
    "duration": 248,
    "start_time": "2023-05-30T14:54:16.628Z"
   },
   {
    "duration": 6,
    "start_time": "2023-05-30T14:54:16.877Z"
   },
   {
    "duration": 186,
    "start_time": "2023-05-30T14:54:16.884Z"
   },
   {
    "duration": 223,
    "start_time": "2023-05-30T14:54:17.072Z"
   },
   {
    "duration": 80,
    "start_time": "2023-05-30T14:54:17.297Z"
   },
   {
    "duration": 8,
    "start_time": "2023-05-30T14:55:45.874Z"
   },
   {
    "duration": 7,
    "start_time": "2023-05-30T14:55:50.590Z"
   },
   {
    "duration": 719,
    "start_time": "2023-05-30T14:56:15.112Z"
   },
   {
    "duration": 653,
    "start_time": "2023-05-30T14:56:15.833Z"
   },
   {
    "duration": 377,
    "start_time": "2023-05-30T14:56:16.487Z"
   },
   {
    "duration": 199,
    "start_time": "2023-05-30T14:56:16.866Z"
   },
   {
    "duration": 87,
    "start_time": "2023-05-30T14:56:17.066Z"
   },
   {
    "duration": 60,
    "start_time": "2023-05-30T14:56:17.154Z"
   },
   {
    "duration": 43,
    "start_time": "2023-05-30T14:56:18.160Z"
   },
   {
    "duration": 31,
    "start_time": "2023-05-30T14:56:19.576Z"
   },
   {
    "duration": 1550,
    "start_time": "2023-05-30T14:56:20.290Z"
   },
   {
    "duration": 272,
    "start_time": "2023-05-30T14:56:22.312Z"
   },
   {
    "duration": 6,
    "start_time": "2023-05-30T14:56:26.210Z"
   },
   {
    "duration": 76,
    "start_time": "2023-05-30T14:56:27.287Z"
   },
   {
    "duration": 119,
    "start_time": "2023-05-30T14:56:37.817Z"
   },
   {
    "duration": 128,
    "start_time": "2023-05-30T14:57:05.986Z"
   },
   {
    "duration": 155,
    "start_time": "2023-05-30T14:57:34.088Z"
   },
   {
    "duration": 127,
    "start_time": "2023-05-30T14:58:07.049Z"
   },
   {
    "duration": 157,
    "start_time": "2023-05-30T14:58:32.593Z"
   },
   {
    "duration": 190,
    "start_time": "2023-05-30T14:59:26.439Z"
   },
   {
    "duration": 10,
    "start_time": "2023-05-30T14:59:31.439Z"
   },
   {
    "duration": 144,
    "start_time": "2023-05-30T15:01:11.972Z"
   },
   {
    "duration": 21,
    "start_time": "2023-05-30T15:01:21.759Z"
   },
   {
    "duration": 683,
    "start_time": "2023-05-30T15:01:32.272Z"
   },
   {
    "duration": 502,
    "start_time": "2023-05-30T15:01:38.985Z"
   },
   {
    "duration": 80,
    "start_time": "2023-05-30T15:06:20.482Z"
   },
   {
    "duration": 138,
    "start_time": "2023-05-30T15:06:32.735Z"
   },
   {
    "duration": 432,
    "start_time": "2023-05-30T15:07:13.520Z"
   },
   {
    "duration": 810,
    "start_time": "2023-05-30T15:07:43.331Z"
   },
   {
    "duration": 79,
    "start_time": "2023-05-30T15:08:08.534Z"
   },
   {
    "duration": 18,
    "start_time": "2023-05-30T15:08:47.566Z"
   },
   {
    "duration": 528,
    "start_time": "2023-05-30T15:09:09.139Z"
   },
   {
    "duration": 410,
    "start_time": "2023-05-30T15:10:55.613Z"
   },
   {
    "duration": 433,
    "start_time": "2023-05-30T15:12:17.392Z"
   },
   {
    "duration": 116,
    "start_time": "2023-05-30T15:12:25.513Z"
   },
   {
    "duration": 431,
    "start_time": "2023-05-30T15:12:29.159Z"
   },
   {
    "duration": 86,
    "start_time": "2023-05-30T15:12:38.354Z"
   },
   {
    "duration": 73,
    "start_time": "2023-05-30T15:12:42.664Z"
   },
   {
    "duration": 154,
    "start_time": "2023-05-30T15:13:37.161Z"
   },
   {
    "duration": 131,
    "start_time": "2023-05-30T15:13:41.568Z"
   },
   {
    "duration": 71,
    "start_time": "2023-05-30T15:14:13.310Z"
   },
   {
    "duration": 136,
    "start_time": "2023-05-30T15:14:18.916Z"
   },
   {
    "duration": 394,
    "start_time": "2023-05-30T15:14:25.016Z"
   },
   {
    "duration": 477,
    "start_time": "2023-05-30T15:14:30.331Z"
   },
   {
    "duration": 436,
    "start_time": "2023-05-30T15:14:43.751Z"
   },
   {
    "duration": 476,
    "start_time": "2023-05-30T15:15:07.283Z"
   },
   {
    "duration": 553,
    "start_time": "2023-05-30T15:15:18.459Z"
   },
   {
    "duration": 429,
    "start_time": "2023-05-30T15:15:46.385Z"
   },
   {
    "duration": 426,
    "start_time": "2023-05-30T15:15:52.207Z"
   },
   {
    "duration": 394,
    "start_time": "2023-05-30T15:16:38.093Z"
   },
   {
    "duration": 506,
    "start_time": "2023-05-30T15:16:49.646Z"
   },
   {
    "duration": 818,
    "start_time": "2023-05-30T15:17:15.956Z"
   },
   {
    "duration": 302,
    "start_time": "2023-05-30T15:17:28.934Z"
   },
   {
    "duration": 338,
    "start_time": "2023-05-30T15:17:37.885Z"
   },
   {
    "duration": 320,
    "start_time": "2023-05-30T15:17:54.978Z"
   },
   {
    "duration": 411,
    "start_time": "2023-05-30T15:18:25.467Z"
   },
   {
    "duration": 337,
    "start_time": "2023-05-30T15:18:39.795Z"
   },
   {
    "duration": 736,
    "start_time": "2023-05-30T15:18:52.245Z"
   },
   {
    "duration": 537,
    "start_time": "2023-05-30T15:19:23.926Z"
   },
   {
    "duration": 389,
    "start_time": "2023-05-30T15:19:35.806Z"
   },
   {
    "duration": 358,
    "start_time": "2023-05-30T15:19:48.998Z"
   },
   {
    "duration": 341,
    "start_time": "2023-05-30T15:20:01.543Z"
   },
   {
    "duration": 350,
    "start_time": "2023-05-30T15:20:09.267Z"
   },
   {
    "duration": 9,
    "start_time": "2023-05-30T15:21:24.550Z"
   },
   {
    "duration": 22,
    "start_time": "2023-05-30T15:21:33.113Z"
   },
   {
    "duration": 27,
    "start_time": "2023-05-30T15:22:22.132Z"
   },
   {
    "duration": 17,
    "start_time": "2023-05-30T15:29:30.921Z"
   },
   {
    "duration": 13,
    "start_time": "2023-05-30T15:45:54.304Z"
   },
   {
    "duration": 63,
    "start_time": "2023-05-30T15:46:27.171Z"
   },
   {
    "duration": 801,
    "start_time": "2023-05-30T15:46:31.731Z"
   },
   {
    "duration": 782,
    "start_time": "2023-05-30T15:46:32.534Z"
   },
   {
    "duration": 437,
    "start_time": "2023-05-30T15:46:33.318Z"
   },
   {
    "duration": 220,
    "start_time": "2023-05-30T15:46:33.881Z"
   },
   {
    "duration": 87,
    "start_time": "2023-05-30T15:46:36.902Z"
   },
   {
    "duration": 70,
    "start_time": "2023-05-30T15:46:41.251Z"
   },
   {
    "duration": 4,
    "start_time": "2023-05-30T15:46:56.613Z"
   },
   {
    "duration": 43,
    "start_time": "2023-05-30T15:47:00.316Z"
   },
   {
    "duration": 46,
    "start_time": "2023-05-30T15:47:15.110Z"
   },
   {
    "duration": 52,
    "start_time": "2023-05-30T15:47:24.850Z"
   },
   {
    "duration": 41,
    "start_time": "2023-05-30T15:47:36.734Z"
   },
   {
    "duration": 1645,
    "start_time": "2023-05-30T15:47:44.380Z"
   },
   {
    "duration": 12,
    "start_time": "2023-05-30T15:47:48.473Z"
   },
   {
    "duration": 6,
    "start_time": "2023-05-30T15:50:19.798Z"
   },
   {
    "duration": 15,
    "start_time": "2023-05-30T15:50:59.801Z"
   },
   {
    "duration": 52,
    "start_time": "2023-05-30T15:52:21.085Z"
   },
   {
    "duration": 58,
    "start_time": "2023-05-30T15:53:22.067Z"
   },
   {
    "duration": 35,
    "start_time": "2023-05-30T15:53:26.247Z"
   },
   {
    "duration": 18,
    "start_time": "2023-05-30T15:54:45.837Z"
   },
   {
    "duration": 28,
    "start_time": "2023-05-30T15:56:21.078Z"
   },
   {
    "duration": 1100,
    "start_time": "2023-05-30T15:58:34.299Z"
   },
   {
    "duration": 601,
    "start_time": "2023-05-30T15:58:50.747Z"
   },
   {
    "duration": 836,
    "start_time": "2023-05-30T15:59:01.906Z"
   },
   {
    "duration": 25,
    "start_time": "2023-05-30T15:59:24.823Z"
   },
   {
    "duration": 202,
    "start_time": "2023-05-30T16:01:46.986Z"
   },
   {
    "duration": 476,
    "start_time": "2023-05-30T16:02:27.806Z"
   },
   {
    "duration": 654,
    "start_time": "2023-05-30T16:05:24.515Z"
   },
   {
    "duration": 197,
    "start_time": "2023-05-30T16:05:54.279Z"
   },
   {
    "duration": 77,
    "start_time": "2023-05-30T16:06:19.837Z"
   },
   {
    "duration": 1702,
    "start_time": "2023-05-30T16:06:23.435Z"
   },
   {
    "duration": 82,
    "start_time": "2023-05-30T16:06:51.736Z"
   },
   {
    "duration": 94,
    "start_time": "2023-05-30T16:07:04.395Z"
   },
   {
    "duration": 152,
    "start_time": "2023-05-30T16:07:09.325Z"
   },
   {
    "duration": 144,
    "start_time": "2023-05-30T16:07:47.273Z"
   },
   {
    "duration": 140,
    "start_time": "2023-05-30T16:07:51.363Z"
   },
   {
    "duration": 162,
    "start_time": "2023-05-30T16:08:15.052Z"
   },
   {
    "duration": 168,
    "start_time": "2023-05-30T16:08:58.435Z"
   },
   {
    "duration": 173,
    "start_time": "2023-05-30T16:09:09.914Z"
   },
   {
    "duration": 209,
    "start_time": "2023-05-30T16:10:42.525Z"
   },
   {
    "duration": 203,
    "start_time": "2023-05-30T16:10:46.667Z"
   },
   {
    "duration": 234,
    "start_time": "2023-05-30T16:11:20.019Z"
   },
   {
    "duration": 226,
    "start_time": "2023-05-30T16:11:47.921Z"
   },
   {
    "duration": 226,
    "start_time": "2023-05-30T16:12:45.350Z"
   },
   {
    "duration": 314,
    "start_time": "2023-05-30T16:13:21.566Z"
   },
   {
    "duration": 389,
    "start_time": "2023-05-30T16:14:02.200Z"
   },
   {
    "duration": 378,
    "start_time": "2023-05-30T16:14:48.501Z"
   },
   {
    "duration": 156,
    "start_time": "2023-05-30T16:22:23.828Z"
   },
   {
    "duration": 356,
    "start_time": "2023-05-30T16:22:34.104Z"
   },
   {
    "duration": 378,
    "start_time": "2023-05-30T16:22:59.280Z"
   },
   {
    "duration": 231,
    "start_time": "2023-05-30T16:23:12.587Z"
   },
   {
    "duration": 286,
    "start_time": "2023-05-30T16:31:22.210Z"
   },
   {
    "duration": 13,
    "start_time": "2023-05-30T17:08:26.716Z"
   },
   {
    "duration": 12,
    "start_time": "2023-05-30T17:08:37.454Z"
   },
   {
    "duration": 12,
    "start_time": "2023-05-30T17:08:53.666Z"
   },
   {
    "duration": 12,
    "start_time": "2023-05-30T17:09:17.662Z"
   },
   {
    "duration": 13,
    "start_time": "2023-05-30T17:09:45.395Z"
   },
   {
    "duration": 12,
    "start_time": "2023-05-30T17:09:53.714Z"
   },
   {
    "duration": 12,
    "start_time": "2023-05-30T17:09:59.058Z"
   },
   {
    "duration": 12,
    "start_time": "2023-05-30T17:10:11.984Z"
   },
   {
    "duration": 11,
    "start_time": "2023-05-30T17:10:15.491Z"
   },
   {
    "duration": 12,
    "start_time": "2023-05-30T17:10:19.136Z"
   },
   {
    "duration": 12,
    "start_time": "2023-05-30T17:10:23.396Z"
   },
   {
    "duration": 14,
    "start_time": "2023-05-30T17:10:30.421Z"
   },
   {
    "duration": 13,
    "start_time": "2023-05-30T17:10:36.273Z"
   },
   {
    "duration": 12,
    "start_time": "2023-05-30T17:10:41.862Z"
   },
   {
    "duration": 8,
    "start_time": "2023-05-30T17:48:00.484Z"
   },
   {
    "duration": 112,
    "start_time": "2023-05-30T17:48:03.209Z"
   },
   {
    "duration": 11,
    "start_time": "2023-05-30T17:48:03.588Z"
   },
   {
    "duration": 12,
    "start_time": "2023-05-30T17:49:24.828Z"
   },
   {
    "duration": 14,
    "start_time": "2023-05-30T17:49:37.422Z"
   },
   {
    "duration": 234,
    "start_time": "2023-05-30T17:56:23.253Z"
   },
   {
    "duration": 288,
    "start_time": "2023-05-30T17:56:40.060Z"
   },
   {
    "duration": 752,
    "start_time": "2023-05-30T18:06:20.619Z"
   },
   {
    "duration": 838,
    "start_time": "2023-05-30T18:06:21.374Z"
   },
   {
    "duration": 529,
    "start_time": "2023-05-30T18:06:22.214Z"
   },
   {
    "duration": 240,
    "start_time": "2023-05-30T18:06:22.746Z"
   },
   {
    "duration": 120,
    "start_time": "2023-05-30T18:06:22.989Z"
   },
   {
    "duration": 91,
    "start_time": "2023-05-30T18:06:23.110Z"
   },
   {
    "duration": 75,
    "start_time": "2023-05-30T18:06:23.203Z"
   },
   {
    "duration": 37,
    "start_time": "2023-05-30T18:06:23.280Z"
   },
   {
    "duration": 2099,
    "start_time": "2023-05-30T18:06:23.341Z"
   },
   {
    "duration": 9,
    "start_time": "2023-05-30T18:06:25.445Z"
   },
   {
    "duration": 134,
    "start_time": "2023-05-30T18:06:25.457Z"
   },
   {
    "duration": 187,
    "start_time": "2023-05-30T18:06:25.593Z"
   },
   {
    "duration": 15,
    "start_time": "2023-05-30T18:06:25.782Z"
   },
   {
    "duration": 413,
    "start_time": "2023-05-30T18:06:25.801Z"
   },
   {
    "duration": 184,
    "start_time": "2023-05-30T18:06:26.216Z"
   },
   {
    "duration": 422,
    "start_time": "2023-05-30T18:06:26.402Z"
   },
   {
    "duration": 109,
    "start_time": "2023-05-30T18:06:26.826Z"
   },
   {
    "duration": 0,
    "start_time": "2023-05-30T18:06:26.937Z"
   },
   {
    "duration": 0,
    "start_time": "2023-05-30T18:06:26.938Z"
   },
   {
    "duration": 0,
    "start_time": "2023-05-30T18:06:26.940Z"
   },
   {
    "duration": 334,
    "start_time": "2023-05-30T18:07:38.456Z"
   },
   {
    "duration": 99,
    "start_time": "2023-05-30T18:11:44.030Z"
   },
   {
    "duration": 132,
    "start_time": "2023-05-30T18:11:52.066Z"
   },
   {
    "duration": 420,
    "start_time": "2023-05-30T18:11:56.064Z"
   },
   {
    "duration": 13,
    "start_time": "2023-05-30T18:12:34.492Z"
   },
   {
    "duration": 688,
    "start_time": "2023-05-30T18:13:06.908Z"
   },
   {
    "duration": 811,
    "start_time": "2023-05-30T18:13:07.599Z"
   },
   {
    "duration": 488,
    "start_time": "2023-05-30T18:13:08.412Z"
   },
   {
    "duration": 237,
    "start_time": "2023-05-30T18:13:08.902Z"
   },
   {
    "duration": 116,
    "start_time": "2023-05-30T18:13:09.144Z"
   },
   {
    "duration": 73,
    "start_time": "2023-05-30T18:13:09.585Z"
   },
   {
    "duration": 60,
    "start_time": "2023-05-30T18:13:10.682Z"
   },
   {
    "duration": 36,
    "start_time": "2023-05-30T18:13:12.967Z"
   },
   {
    "duration": 1775,
    "start_time": "2023-05-30T18:13:13.142Z"
   },
   {
    "duration": 6,
    "start_time": "2023-05-30T18:13:15.001Z"
   },
   {
    "duration": 38,
    "start_time": "2023-05-30T18:13:17.217Z"
   },
   {
    "duration": 158,
    "start_time": "2023-05-30T18:15:25.139Z"
   },
   {
    "duration": 90,
    "start_time": "2023-05-30T18:15:46.283Z"
   },
   {
    "duration": 96,
    "start_time": "2023-05-30T18:16:24.869Z"
   },
   {
    "duration": 228,
    "start_time": "2023-05-30T18:16:58.390Z"
   },
   {
    "duration": 216,
    "start_time": "2023-05-30T18:17:12.925Z"
   },
   {
    "duration": 194,
    "start_time": "2023-05-30T18:17:24.383Z"
   },
   {
    "duration": 202,
    "start_time": "2023-05-30T18:17:32.633Z"
   },
   {
    "duration": 112,
    "start_time": "2023-05-30T18:17:50.503Z"
   },
   {
    "duration": 21,
    "start_time": "2023-05-30T18:17:53.740Z"
   },
   {
    "duration": 712,
    "start_time": "2023-05-30T18:18:13.033Z"
   },
   {
    "duration": 719,
    "start_time": "2023-05-30T18:18:13.751Z"
   },
   {
    "duration": 420,
    "start_time": "2023-05-30T18:18:14.471Z"
   },
   {
    "duration": 225,
    "start_time": "2023-05-30T18:18:14.893Z"
   },
   {
    "duration": 90,
    "start_time": "2023-05-30T18:18:15.120Z"
   },
   {
    "duration": 87,
    "start_time": "2023-05-30T18:18:15.213Z"
   },
   {
    "duration": 55,
    "start_time": "2023-05-30T18:18:15.952Z"
   },
   {
    "duration": 31,
    "start_time": "2023-05-30T18:18:17.957Z"
   },
   {
    "duration": 1578,
    "start_time": "2023-05-30T18:18:18.625Z"
   },
   {
    "duration": 8,
    "start_time": "2023-05-30T18:18:23.828Z"
   },
   {
    "duration": 21,
    "start_time": "2023-05-30T18:18:24.260Z"
   },
   {
    "duration": 102,
    "start_time": "2023-05-30T18:18:26.468Z"
   },
   {
    "duration": 474,
    "start_time": "2023-05-30T18:18:27.482Z"
   },
   {
    "duration": 109,
    "start_time": "2023-05-30T18:18:49.572Z"
   },
   {
    "duration": 35,
    "start_time": "2023-05-30T18:18:50.124Z"
   },
   {
    "duration": 103,
    "start_time": "2023-05-30T18:21:09.020Z"
   },
   {
    "duration": 377,
    "start_time": "2023-05-30T18:22:02.254Z"
   },
   {
    "duration": 368,
    "start_time": "2023-05-30T18:22:43.890Z"
   },
   {
    "duration": 371,
    "start_time": "2023-05-30T18:23:02.238Z"
   },
   {
    "duration": 356,
    "start_time": "2023-05-30T18:23:10.366Z"
   },
   {
    "duration": 397,
    "start_time": "2023-05-30T18:24:33.564Z"
   },
   {
    "duration": 385,
    "start_time": "2023-05-30T18:30:01.174Z"
   },
   {
    "duration": 86,
    "start_time": "2023-05-30T18:31:32.406Z"
   },
   {
    "duration": 99,
    "start_time": "2023-05-30T18:32:30.423Z"
   },
   {
    "duration": 144,
    "start_time": "2023-05-30T18:32:35.493Z"
   },
   {
    "duration": 95,
    "start_time": "2023-05-30T18:32:55.741Z"
   },
   {
    "duration": 96,
    "start_time": "2023-05-30T18:33:22.893Z"
   },
   {
    "duration": 215,
    "start_time": "2023-05-30T18:38:01.841Z"
   },
   {
    "duration": 775,
    "start_time": "2023-05-30T18:38:40.112Z"
   },
   {
    "duration": 699,
    "start_time": "2023-05-30T18:38:40.889Z"
   },
   {
    "duration": 406,
    "start_time": "2023-05-30T18:38:41.590Z"
   },
   {
    "duration": 237,
    "start_time": "2023-05-30T18:38:41.998Z"
   },
   {
    "duration": 99,
    "start_time": "2023-05-30T18:38:42.237Z"
   },
   {
    "duration": 60,
    "start_time": "2023-05-30T18:38:43.293Z"
   },
   {
    "duration": 54,
    "start_time": "2023-05-30T18:38:46.553Z"
   },
   {
    "duration": 37,
    "start_time": "2023-05-30T18:38:48.065Z"
   },
   {
    "duration": 1563,
    "start_time": "2023-05-30T18:38:49.410Z"
   },
   {
    "duration": 5,
    "start_time": "2023-05-30T18:38:51.561Z"
   },
   {
    "duration": 22,
    "start_time": "2023-05-30T18:38:57.575Z"
   },
   {
    "duration": 97,
    "start_time": "2023-05-30T18:39:01.463Z"
   },
   {
    "duration": 16,
    "start_time": "2023-05-30T18:39:03.316Z"
   },
   {
    "duration": 349,
    "start_time": "2023-05-30T18:39:05.996Z"
   },
   {
    "duration": 187,
    "start_time": "2023-05-30T18:39:09.656Z"
   },
   {
    "duration": 124,
    "start_time": "2023-05-30T18:40:13.524Z"
   },
   {
    "duration": 224,
    "start_time": "2023-05-30T18:40:23.169Z"
   },
   {
    "duration": 143,
    "start_time": "2023-05-30T18:41:53.418Z"
   },
   {
    "duration": 143,
    "start_time": "2023-05-30T18:42:10.295Z"
   },
   {
    "duration": 137,
    "start_time": "2023-05-30T18:42:54.733Z"
   },
   {
    "duration": 232,
    "start_time": "2023-05-30T18:43:48.510Z"
   },
   {
    "duration": 217,
    "start_time": "2023-05-30T18:44:23.634Z"
   },
   {
    "duration": 219,
    "start_time": "2023-05-30T18:44:31.133Z"
   },
   {
    "duration": 164,
    "start_time": "2023-05-30T18:45:59.070Z"
   },
   {
    "duration": 24,
    "start_time": "2023-05-30T18:46:14.518Z"
   },
   {
    "duration": 643,
    "start_time": "2023-05-30T18:46:46.231Z"
   },
   {
    "duration": 620,
    "start_time": "2023-05-30T18:46:46.876Z"
   },
   {
    "duration": 361,
    "start_time": "2023-05-30T18:46:47.498Z"
   },
   {
    "duration": 191,
    "start_time": "2023-05-30T18:46:47.862Z"
   },
   {
    "duration": 95,
    "start_time": "2023-05-30T18:46:48.055Z"
   },
   {
    "duration": 59,
    "start_time": "2023-05-30T18:46:48.153Z"
   },
   {
    "duration": 50,
    "start_time": "2023-05-30T18:46:48.600Z"
   },
   {
    "duration": 41,
    "start_time": "2023-05-30T18:46:49.598Z"
   },
   {
    "duration": 1515,
    "start_time": "2023-05-30T18:46:50.092Z"
   },
   {
    "duration": 5,
    "start_time": "2023-05-30T18:46:51.610Z"
   },
   {
    "duration": 21,
    "start_time": "2023-05-30T18:46:53.498Z"
   },
   {
    "duration": 92,
    "start_time": "2023-05-30T18:46:54.565Z"
   },
   {
    "duration": 12,
    "start_time": "2023-05-30T18:46:55.230Z"
   },
   {
    "duration": 356,
    "start_time": "2023-05-30T18:46:56.261Z"
   },
   {
    "duration": 173,
    "start_time": "2023-05-30T18:46:59.827Z"
   },
   {
    "duration": 222,
    "start_time": "2023-05-30T18:47:00.871Z"
   },
   {
    "duration": 115,
    "start_time": "2023-05-30T18:47:05.660Z"
   },
   {
    "duration": 338,
    "start_time": "2023-05-30T18:47:13.278Z"
   },
   {
    "duration": 435,
    "start_time": "2023-05-30T18:53:30.517Z"
   },
   {
    "duration": 368,
    "start_time": "2023-05-30T18:54:16.593Z"
   },
   {
    "duration": 126,
    "start_time": "2023-05-30T18:56:09.707Z"
   },
   {
    "duration": 386,
    "start_time": "2023-05-30T18:56:10.777Z"
   },
   {
    "duration": 781,
    "start_time": "2023-05-30T22:03:11.701Z"
   },
   {
    "duration": 966,
    "start_time": "2023-05-30T22:03:12.485Z"
   },
   {
    "duration": 377,
    "start_time": "2023-05-30T22:03:15.488Z"
   },
   {
    "duration": 186,
    "start_time": "2023-05-30T22:03:16.875Z"
   },
   {
    "duration": 87,
    "start_time": "2023-05-30T22:03:18.417Z"
   },
   {
    "duration": 60,
    "start_time": "2023-05-30T22:03:20.601Z"
   },
   {
    "duration": 52,
    "start_time": "2023-05-30T22:03:22.129Z"
   },
   {
    "duration": 35,
    "start_time": "2023-05-30T22:03:24.281Z"
   },
   {
    "duration": 1667,
    "start_time": "2023-05-30T22:03:24.856Z"
   },
   {
    "duration": 5,
    "start_time": "2023-05-30T22:03:26.525Z"
   },
   {
    "duration": 22,
    "start_time": "2023-05-30T22:03:26.871Z"
   },
   {
    "duration": 92,
    "start_time": "2023-05-30T22:03:27.641Z"
   },
   {
    "duration": 12,
    "start_time": "2023-05-30T22:03:28.324Z"
   },
   {
    "duration": 353,
    "start_time": "2023-05-30T22:03:33.214Z"
   },
   {
    "duration": 163,
    "start_time": "2023-05-30T22:03:36.447Z"
   },
   {
    "duration": 259,
    "start_time": "2023-05-30T22:03:37.620Z"
   },
   {
    "duration": 118,
    "start_time": "2023-05-30T22:03:42.749Z"
   },
   {
    "duration": 393,
    "start_time": "2023-05-30T22:03:43.841Z"
   },
   {
    "duration": 75,
    "start_time": "2023-05-30T22:03:51.257Z"
   },
   {
    "duration": 227,
    "start_time": "2023-05-30T22:03:56.448Z"
   },
   {
    "duration": 16,
    "start_time": "2023-05-30T22:03:57.461Z"
   },
   {
    "duration": 79,
    "start_time": "2023-05-30T22:04:00.590Z"
   },
   {
    "duration": 482,
    "start_time": "2023-05-30T22:17:52.033Z"
   },
   {
    "duration": 922,
    "start_time": "2023-05-31T10:19:43.444Z"
   },
   {
    "duration": 1415,
    "start_time": "2023-05-31T10:19:44.368Z"
   },
   {
    "duration": 412,
    "start_time": "2023-05-31T10:19:45.785Z"
   },
   {
    "duration": 234,
    "start_time": "2023-05-31T10:19:46.199Z"
   },
   {
    "duration": 107,
    "start_time": "2023-05-31T10:19:47.505Z"
   },
   {
    "duration": 72,
    "start_time": "2023-05-31T10:19:51.596Z"
   },
   {
    "duration": 62,
    "start_time": "2023-05-31T10:19:55.794Z"
   },
   {
    "duration": 34,
    "start_time": "2023-05-31T10:19:58.576Z"
   },
   {
    "duration": 1593,
    "start_time": "2023-05-31T10:20:00.551Z"
   },
   {
    "duration": 8,
    "start_time": "2023-05-31T10:20:02.146Z"
   },
   {
    "duration": 31,
    "start_time": "2023-05-31T10:20:04.145Z"
   },
   {
    "duration": 110,
    "start_time": "2023-05-31T10:20:05.949Z"
   },
   {
    "duration": 17,
    "start_time": "2023-05-31T10:20:06.354Z"
   },
   {
    "duration": 474,
    "start_time": "2023-05-31T10:20:08.905Z"
   },
   {
    "duration": 218,
    "start_time": "2023-05-31T10:21:00.052Z"
   },
   {
    "duration": 317,
    "start_time": "2023-05-31T10:21:01.980Z"
   },
   {
    "duration": 135,
    "start_time": "2023-05-31T10:22:25.757Z"
   },
   {
    "duration": 432,
    "start_time": "2023-05-31T10:22:35.582Z"
   },
   {
    "duration": 6,
    "start_time": "2023-05-31T10:24:00.945Z"
   },
   {
    "duration": 588,
    "start_time": "2023-05-31T10:24:01.788Z"
   },
   {
    "duration": 136,
    "start_time": "2023-05-31T10:24:13.452Z"
   },
   {
    "duration": 351,
    "start_time": "2023-05-31T10:24:15.495Z"
   },
   {
    "duration": 201,
    "start_time": "2023-05-31T10:25:50.378Z"
   },
   {
    "duration": 629,
    "start_time": "2023-05-31T10:26:01.213Z"
   },
   {
    "duration": 684,
    "start_time": "2023-05-31T10:26:15.643Z"
   },
   {
    "duration": 722,
    "start_time": "2023-05-31T10:26:16.347Z"
   },
   {
    "duration": 401,
    "start_time": "2023-05-31T10:26:17.071Z"
   },
   {
    "duration": 236,
    "start_time": "2023-05-31T10:26:17.474Z"
   },
   {
    "duration": 89,
    "start_time": "2023-05-31T10:26:17.713Z"
   },
   {
    "duration": 103,
    "start_time": "2023-05-31T10:26:17.803Z"
   },
   {
    "duration": 74,
    "start_time": "2023-05-31T10:26:17.908Z"
   },
   {
    "duration": 59,
    "start_time": "2023-05-31T10:26:17.984Z"
   },
   {
    "duration": 1532,
    "start_time": "2023-05-31T10:26:18.053Z"
   },
   {
    "duration": 5,
    "start_time": "2023-05-31T10:26:19.587Z"
   },
   {
    "duration": 49,
    "start_time": "2023-05-31T10:26:19.593Z"
   },
   {
    "duration": 130,
    "start_time": "2023-05-31T10:26:19.643Z"
   },
   {
    "duration": 12,
    "start_time": "2023-05-31T10:26:19.775Z"
   },
   {
    "duration": 469,
    "start_time": "2023-05-31T10:26:19.789Z"
   },
   {
    "duration": 212,
    "start_time": "2023-05-31T10:26:20.260Z"
   },
   {
    "duration": 281,
    "start_time": "2023-05-31T10:26:20.474Z"
   },
   {
    "duration": 267,
    "start_time": "2023-05-31T10:26:20.757Z"
   },
   {
    "duration": 0,
    "start_time": "2023-05-31T10:26:21.027Z"
   },
   {
    "duration": 0,
    "start_time": "2023-05-31T10:26:21.028Z"
   },
   {
    "duration": 0,
    "start_time": "2023-05-31T10:26:21.029Z"
   },
   {
    "duration": 0,
    "start_time": "2023-05-31T10:26:21.030Z"
   },
   {
    "duration": 163,
    "start_time": "2023-05-31T10:26:36.466Z"
   },
   {
    "duration": 2187,
    "start_time": "2023-05-31T10:27:02.056Z"
   },
   {
    "duration": 189,
    "start_time": "2023-05-31T10:27:32.761Z"
   },
   {
    "duration": 15,
    "start_time": "2023-05-31T10:30:00.148Z"
   },
   {
    "duration": 24,
    "start_time": "2023-05-31T10:30:12.942Z"
   },
   {
    "duration": 135,
    "start_time": "2023-05-31T10:30:34.577Z"
   },
   {
    "duration": 3224,
    "start_time": "2023-05-31T10:30:44.172Z"
   },
   {
    "duration": 425,
    "start_time": "2023-05-31T10:31:01.357Z"
   },
   {
    "duration": 458,
    "start_time": "2023-05-31T10:31:25.147Z"
   },
   {
    "duration": 824,
    "start_time": "2023-05-31T10:43:23.382Z"
   },
   {
    "duration": 792,
    "start_time": "2023-05-31T10:43:24.208Z"
   },
   {
    "duration": 545,
    "start_time": "2023-05-31T10:43:25.002Z"
   },
   {
    "duration": 233,
    "start_time": "2023-05-31T10:43:25.550Z"
   },
   {
    "duration": 113,
    "start_time": "2023-05-31T10:43:25.784Z"
   },
   {
    "duration": 98,
    "start_time": "2023-05-31T10:43:25.899Z"
   },
   {
    "duration": 69,
    "start_time": "2023-05-31T10:43:25.998Z"
   },
   {
    "duration": 36,
    "start_time": "2023-05-31T10:43:26.070Z"
   },
   {
    "duration": 1466,
    "start_time": "2023-05-31T10:43:26.108Z"
   },
   {
    "duration": 226,
    "start_time": "2023-05-31T10:43:27.578Z"
   },
   {
    "duration": 0,
    "start_time": "2023-05-31T10:43:27.806Z"
   },
   {
    "duration": 0,
    "start_time": "2023-05-31T10:43:27.807Z"
   },
   {
    "duration": 0,
    "start_time": "2023-05-31T10:43:27.827Z"
   },
   {
    "duration": 1,
    "start_time": "2023-05-31T10:43:27.835Z"
   },
   {
    "duration": 0,
    "start_time": "2023-05-31T10:43:27.836Z"
   },
   {
    "duration": 0,
    "start_time": "2023-05-31T10:43:27.837Z"
   },
   {
    "duration": 0,
    "start_time": "2023-05-31T10:43:27.837Z"
   },
   {
    "duration": 0,
    "start_time": "2023-05-31T10:43:27.838Z"
   },
   {
    "duration": 32,
    "start_time": "2023-05-31T10:44:05.688Z"
   },
   {
    "duration": 199,
    "start_time": "2023-05-31T10:44:07.254Z"
   },
   {
    "duration": 108,
    "start_time": "2023-05-31T10:44:28.563Z"
   },
   {
    "duration": 232,
    "start_time": "2023-05-31T10:44:29.373Z"
   },
   {
    "duration": 528,
    "start_time": "2023-05-31T10:44:30.566Z"
   },
   {
    "duration": 459,
    "start_time": "2023-05-31T10:44:59.392Z"
   },
   {
    "duration": 729,
    "start_time": "2023-05-31T10:45:45.294Z"
   },
   {
    "duration": 441,
    "start_time": "2023-05-31T10:47:31.621Z"
   },
   {
    "duration": 37,
    "start_time": "2023-05-31T10:47:42.446Z"
   },
   {
    "duration": 164,
    "start_time": "2023-05-31T10:48:46.040Z"
   },
   {
    "duration": 2108,
    "start_time": "2023-05-31T10:48:54.047Z"
   },
   {
    "duration": 809,
    "start_time": "2023-05-31T10:50:05.461Z"
   },
   {
    "duration": 712,
    "start_time": "2023-05-31T10:50:06.272Z"
   },
   {
    "duration": 587,
    "start_time": "2023-05-31T10:50:06.986Z"
   },
   {
    "duration": 328,
    "start_time": "2023-05-31T10:50:07.576Z"
   },
   {
    "duration": 173,
    "start_time": "2023-05-31T10:50:07.906Z"
   },
   {
    "duration": 86,
    "start_time": "2023-05-31T10:50:08.081Z"
   },
   {
    "duration": 86,
    "start_time": "2023-05-31T10:50:08.169Z"
   },
   {
    "duration": 44,
    "start_time": "2023-05-31T10:50:08.264Z"
   },
   {
    "duration": 1945,
    "start_time": "2023-05-31T10:50:08.311Z"
   },
   {
    "duration": 854,
    "start_time": "2023-05-31T10:50:10.262Z"
   },
   {
    "duration": 311,
    "start_time": "2023-05-31T10:50:11.124Z"
   },
   {
    "duration": 21,
    "start_time": "2023-05-31T10:50:11.437Z"
   },
   {
    "duration": 102,
    "start_time": "2023-05-31T10:50:11.459Z"
   },
   {
    "duration": 161,
    "start_time": "2023-05-31T10:50:11.562Z"
   },
   {
    "duration": 570,
    "start_time": "2023-05-31T10:50:11.734Z"
   },
   {
    "duration": 37,
    "start_time": "2023-05-31T10:50:12.306Z"
   },
   {
    "duration": 244,
    "start_time": "2023-05-31T10:50:12.345Z"
   },
   {
    "duration": 6,
    "start_time": "2023-05-31T10:50:12.591Z"
   },
   {
    "duration": 387,
    "start_time": "2023-05-31T10:58:12.956Z"
   },
   {
    "duration": 610,
    "start_time": "2023-05-31T10:58:26.167Z"
   },
   {
    "duration": 497,
    "start_time": "2023-05-31T10:58:36.612Z"
   },
   {
    "duration": 614,
    "start_time": "2023-05-31T10:58:44.545Z"
   },
   {
    "duration": 517,
    "start_time": "2023-05-31T10:58:51.391Z"
   },
   {
    "duration": 470,
    "start_time": "2023-05-31T10:59:07.389Z"
   },
   {
    "duration": 200,
    "start_time": "2023-05-31T11:03:20.053Z"
   },
   {
    "duration": 256,
    "start_time": "2023-05-31T11:03:49.542Z"
   },
   {
    "duration": 272,
    "start_time": "2023-05-31T11:04:07.513Z"
   },
   {
    "duration": 183,
    "start_time": "2023-05-31T11:04:23.155Z"
   },
   {
    "duration": 2046,
    "start_time": "2023-05-31T11:07:15.183Z"
   },
   {
    "duration": 509,
    "start_time": "2023-05-31T11:07:33.247Z"
   },
   {
    "duration": 435,
    "start_time": "2023-05-31T11:07:50.414Z"
   },
   {
    "duration": 498,
    "start_time": "2023-05-31T11:08:03.714Z"
   },
   {
    "duration": 520,
    "start_time": "2023-05-31T11:08:14.781Z"
   },
   {
    "duration": 586,
    "start_time": "2023-05-31T11:08:27.883Z"
   },
   {
    "duration": 628,
    "start_time": "2023-05-31T11:09:21.049Z"
   },
   {
    "duration": 16,
    "start_time": "2023-05-31T11:11:57.371Z"
   },
   {
    "duration": 11,
    "start_time": "2023-05-31T11:12:09.068Z"
   },
   {
    "duration": 21,
    "start_time": "2023-05-31T11:12:15.710Z"
   },
   {
    "duration": 544,
    "start_time": "2023-05-31T11:12:44.841Z"
   },
   {
    "duration": 538,
    "start_time": "2023-05-31T11:12:59.614Z"
   },
   {
    "duration": 567,
    "start_time": "2023-05-31T11:13:28.694Z"
   },
   {
    "duration": 497,
    "start_time": "2023-05-31T11:13:38.514Z"
   },
   {
    "duration": 502,
    "start_time": "2023-05-31T11:13:51.375Z"
   },
   {
    "duration": 640,
    "start_time": "2023-05-31T11:14:31.638Z"
   },
   {
    "duration": 642,
    "start_time": "2023-05-31T11:14:32.280Z"
   },
   {
    "duration": 369,
    "start_time": "2023-05-31T11:14:32.923Z"
   },
   {
    "duration": 211,
    "start_time": "2023-05-31T11:14:33.294Z"
   },
   {
    "duration": 84,
    "start_time": "2023-05-31T11:14:33.506Z"
   },
   {
    "duration": 71,
    "start_time": "2023-05-31T11:14:33.591Z"
   },
   {
    "duration": 67,
    "start_time": "2023-05-31T11:14:33.664Z"
   },
   {
    "duration": 34,
    "start_time": "2023-05-31T11:14:33.733Z"
   },
   {
    "duration": 1419,
    "start_time": "2023-05-31T11:14:33.768Z"
   },
   {
    "duration": 40,
    "start_time": "2023-05-31T11:14:35.190Z"
   },
   {
    "duration": 110,
    "start_time": "2023-05-31T11:14:35.231Z"
   },
   {
    "duration": 13,
    "start_time": "2023-05-31T11:14:35.343Z"
   },
   {
    "duration": 612,
    "start_time": "2023-05-31T11:14:35.358Z"
   },
   {
    "duration": 323,
    "start_time": "2023-05-31T11:14:35.972Z"
   },
   {
    "duration": 198,
    "start_time": "2023-05-31T11:14:36.297Z"
   },
   {
    "duration": 416,
    "start_time": "2023-05-31T11:14:36.496Z"
   },
   {
    "duration": 171,
    "start_time": "2023-05-31T11:14:36.913Z"
   },
   {
    "duration": 621,
    "start_time": "2023-05-31T11:14:37.086Z"
   },
   {
    "duration": 9,
    "start_time": "2023-05-31T11:14:37.708Z"
   },
   {
    "duration": 114,
    "start_time": "2023-05-31T11:19:11.544Z"
   },
   {
    "duration": 15,
    "start_time": "2023-05-31T11:19:27.154Z"
   },
   {
    "duration": 945,
    "start_time": "2023-05-31T12:36:28.611Z"
   },
   {
    "duration": 3050,
    "start_time": "2023-05-31T12:36:29.558Z"
   },
   {
    "duration": 397,
    "start_time": "2023-05-31T12:36:32.610Z"
   },
   {
    "duration": 207,
    "start_time": "2023-05-31T12:36:33.010Z"
   },
   {
    "duration": 94,
    "start_time": "2023-05-31T12:36:33.219Z"
   },
   {
    "duration": 61,
    "start_time": "2023-05-31T12:36:33.330Z"
   },
   {
    "duration": 72,
    "start_time": "2023-05-31T12:36:33.392Z"
   },
   {
    "duration": 34,
    "start_time": "2023-05-31T12:36:33.466Z"
   },
   {
    "duration": 1753,
    "start_time": "2023-05-31T12:36:33.502Z"
   },
   {
    "duration": 21,
    "start_time": "2023-05-31T12:36:35.257Z"
   },
   {
    "duration": 113,
    "start_time": "2023-05-31T12:36:35.279Z"
   },
   {
    "duration": 12,
    "start_time": "2023-05-31T12:36:35.393Z"
   },
   {
    "duration": 579,
    "start_time": "2023-05-31T12:36:35.406Z"
   },
   {
    "duration": 321,
    "start_time": "2023-05-31T12:36:35.986Z"
   },
   {
    "duration": 193,
    "start_time": "2023-05-31T12:36:36.309Z"
   },
   {
    "duration": 577,
    "start_time": "2023-05-31T12:36:36.504Z"
   },
   {
    "duration": 185,
    "start_time": "2023-05-31T12:36:37.083Z"
   },
   {
    "duration": 710,
    "start_time": "2023-05-31T12:36:37.270Z"
   },
   {
    "duration": 5,
    "start_time": "2023-05-31T12:36:37.981Z"
   },
   {
    "duration": 511,
    "start_time": "2023-05-31T12:37:06.148Z"
   },
   {
    "duration": 544,
    "start_time": "2023-05-31T12:38:14.337Z"
   },
   {
    "duration": 652,
    "start_time": "2023-05-31T12:46:38.299Z"
   },
   {
    "duration": 649,
    "start_time": "2023-05-31T12:46:38.953Z"
   },
   {
    "duration": 425,
    "start_time": "2023-05-31T12:46:39.604Z"
   },
   {
    "duration": 197,
    "start_time": "2023-05-31T12:46:40.032Z"
   },
   {
    "duration": 124,
    "start_time": "2023-05-31T12:46:40.231Z"
   },
   {
    "duration": 78,
    "start_time": "2023-05-31T12:46:40.357Z"
   },
   {
    "duration": 57,
    "start_time": "2023-05-31T12:46:40.436Z"
   },
   {
    "duration": 53,
    "start_time": "2023-05-31T12:46:40.495Z"
   },
   {
    "duration": 1496,
    "start_time": "2023-05-31T12:46:40.549Z"
   },
   {
    "duration": 20,
    "start_time": "2023-05-31T12:46:42.047Z"
   },
   {
    "duration": 109,
    "start_time": "2023-05-31T12:46:42.069Z"
   },
   {
    "duration": 11,
    "start_time": "2023-05-31T12:46:42.180Z"
   },
   {
    "duration": 534,
    "start_time": "2023-05-31T12:46:42.193Z"
   },
   {
    "duration": 312,
    "start_time": "2023-05-31T12:46:42.730Z"
   },
   {
    "duration": 207,
    "start_time": "2023-05-31T12:46:43.044Z"
   },
   {
    "duration": 466,
    "start_time": "2023-05-31T12:46:43.253Z"
   },
   {
    "duration": 155,
    "start_time": "2023-05-31T12:46:43.725Z"
   },
   {
    "duration": 694,
    "start_time": "2023-05-31T12:46:43.882Z"
   },
   {
    "duration": 4,
    "start_time": "2023-05-31T12:46:44.578Z"
   },
   {
    "duration": 535,
    "start_time": "2023-05-31T12:47:12.023Z"
   },
   {
    "duration": 584,
    "start_time": "2023-05-31T12:47:22.800Z"
   },
   {
    "duration": 516,
    "start_time": "2023-05-31T12:47:33.034Z"
   },
   {
    "duration": 579,
    "start_time": "2023-05-31T12:47:47.717Z"
   },
   {
    "duration": 520,
    "start_time": "2023-05-31T12:47:53.316Z"
   },
   {
    "duration": 9,
    "start_time": "2023-05-31T12:50:31.576Z"
   },
   {
    "duration": 14,
    "start_time": "2023-05-31T12:51:28.851Z"
   },
   {
    "duration": 15,
    "start_time": "2023-05-31T12:51:45.208Z"
   },
   {
    "duration": 14,
    "start_time": "2023-05-31T12:52:01.353Z"
   },
   {
    "duration": 77,
    "start_time": "2023-05-31T12:52:22.039Z"
   },
   {
    "duration": 12,
    "start_time": "2023-05-31T12:52:28.775Z"
   },
   {
    "duration": 22,
    "start_time": "2023-05-31T12:52:49.949Z"
   },
   {
    "duration": 56,
    "start_time": "2023-05-31T12:54:43.476Z"
   },
   {
    "duration": 13,
    "start_time": "2023-05-31T12:54:47.714Z"
   },
   {
    "duration": 15,
    "start_time": "2023-05-31T12:55:28.428Z"
   },
   {
    "duration": 72,
    "start_time": "2023-05-31T12:56:32.247Z"
   },
   {
    "duration": 13,
    "start_time": "2023-05-31T12:56:41.350Z"
   },
   {
    "duration": 93,
    "start_time": "2023-05-31T12:56:56.422Z"
   },
   {
    "duration": 146,
    "start_time": "2023-05-31T12:58:11.981Z"
   },
   {
    "duration": 135,
    "start_time": "2023-05-31T12:58:17.479Z"
   },
   {
    "duration": 123,
    "start_time": "2023-05-31T12:58:33.622Z"
   },
   {
    "duration": 126,
    "start_time": "2023-05-31T12:58:42.255Z"
   },
   {
    "duration": 152,
    "start_time": "2023-05-31T12:58:59.543Z"
   },
   {
    "duration": 294,
    "start_time": "2023-05-31T12:59:28.551Z"
   },
   {
    "duration": 224,
    "start_time": "2023-05-31T13:00:16.247Z"
   },
   {
    "duration": 225,
    "start_time": "2023-05-31T13:00:26.387Z"
   },
   {
    "duration": 28,
    "start_time": "2023-05-31T13:00:37.130Z"
   },
   {
    "duration": 67,
    "start_time": "2023-05-31T13:00:41.271Z"
   },
   {
    "duration": 236,
    "start_time": "2023-05-31T13:00:49.513Z"
   },
   {
    "duration": 228,
    "start_time": "2023-05-31T13:01:14.516Z"
   },
   {
    "duration": 8,
    "start_time": "2023-05-31T13:10:22.550Z"
   },
   {
    "duration": 639,
    "start_time": "2023-05-31T14:16:41.947Z"
   },
   {
    "duration": 702,
    "start_time": "2023-05-31T14:16:42.588Z"
   },
   {
    "duration": 398,
    "start_time": "2023-05-31T14:16:43.292Z"
   },
   {
    "duration": 215,
    "start_time": "2023-05-31T14:16:43.692Z"
   },
   {
    "duration": 92,
    "start_time": "2023-05-31T14:16:43.909Z"
   },
   {
    "duration": 64,
    "start_time": "2023-05-31T14:16:44.026Z"
   },
   {
    "duration": 70,
    "start_time": "2023-05-31T14:16:44.092Z"
   },
   {
    "duration": 31,
    "start_time": "2023-05-31T14:16:44.164Z"
   },
   {
    "duration": 1609,
    "start_time": "2023-05-31T14:16:44.197Z"
   },
   {
    "duration": 5,
    "start_time": "2023-05-31T14:16:45.809Z"
   },
   {
    "duration": 0,
    "start_time": "2023-05-31T14:16:45.827Z"
   },
   {
    "duration": 0,
    "start_time": "2023-05-31T14:16:45.828Z"
   },
   {
    "duration": 0,
    "start_time": "2023-05-31T14:16:45.830Z"
   },
   {
    "duration": 0,
    "start_time": "2023-05-31T14:16:45.831Z"
   },
   {
    "duration": 0,
    "start_time": "2023-05-31T14:16:45.833Z"
   },
   {
    "duration": 0,
    "start_time": "2023-05-31T14:16:45.835Z"
   },
   {
    "duration": 0,
    "start_time": "2023-05-31T14:16:45.837Z"
   },
   {
    "duration": 0,
    "start_time": "2023-05-31T14:16:45.838Z"
   },
   {
    "duration": 0,
    "start_time": "2023-05-31T14:16:45.840Z"
   },
   {
    "duration": 0,
    "start_time": "2023-05-31T14:16:45.842Z"
   },
   {
    "duration": 0,
    "start_time": "2023-05-31T14:16:45.843Z"
   },
   {
    "duration": 26,
    "start_time": "2023-05-31T14:16:58.625Z"
   },
   {
    "duration": 110,
    "start_time": "2023-05-31T14:17:02.515Z"
   },
   {
    "duration": 18,
    "start_time": "2023-05-31T14:17:02.669Z"
   },
   {
    "duration": 609,
    "start_time": "2023-05-31T14:17:02.844Z"
   },
   {
    "duration": 344,
    "start_time": "2023-05-31T14:17:03.456Z"
   },
   {
    "duration": 228,
    "start_time": "2023-05-31T14:17:03.802Z"
   },
   {
    "duration": 499,
    "start_time": "2023-05-31T14:17:04.033Z"
   },
   {
    "duration": 170,
    "start_time": "2023-05-31T14:17:04.537Z"
   },
   {
    "duration": 745,
    "start_time": "2023-05-31T14:17:04.709Z"
   },
   {
    "duration": 295,
    "start_time": "2023-05-31T14:17:05.456Z"
   },
   {
    "duration": 718,
    "start_time": "2023-05-31T14:17:05.753Z"
   },
   {
    "duration": 0,
    "start_time": "2023-05-31T14:17:06.473Z"
   },
   {
    "duration": 7,
    "start_time": "2023-05-31T14:18:41.548Z"
   },
   {
    "duration": 87,
    "start_time": "2023-05-31T14:20:11.581Z"
   },
   {
    "duration": 18,
    "start_time": "2023-05-31T14:20:16.672Z"
   },
   {
    "duration": 330,
    "start_time": "2023-05-31T14:24:08.997Z"
   },
   {
    "duration": 51,
    "start_time": "2023-05-31T14:24:43.085Z"
   },
   {
    "duration": 9,
    "start_time": "2023-05-31T14:24:43.882Z"
   },
   {
    "duration": 5,
    "start_time": "2023-05-31T14:24:57.558Z"
   },
   {
    "duration": 16,
    "start_time": "2023-05-31T14:25:12.345Z"
   },
   {
    "duration": 53,
    "start_time": "2023-05-31T14:25:44.871Z"
   },
   {
    "duration": 5,
    "start_time": "2023-05-31T14:25:46.241Z"
   },
   {
    "duration": 461,
    "start_time": "2023-05-31T14:25:52.454Z"
   },
   {
    "duration": 7,
    "start_time": "2023-05-31T14:32:53.368Z"
   },
   {
    "duration": 13,
    "start_time": "2023-05-31T14:32:57.267Z"
   },
   {
    "duration": 3,
    "start_time": "2023-05-31T14:33:27.538Z"
   },
   {
    "duration": 7,
    "start_time": "2023-05-31T14:33:37.524Z"
   },
   {
    "duration": 502,
    "start_time": "2023-05-31T14:33:38.459Z"
   },
   {
    "duration": 724,
    "start_time": "2023-05-31T14:33:54.481Z"
   },
   {
    "duration": 522,
    "start_time": "2023-05-31T14:34:21.094Z"
   },
   {
    "duration": 82,
    "start_time": "2023-05-31T14:35:26.890Z"
   },
   {
    "duration": 20,
    "start_time": "2023-05-31T14:35:38.459Z"
   },
   {
    "duration": 26,
    "start_time": "2023-05-31T14:35:47.388Z"
   },
   {
    "duration": 23,
    "start_time": "2023-05-31T14:35:59.735Z"
   },
   {
    "duration": 24,
    "start_time": "2023-05-31T14:36:09.023Z"
   },
   {
    "duration": 524,
    "start_time": "2023-05-31T14:36:23.979Z"
   },
   {
    "duration": 49,
    "start_time": "2023-06-01T09:41:43.081Z"
   },
   {
    "duration": 82,
    "start_time": "2023-06-01T09:41:43.694Z"
   },
   {
    "duration": 6,
    "start_time": "2023-06-01T09:41:49.282Z"
   },
   {
    "duration": 768,
    "start_time": "2023-06-01T09:42:01.838Z"
   },
   {
    "duration": 1021,
    "start_time": "2023-06-01T09:42:02.608Z"
   },
   {
    "duration": 42,
    "start_time": "2023-06-01T09:42:03.630Z"
   },
   {
    "duration": 21,
    "start_time": "2023-06-01T09:42:33.730Z"
   },
   {
    "duration": 316,
    "start_time": "2023-06-01T09:42:57.330Z"
   },
   {
    "duration": 286,
    "start_time": "2023-06-01T09:43:13.412Z"
   },
   {
    "duration": 12,
    "start_time": "2023-06-01T09:43:40.951Z"
   },
   {
    "duration": 166,
    "start_time": "2023-06-01T09:44:03.377Z"
   },
   {
    "duration": 600,
    "start_time": "2023-06-01T09:44:10.849Z"
   },
   {
    "duration": 572,
    "start_time": "2023-06-01T09:44:11.451Z"
   },
   {
    "duration": 360,
    "start_time": "2023-06-01T09:44:12.024Z"
   },
   {
    "duration": 199,
    "start_time": "2023-06-01T09:44:12.385Z"
   },
   {
    "duration": 239,
    "start_time": "2023-06-01T09:44:12.586Z"
   },
   {
    "duration": 46,
    "start_time": "2023-06-01T09:44:12.827Z"
   },
   {
    "duration": 64,
    "start_time": "2023-06-01T09:44:12.875Z"
   },
   {
    "duration": 33,
    "start_time": "2023-06-01T09:44:12.940Z"
   },
   {
    "duration": 1317,
    "start_time": "2023-06-01T09:44:12.975Z"
   },
   {
    "duration": 26,
    "start_time": "2023-06-01T09:44:14.293Z"
   },
   {
    "duration": 106,
    "start_time": "2023-06-01T09:44:14.320Z"
   },
   {
    "duration": 12,
    "start_time": "2023-06-01T09:44:14.427Z"
   },
   {
    "duration": 595,
    "start_time": "2023-06-01T09:44:14.440Z"
   },
   {
    "duration": 281,
    "start_time": "2023-06-01T09:44:15.038Z"
   },
   {
    "duration": 192,
    "start_time": "2023-06-01T09:44:15.321Z"
   },
   {
    "duration": 482,
    "start_time": "2023-06-01T09:44:15.515Z"
   },
   {
    "duration": 159,
    "start_time": "2023-06-01T09:44:15.999Z"
   },
   {
    "duration": 623,
    "start_time": "2023-06-01T09:44:16.159Z"
   },
   {
    "duration": 269,
    "start_time": "2023-06-01T09:44:16.784Z"
   },
   {
    "duration": 17,
    "start_time": "2023-06-01T09:44:17.054Z"
   },
   {
    "duration": 356,
    "start_time": "2023-06-01T09:44:17.073Z"
   },
   {
    "duration": 55,
    "start_time": "2023-06-01T09:44:17.430Z"
   },
   {
    "duration": 7,
    "start_time": "2023-06-01T09:44:17.487Z"
   },
   {
    "duration": 4,
    "start_time": "2023-06-01T09:44:17.496Z"
   },
   {
    "duration": 48,
    "start_time": "2023-06-01T09:44:17.515Z"
   },
   {
    "duration": 4,
    "start_time": "2023-06-01T09:44:17.565Z"
   },
   {
    "duration": 479,
    "start_time": "2023-06-01T09:44:17.571Z"
   },
   {
    "duration": 10,
    "start_time": "2023-06-01T09:44:18.053Z"
   },
   {
    "duration": 572,
    "start_time": "2023-06-01T09:44:18.065Z"
   },
   {
    "duration": 61,
    "start_time": "2023-06-01T09:44:18.639Z"
   },
   {
    "duration": 32,
    "start_time": "2023-06-01T09:44:18.702Z"
   },
   {
    "duration": 39,
    "start_time": "2023-06-01T09:44:18.735Z"
   },
   {
    "duration": 17,
    "start_time": "2023-06-01T09:44:18.775Z"
   },
   {
    "duration": 17,
    "start_time": "2023-06-01T09:44:18.794Z"
   },
   {
    "duration": 407,
    "start_time": "2023-06-01T09:44:18.816Z"
   },
   {
    "duration": 596,
    "start_time": "2023-06-01T12:22:12.053Z"
   },
   {
    "duration": 590,
    "start_time": "2023-06-01T12:22:13.061Z"
   },
   {
    "duration": 358,
    "start_time": "2023-06-01T12:22:14.190Z"
   }
  ],
  "kernelspec": {
   "display_name": "Python 3 (ipykernel)",
   "language": "python",
   "name": "python3"
  },
  "language_info": {
   "codemirror_mode": {
    "name": "ipython",
    "version": 3
   },
   "file_extension": ".py",
   "mimetype": "text/x-python",
   "name": "python",
   "nbconvert_exporter": "python",
   "pygments_lexer": "ipython3",
   "version": "3.9.5"
  },
  "toc": {
   "base_numbering": 1,
   "nav_menu": {},
   "number_sections": true,
   "sideBar": true,
   "skip_h1_title": true,
   "title_cell": "Table of Contents",
   "title_sidebar": "Contents",
   "toc_cell": false,
   "toc_position": {},
   "toc_section_display": true,
   "toc_window_display": false
  }
 },
 "nbformat": 4,
 "nbformat_minor": 4
}
